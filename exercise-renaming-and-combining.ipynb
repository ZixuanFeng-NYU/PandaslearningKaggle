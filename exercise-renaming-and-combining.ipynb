{
 "cells": [
  {
   "cell_type": "markdown",
   "metadata": {
    "papermill": {
     "duration": 0.015736,
     "end_time": "2021-01-02T11:39:07.968272",
     "exception": false,
     "start_time": "2021-01-02T11:39:07.952536",
     "status": "completed"
    },
    "tags": []
   },
   "source": [
    "**This notebook is an exercise in the [Pandas](https://www.kaggle.com/learn/pandas) course.  You can reference the tutorial at [this link](https://www.kaggle.com/residentmario/renaming-and-combining).**\n",
    "\n",
    "---\n"
   ]
  },
  {
   "cell_type": "markdown",
   "metadata": {
    "papermill": {
     "duration": 0.012863,
     "end_time": "2021-01-02T11:39:07.994381",
     "exception": false,
     "start_time": "2021-01-02T11:39:07.981518",
     "status": "completed"
    },
    "tags": []
   },
   "source": [
    "# Introduction\n",
    "\n",
    "Run the following cell to load your data and some utility functions."
   ]
  },
  {
   "cell_type": "code",
   "execution_count": 1,
   "metadata": {
    "execution": {
     "iopub.execute_input": "2021-01-02T11:39:08.024149Z",
     "iopub.status.busy": "2021-01-02T11:39:08.023499Z",
     "iopub.status.idle": "2021-01-02T11:39:12.029670Z",
     "shell.execute_reply": "2021-01-02T11:39:12.030406Z"
    },
    "papermill": {
     "duration": 4.022865,
     "end_time": "2021-01-02T11:39:12.030588",
     "exception": false,
     "start_time": "2021-01-02T11:39:08.007723",
     "status": "completed"
    },
    "tags": []
   },
   "outputs": [
    {
     "name": "stdout",
     "output_type": "stream",
     "text": [
      "Setup complete.\n"
     ]
    }
   ],
   "source": [
    "import pandas as pd\n",
    "\n",
    "reviews = pd.read_csv(\"../input/wine-reviews/winemag-data-130k-v2.csv\", index_col=0)\n",
    "\n",
    "from learntools.core import binder; binder.bind(globals())\n",
    "from learntools.pandas.renaming_and_combining import *\n",
    "print(\"Setup complete.\")"
   ]
  },
  {
   "cell_type": "markdown",
   "metadata": {
    "papermill": {
     "duration": 0.013619,
     "end_time": "2021-01-02T11:39:12.058730",
     "exception": false,
     "start_time": "2021-01-02T11:39:12.045111",
     "status": "completed"
    },
    "tags": []
   },
   "source": [
    "# Exercises\n",
    "\n",
    "View the first several lines of your data by running the cell below:"
   ]
  },
  {
   "cell_type": "code",
   "execution_count": 2,
   "metadata": {
    "execution": {
     "iopub.execute_input": "2021-01-02T11:39:12.100357Z",
     "iopub.status.busy": "2021-01-02T11:39:12.099673Z",
     "iopub.status.idle": "2021-01-02T11:39:12.111621Z",
     "shell.execute_reply": "2021-01-02T11:39:12.112214Z"
    },
    "papermill": {
     "duration": 0.04002,
     "end_time": "2021-01-02T11:39:12.112353",
     "exception": false,
     "start_time": "2021-01-02T11:39:12.072333",
     "status": "completed"
    },
    "tags": []
   },
   "outputs": [
    {
     "data": {
      "text/html": [
       "<div>\n",
       "<style scoped>\n",
       "    .dataframe tbody tr th:only-of-type {\n",
       "        vertical-align: middle;\n",
       "    }\n",
       "\n",
       "    .dataframe tbody tr th {\n",
       "        vertical-align: top;\n",
       "    }\n",
       "\n",
       "    .dataframe thead th {\n",
       "        text-align: right;\n",
       "    }\n",
       "</style>\n",
       "<table border=\"1\" class=\"dataframe\">\n",
       "  <thead>\n",
       "    <tr style=\"text-align: right;\">\n",
       "      <th></th>\n",
       "      <th>country</th>\n",
       "      <th>description</th>\n",
       "      <th>designation</th>\n",
       "      <th>points</th>\n",
       "      <th>price</th>\n",
       "      <th>province</th>\n",
       "      <th>region_1</th>\n",
       "      <th>region_2</th>\n",
       "      <th>taster_name</th>\n",
       "      <th>taster_twitter_handle</th>\n",
       "      <th>title</th>\n",
       "      <th>variety</th>\n",
       "      <th>winery</th>\n",
       "    </tr>\n",
       "  </thead>\n",
       "  <tbody>\n",
       "    <tr>\n",
       "      <th>0</th>\n",
       "      <td>Italy</td>\n",
       "      <td>Aromas include tropical fruit, broom, brimston...</td>\n",
       "      <td>Vulkà Bianco</td>\n",
       "      <td>87</td>\n",
       "      <td>NaN</td>\n",
       "      <td>Sicily &amp; Sardinia</td>\n",
       "      <td>Etna</td>\n",
       "      <td>NaN</td>\n",
       "      <td>Kerin O’Keefe</td>\n",
       "      <td>@kerinokeefe</td>\n",
       "      <td>Nicosia 2013 Vulkà Bianco  (Etna)</td>\n",
       "      <td>White Blend</td>\n",
       "      <td>Nicosia</td>\n",
       "    </tr>\n",
       "    <tr>\n",
       "      <th>1</th>\n",
       "      <td>Portugal</td>\n",
       "      <td>This is ripe and fruity, a wine that is smooth...</td>\n",
       "      <td>Avidagos</td>\n",
       "      <td>87</td>\n",
       "      <td>15.0</td>\n",
       "      <td>Douro</td>\n",
       "      <td>NaN</td>\n",
       "      <td>NaN</td>\n",
       "      <td>Roger Voss</td>\n",
       "      <td>@vossroger</td>\n",
       "      <td>Quinta dos Avidagos 2011 Avidagos Red (Douro)</td>\n",
       "      <td>Portuguese Red</td>\n",
       "      <td>Quinta dos Avidagos</td>\n",
       "    </tr>\n",
       "    <tr>\n",
       "      <th>2</th>\n",
       "      <td>US</td>\n",
       "      <td>Tart and snappy, the flavors of lime flesh and...</td>\n",
       "      <td>NaN</td>\n",
       "      <td>87</td>\n",
       "      <td>14.0</td>\n",
       "      <td>Oregon</td>\n",
       "      <td>Willamette Valley</td>\n",
       "      <td>Willamette Valley</td>\n",
       "      <td>Paul Gregutt</td>\n",
       "      <td>@paulgwine</td>\n",
       "      <td>Rainstorm 2013 Pinot Gris (Willamette Valley)</td>\n",
       "      <td>Pinot Gris</td>\n",
       "      <td>Rainstorm</td>\n",
       "    </tr>\n",
       "    <tr>\n",
       "      <th>3</th>\n",
       "      <td>US</td>\n",
       "      <td>Pineapple rind, lemon pith and orange blossom ...</td>\n",
       "      <td>Reserve Late Harvest</td>\n",
       "      <td>87</td>\n",
       "      <td>13.0</td>\n",
       "      <td>Michigan</td>\n",
       "      <td>Lake Michigan Shore</td>\n",
       "      <td>NaN</td>\n",
       "      <td>Alexander Peartree</td>\n",
       "      <td>NaN</td>\n",
       "      <td>St. Julian 2013 Reserve Late Harvest Riesling ...</td>\n",
       "      <td>Riesling</td>\n",
       "      <td>St. Julian</td>\n",
       "    </tr>\n",
       "    <tr>\n",
       "      <th>4</th>\n",
       "      <td>US</td>\n",
       "      <td>Much like the regular bottling from 2012, this...</td>\n",
       "      <td>Vintner's Reserve Wild Child Block</td>\n",
       "      <td>87</td>\n",
       "      <td>65.0</td>\n",
       "      <td>Oregon</td>\n",
       "      <td>Willamette Valley</td>\n",
       "      <td>Willamette Valley</td>\n",
       "      <td>Paul Gregutt</td>\n",
       "      <td>@paulgwine</td>\n",
       "      <td>Sweet Cheeks 2012 Vintner's Reserve Wild Child...</td>\n",
       "      <td>Pinot Noir</td>\n",
       "      <td>Sweet Cheeks</td>\n",
       "    </tr>\n",
       "  </tbody>\n",
       "</table>\n",
       "</div>"
      ],
      "text/plain": [
       "    country                                        description  \\\n",
       "0     Italy  Aromas include tropical fruit, broom, brimston...   \n",
       "1  Portugal  This is ripe and fruity, a wine that is smooth...   \n",
       "2        US  Tart and snappy, the flavors of lime flesh and...   \n",
       "3        US  Pineapple rind, lemon pith and orange blossom ...   \n",
       "4        US  Much like the regular bottling from 2012, this...   \n",
       "\n",
       "                          designation  points  price           province  \\\n",
       "0                        Vulkà Bianco      87    NaN  Sicily & Sardinia   \n",
       "1                            Avidagos      87   15.0              Douro   \n",
       "2                                 NaN      87   14.0             Oregon   \n",
       "3                Reserve Late Harvest      87   13.0           Michigan   \n",
       "4  Vintner's Reserve Wild Child Block      87   65.0             Oregon   \n",
       "\n",
       "              region_1           region_2         taster_name  \\\n",
       "0                 Etna                NaN       Kerin O’Keefe   \n",
       "1                  NaN                NaN          Roger Voss   \n",
       "2    Willamette Valley  Willamette Valley        Paul Gregutt   \n",
       "3  Lake Michigan Shore                NaN  Alexander Peartree   \n",
       "4    Willamette Valley  Willamette Valley        Paul Gregutt   \n",
       "\n",
       "  taster_twitter_handle                                              title  \\\n",
       "0          @kerinokeefe                  Nicosia 2013 Vulkà Bianco  (Etna)   \n",
       "1            @vossroger      Quinta dos Avidagos 2011 Avidagos Red (Douro)   \n",
       "2           @paulgwine       Rainstorm 2013 Pinot Gris (Willamette Valley)   \n",
       "3                   NaN  St. Julian 2013 Reserve Late Harvest Riesling ...   \n",
       "4           @paulgwine   Sweet Cheeks 2012 Vintner's Reserve Wild Child...   \n",
       "\n",
       "          variety               winery  \n",
       "0     White Blend              Nicosia  \n",
       "1  Portuguese Red  Quinta dos Avidagos  \n",
       "2      Pinot Gris            Rainstorm  \n",
       "3        Riesling           St. Julian  \n",
       "4      Pinot Noir         Sweet Cheeks  "
      ]
     },
     "execution_count": 2,
     "metadata": {},
     "output_type": "execute_result"
    }
   ],
   "source": [
    "reviews.head()"
   ]
  },
  {
   "cell_type": "markdown",
   "metadata": {
    "papermill": {
     "duration": 0.014208,
     "end_time": "2021-01-02T11:39:12.141158",
     "exception": false,
     "start_time": "2021-01-02T11:39:12.126950",
     "status": "completed"
    },
    "tags": []
   },
   "source": [
    "## 1.\n",
    "`region_1` and `region_2` are pretty uninformative names for locale columns in the dataset. Create a copy of `reviews` with these columns renamed to `region` and `locale`, respectively."
   ]
  },
  {
   "cell_type": "code",
   "execution_count": 3,
   "metadata": {
    "execution": {
     "iopub.execute_input": "2021-01-02T11:39:12.173032Z",
     "iopub.status.busy": "2021-01-02T11:39:12.172407Z",
     "iopub.status.idle": "2021-01-02T11:39:12.217685Z",
     "shell.execute_reply": "2021-01-02T11:39:12.217029Z"
    },
    "papermill": {
     "duration": 0.06231,
     "end_time": "2021-01-02T11:39:12.217831",
     "exception": false,
     "start_time": "2021-01-02T11:39:12.155521",
     "status": "completed"
    },
    "tags": []
   },
   "outputs": [
    {
     "name": "stdout",
     "output_type": "stream",
     "text": [
      "         country                                        description  \\\n",
      "0          Italy  Aromas include tropical fruit, broom, brimston...   \n",
      "1       Portugal  This is ripe and fruity, a wine that is smooth...   \n",
      "2             US  Tart and snappy, the flavors of lime flesh and...   \n",
      "3             US  Pineapple rind, lemon pith and orange blossom ...   \n",
      "4             US  Much like the regular bottling from 2012, this...   \n",
      "...          ...                                                ...   \n",
      "129966   Germany  Notes of honeysuckle and cantaloupe sweeten th...   \n",
      "129967        US  Citation is given as much as a decade of bottl...   \n",
      "129968    France  Well-drained gravel soil gives this wine its c...   \n",
      "129969    France  A dry style of Pinot Gris, this is crisp with ...   \n",
      "129970    France  Big, rich and off-dry, this is powered by inte...   \n",
      "\n",
      "                                   designation  points  price  \\\n",
      "0                                 Vulkà Bianco      87    NaN   \n",
      "1                                     Avidagos      87   15.0   \n",
      "2                                          NaN      87   14.0   \n",
      "3                         Reserve Late Harvest      87   13.0   \n",
      "4           Vintner's Reserve Wild Child Block      87   65.0   \n",
      "...                                        ...     ...    ...   \n",
      "129966  Brauneberger Juffer-Sonnenuhr Spätlese      90   28.0   \n",
      "129967                                     NaN      90   75.0   \n",
      "129968                                   Kritt      90   30.0   \n",
      "129969                                     NaN      90   32.0   \n",
      "129970           Lieu-dit Harth Cuvée Caroline      90   21.0   \n",
      "\n",
      "                 province               region             locale  \\\n",
      "0       Sicily & Sardinia                 Etna                NaN   \n",
      "1                   Douro                  NaN                NaN   \n",
      "2                  Oregon    Willamette Valley  Willamette Valley   \n",
      "3                Michigan  Lake Michigan Shore                NaN   \n",
      "4                  Oregon    Willamette Valley  Willamette Valley   \n",
      "...                   ...                  ...                ...   \n",
      "129966              Mosel                  NaN                NaN   \n",
      "129967             Oregon               Oregon       Oregon Other   \n",
      "129968             Alsace               Alsace                NaN   \n",
      "129969             Alsace               Alsace                NaN   \n",
      "129970             Alsace               Alsace                NaN   \n",
      "\n",
      "               taster_name taster_twitter_handle  \\\n",
      "0            Kerin O’Keefe          @kerinokeefe   \n",
      "1               Roger Voss            @vossroger   \n",
      "2             Paul Gregutt           @paulgwine    \n",
      "3       Alexander Peartree                   NaN   \n",
      "4             Paul Gregutt           @paulgwine    \n",
      "...                    ...                   ...   \n",
      "129966  Anna Lee C. Iijima                   NaN   \n",
      "129967        Paul Gregutt           @paulgwine    \n",
      "129968          Roger Voss            @vossroger   \n",
      "129969          Roger Voss            @vossroger   \n",
      "129970          Roger Voss            @vossroger   \n",
      "\n",
      "                                                    title         variety  \\\n",
      "0                       Nicosia 2013 Vulkà Bianco  (Etna)     White Blend   \n",
      "1           Quinta dos Avidagos 2011 Avidagos Red (Douro)  Portuguese Red   \n",
      "2           Rainstorm 2013 Pinot Gris (Willamette Valley)      Pinot Gris   \n",
      "3       St. Julian 2013 Reserve Late Harvest Riesling ...        Riesling   \n",
      "4       Sweet Cheeks 2012 Vintner's Reserve Wild Child...      Pinot Noir   \n",
      "...                                                   ...             ...   \n",
      "129966  Dr. H. Thanisch (Erben Müller-Burggraef) 2013 ...        Riesling   \n",
      "129967                  Citation 2004 Pinot Noir (Oregon)      Pinot Noir   \n",
      "129968  Domaine Gresser 2013 Kritt Gewurztraminer (Als...  Gewürztraminer   \n",
      "129969      Domaine Marcel Deiss 2012 Pinot Gris (Alsace)      Pinot Gris   \n",
      "129970  Domaine Schoffit 2012 Lieu-dit Harth Cuvée Car...  Gewürztraminer   \n",
      "\n",
      "                                          winery  \n",
      "0                                        Nicosia  \n",
      "1                            Quinta dos Avidagos  \n",
      "2                                      Rainstorm  \n",
      "3                                     St. Julian  \n",
      "4                                   Sweet Cheeks  \n",
      "...                                          ...  \n",
      "129966  Dr. H. Thanisch (Erben Müller-Burggraef)  \n",
      "129967                                  Citation  \n",
      "129968                           Domaine Gresser  \n",
      "129969                      Domaine Marcel Deiss  \n",
      "129970                          Domaine Schoffit  \n",
      "\n",
      "[129971 rows x 13 columns]\n"
     ]
    },
    {
     "data": {
      "application/javascript": [
       "parent.postMessage({\"jupyterEvent\": \"custom.exercise_interaction\", \"data\": {\"outcomeType\": 1, \"valueTowardsCompletion\": 0.25, \"interactionType\": 1, \"questionType\": 1, \"questionId\": \"1_RenameCols\", \"learnToolsVersion\": \"0.3.4\", \"failureMessage\": \"\", \"exceptionClass\": \"\", \"trace\": \"\"}}, \"*\")"
      ],
      "text/plain": [
       "<IPython.core.display.Javascript object>"
      ]
     },
     "metadata": {},
     "output_type": "display_data"
    },
    {
     "data": {
      "text/markdown": [
       "<span style=\"color:#33cc33\">Correct</span>"
      ],
      "text/plain": [
       "Correct"
      ]
     },
     "metadata": {},
     "output_type": "display_data"
    }
   ],
   "source": [
    "# Your code here\n",
    "renamed = reviews.rename(columns={'region_1': 'region','region_2':'locale'})\n",
    "print(renamed)\n",
    "\n",
    "# Check your answer\n",
    "q1.check()"
   ]
  },
  {
   "cell_type": "code",
   "execution_count": 4,
   "metadata": {
    "execution": {
     "iopub.execute_input": "2021-01-02T11:39:12.257493Z",
     "iopub.status.busy": "2021-01-02T11:39:12.256611Z",
     "iopub.status.idle": "2021-01-02T11:39:12.264779Z",
     "shell.execute_reply": "2021-01-02T11:39:12.265328Z"
    },
    "papermill": {
     "duration": 0.030406,
     "end_time": "2021-01-02T11:39:12.265472",
     "exception": false,
     "start_time": "2021-01-02T11:39:12.235066",
     "status": "completed"
    },
    "tags": []
   },
   "outputs": [
    {
     "data": {
      "application/javascript": [
       "parent.postMessage({\"jupyterEvent\": \"custom.exercise_interaction\", \"data\": {\"interactionType\": 2, \"questionType\": 1, \"questionId\": \"1_RenameCols\", \"learnToolsVersion\": \"0.3.4\", \"valueTowardsCompletion\": 0.0, \"failureMessage\": \"\", \"exceptionClass\": \"\", \"trace\": \"\", \"outcomeType\": 4}}, \"*\")"
      ],
      "text/plain": [
       "<IPython.core.display.Javascript object>"
      ]
     },
     "metadata": {},
     "output_type": "display_data"
    },
    {
     "data": {
      "text/markdown": [
       "<span style=\"color:#3366cc\">Hint:</span> Use `rename()`, and specify a `columns` parameter."
      ],
      "text/plain": [
       "Hint: Use `rename()`, and specify a `columns` parameter."
      ]
     },
     "metadata": {},
     "output_type": "display_data"
    },
    {
     "data": {
      "application/javascript": [
       "parent.postMessage({\"jupyterEvent\": \"custom.exercise_interaction\", \"data\": {\"interactionType\": 3, \"questionType\": 1, \"questionId\": \"1_RenameCols\", \"learnToolsVersion\": \"0.3.4\", \"valueTowardsCompletion\": 0.0, \"failureMessage\": \"\", \"exceptionClass\": \"\", \"trace\": \"\", \"outcomeType\": 4}}, \"*\")"
      ],
      "text/plain": [
       "<IPython.core.display.Javascript object>"
      ]
     },
     "metadata": {},
     "output_type": "display_data"
    },
    {
     "data": {
      "text/markdown": [
       "<span style=\"color:#33cc99\">Solution:</span> \n",
       "```python\n",
       "renamed = reviews.rename(columns=dict(region_1='region', region_2='locale'))\n",
       "```"
      ],
      "text/plain": [
       "Solution: \n",
       "```python\n",
       "renamed = reviews.rename(columns=dict(region_1='region', region_2='locale'))\n",
       "```"
      ]
     },
     "metadata": {},
     "output_type": "display_data"
    }
   ],
   "source": [
    "q1.hint()\n",
    "q1.solution()"
   ]
  },
  {
   "cell_type": "markdown",
   "metadata": {
    "papermill": {
     "duration": 0.017797,
     "end_time": "2021-01-02T11:39:12.307490",
     "exception": false,
     "start_time": "2021-01-02T11:39:12.289693",
     "status": "completed"
    },
    "tags": []
   },
   "source": [
    "## 2.\n",
    "Set the index name in the dataset to `wines`."
   ]
  },
  {
   "cell_type": "code",
   "execution_count": 5,
   "metadata": {
    "execution": {
     "iopub.execute_input": "2021-01-02T11:39:12.354745Z",
     "iopub.status.busy": "2021-01-02T11:39:12.353497Z",
     "iopub.status.idle": "2021-01-02T11:39:12.504614Z",
     "shell.execute_reply": "2021-01-02T11:39:12.505630Z"
    },
    "papermill": {
     "duration": 0.179491,
     "end_time": "2021-01-02T11:39:12.505887",
     "exception": false,
     "start_time": "2021-01-02T11:39:12.326396",
     "status": "completed"
    },
    "tags": []
   },
   "outputs": [
    {
     "name": "stdout",
     "output_type": "stream",
     "text": [
      "         country                                        description  \\\n",
      "0          Italy  Aromas include tropical fruit, broom, brimston...   \n",
      "1       Portugal  This is ripe and fruity, a wine that is smooth...   \n",
      "2             US  Tart and snappy, the flavors of lime flesh and...   \n",
      "3             US  Pineapple rind, lemon pith and orange blossom ...   \n",
      "4             US  Much like the regular bottling from 2012, this...   \n",
      "...          ...                                                ...   \n",
      "129966   Germany  Notes of honeysuckle and cantaloupe sweeten th...   \n",
      "129967        US  Citation is given as much as a decade of bottl...   \n",
      "129968    France  Well-drained gravel soil gives this wine its c...   \n",
      "129969    France  A dry style of Pinot Gris, this is crisp with ...   \n",
      "129970    France  Big, rich and off-dry, this is powered by inte...   \n",
      "\n",
      "                                   designation  points  price  \\\n",
      "0                                 Vulkà Bianco      87    NaN   \n",
      "1                                     Avidagos      87   15.0   \n",
      "2                                          NaN      87   14.0   \n",
      "3                         Reserve Late Harvest      87   13.0   \n",
      "4           Vintner's Reserve Wild Child Block      87   65.0   \n",
      "...                                        ...     ...    ...   \n",
      "129966  Brauneberger Juffer-Sonnenuhr Spätlese      90   28.0   \n",
      "129967                                     NaN      90   75.0   \n",
      "129968                                   Kritt      90   30.0   \n",
      "129969                                     NaN      90   32.0   \n",
      "129970           Lieu-dit Harth Cuvée Caroline      90   21.0   \n",
      "\n",
      "                 province             region_1           region_2  \\\n",
      "0       Sicily & Sardinia                 Etna                NaN   \n",
      "1                   Douro                  NaN                NaN   \n",
      "2                  Oregon    Willamette Valley  Willamette Valley   \n",
      "3                Michigan  Lake Michigan Shore                NaN   \n",
      "4                  Oregon    Willamette Valley  Willamette Valley   \n",
      "...                   ...                  ...                ...   \n",
      "129966              Mosel                  NaN                NaN   \n",
      "129967             Oregon               Oregon       Oregon Other   \n",
      "129968             Alsace               Alsace                NaN   \n",
      "129969             Alsace               Alsace                NaN   \n",
      "129970             Alsace               Alsace                NaN   \n",
      "\n",
      "               taster_name taster_twitter_handle  \\\n",
      "0            Kerin O’Keefe          @kerinokeefe   \n",
      "1               Roger Voss            @vossroger   \n",
      "2             Paul Gregutt           @paulgwine    \n",
      "3       Alexander Peartree                   NaN   \n",
      "4             Paul Gregutt           @paulgwine    \n",
      "...                    ...                   ...   \n",
      "129966  Anna Lee C. Iijima                   NaN   \n",
      "129967        Paul Gregutt           @paulgwine    \n",
      "129968          Roger Voss            @vossroger   \n",
      "129969          Roger Voss            @vossroger   \n",
      "129970          Roger Voss            @vossroger   \n",
      "\n",
      "                                                    title         variety  \\\n",
      "0                       Nicosia 2013 Vulkà Bianco  (Etna)     White Blend   \n",
      "1           Quinta dos Avidagos 2011 Avidagos Red (Douro)  Portuguese Red   \n",
      "2           Rainstorm 2013 Pinot Gris (Willamette Valley)      Pinot Gris   \n",
      "3       St. Julian 2013 Reserve Late Harvest Riesling ...        Riesling   \n",
      "4       Sweet Cheeks 2012 Vintner's Reserve Wild Child...      Pinot Noir   \n",
      "...                                                   ...             ...   \n",
      "129966  Dr. H. Thanisch (Erben Müller-Burggraef) 2013 ...        Riesling   \n",
      "129967                  Citation 2004 Pinot Noir (Oregon)      Pinot Noir   \n",
      "129968  Domaine Gresser 2013 Kritt Gewurztraminer (Als...  Gewürztraminer   \n",
      "129969      Domaine Marcel Deiss 2012 Pinot Gris (Alsace)      Pinot Gris   \n",
      "129970  Domaine Schoffit 2012 Lieu-dit Harth Cuvée Car...  Gewürztraminer   \n",
      "\n",
      "                                          winery  \n",
      "0                                        Nicosia  \n",
      "1                            Quinta dos Avidagos  \n",
      "2                                      Rainstorm  \n",
      "3                                     St. Julian  \n",
      "4                                   Sweet Cheeks  \n",
      "...                                          ...  \n",
      "129966  Dr. H. Thanisch (Erben Müller-Burggraef)  \n",
      "129967                                  Citation  \n",
      "129968                           Domaine Gresser  \n",
      "129969                      Domaine Marcel Deiss  \n",
      "129970                          Domaine Schoffit  \n",
      "\n",
      "[129971 rows x 13 columns]\n"
     ]
    },
    {
     "data": {
      "application/javascript": [
       "parent.postMessage({\"jupyterEvent\": \"custom.exercise_interaction\", \"data\": {\"outcomeType\": 1, \"valueTowardsCompletion\": 0.25, \"interactionType\": 1, \"questionType\": 1, \"questionId\": \"2_RenameIndex\", \"learnToolsVersion\": \"0.3.4\", \"failureMessage\": \"\", \"exceptionClass\": \"\", \"trace\": \"\"}}, \"*\")"
      ],
      "text/plain": [
       "<IPython.core.display.Javascript object>"
      ]
     },
     "metadata": {},
     "output_type": "display_data"
    },
    {
     "data": {
      "text/markdown": [
       "<span style=\"color:#33cc33\">Correct</span>"
      ],
      "text/plain": [
       "Correct"
      ]
     },
     "metadata": {},
     "output_type": "display_data"
    }
   ],
   "source": [
    "reindexed = reviews.rename(index={'country': 'wines'})\n",
    "#reindexed = reviews.rename_axis('wines', axis='rows')\n",
    "print(reindexed)\n",
    "# Check your answer\n",
    "q2.check()"
   ]
  },
  {
   "cell_type": "code",
   "execution_count": 6,
   "metadata": {
    "execution": {
     "iopub.execute_input": "2021-01-02T11:39:12.558388Z",
     "iopub.status.busy": "2021-01-02T11:39:12.557585Z",
     "iopub.status.idle": "2021-01-02T11:39:12.567348Z",
     "shell.execute_reply": "2021-01-02T11:39:12.566774Z"
    },
    "papermill": {
     "duration": 0.03473,
     "end_time": "2021-01-02T11:39:12.567459",
     "exception": false,
     "start_time": "2021-01-02T11:39:12.532729",
     "status": "completed"
    },
    "tags": []
   },
   "outputs": [
    {
     "data": {
      "application/javascript": [
       "parent.postMessage({\"jupyterEvent\": \"custom.exercise_interaction\", \"data\": {\"interactionType\": 2, \"questionType\": 1, \"questionId\": \"2_RenameIndex\", \"learnToolsVersion\": \"0.3.4\", \"valueTowardsCompletion\": 0.0, \"failureMessage\": \"\", \"exceptionClass\": \"\", \"trace\": \"\", \"outcomeType\": 4}}, \"*\")"
      ],
      "text/plain": [
       "<IPython.core.display.Javascript object>"
      ]
     },
     "metadata": {},
     "output_type": "display_data"
    },
    {
     "data": {
      "text/markdown": [
       "<span style=\"color:#3366cc\">Hint:</span> Use the `rename_axis()` method."
      ],
      "text/plain": [
       "Hint: Use the `rename_axis()` method."
      ]
     },
     "metadata": {},
     "output_type": "display_data"
    },
    {
     "data": {
      "application/javascript": [
       "parent.postMessage({\"jupyterEvent\": \"custom.exercise_interaction\", \"data\": {\"interactionType\": 3, \"questionType\": 1, \"questionId\": \"2_RenameIndex\", \"learnToolsVersion\": \"0.3.4\", \"valueTowardsCompletion\": 0.0, \"failureMessage\": \"\", \"exceptionClass\": \"\", \"trace\": \"\", \"outcomeType\": 4}}, \"*\")"
      ],
      "text/plain": [
       "<IPython.core.display.Javascript object>"
      ]
     },
     "metadata": {},
     "output_type": "display_data"
    },
    {
     "data": {
      "text/markdown": [
       "<span style=\"color:#33cc99\">Solution:</span> \n",
       "```python\n",
       "reindexed = reviews.rename_axis('wines', axis='rows')\n",
       "```"
      ],
      "text/plain": [
       "Solution: \n",
       "```python\n",
       "reindexed = reviews.rename_axis('wines', axis='rows')\n",
       "```"
      ]
     },
     "metadata": {},
     "output_type": "display_data"
    }
   ],
   "source": [
    "q2.hint()\n",
    "\n",
    "q2.solution()"
   ]
  },
  {
   "cell_type": "markdown",
   "metadata": {
    "papermill": {
     "duration": 0.021805,
     "end_time": "2021-01-02T11:39:12.611753",
     "exception": false,
     "start_time": "2021-01-02T11:39:12.589948",
     "status": "completed"
    },
    "tags": []
   },
   "source": [
    "## 3.\n",
    "The [Things on Reddit](https://www.kaggle.com/residentmario/things-on-reddit/data) dataset includes product links from a selection of top-ranked forums (\"subreddits\") on reddit.com. Run the cell below to load a dataframe of products mentioned on the */r/gaming* subreddit and another dataframe for products mentioned on the *r//movies* subreddit."
   ]
  },
  {
   "cell_type": "code",
   "execution_count": 7,
   "metadata": {
    "execution": {
     "iopub.execute_input": "2021-01-02T11:39:12.663085Z",
     "iopub.status.busy": "2021-01-02T11:39:12.662117Z",
     "iopub.status.idle": "2021-01-02T11:39:12.690258Z",
     "shell.execute_reply": "2021-01-02T11:39:12.688987Z"
    },
    "papermill": {
     "duration": 0.056389,
     "end_time": "2021-01-02T11:39:12.690447",
     "exception": false,
     "start_time": "2021-01-02T11:39:12.634058",
     "status": "completed"
    },
    "tags": []
   },
   "outputs": [
    {
     "name": "stdout",
     "output_type": "stream",
     "text": [
      "                                                  name      category  \\\n",
      "0                 BOOMco Halo Covenant Needler Blaster  Toys & Games   \n",
      "1    Raspberry PI 3 Model B 1.2GHz 64-bit quad-core...   Electronics   \n",
      "2    CanaKit 5V 2.5A Raspberry Pi 3 Power Supply / ...   Electronics   \n",
      "3    Panasonic K-KJ17MCA4BA Advanced Individual Cel...   Electronics   \n",
      "4    Mayflash GameCube Controller Adapter for Wii U...   Electronics   \n",
      "..                                                 ...           ...   \n",
      "488             Chrono Trigger: Original Sound Version   CDs & Vinyl   \n",
      "489  Canon XA10 Professional Camcorder with 64GB In...   Electronics   \n",
      "490  Made to Kill: A Ray Electromatic Mystery (Ray ...         Books   \n",
      "491                                 Xbox 360 - Chatpad   Video Games   \n",
      "492     Project Arcade: Build Your Own Arcade Machine.         Books   \n",
      "\n",
      "                                           amazon_link  total_mentions  \\\n",
      "0    https://www.amazon.com/BOOMco-Halo-Covenant-Ne...             4.0   \n",
      "1    https://www.amazon.com/Raspberry-Model-A1-2GHz...            19.0   \n",
      "2    https://www.amazon.com/CanaKit-Raspberry-Suppl...             7.0   \n",
      "3    https://www.amazon.com/Panasonic-Advanced-Indi...            29.0   \n",
      "4    https://www.amazon.com/GameCube-Controller-Ada...            24.0   \n",
      "..                                                 ...             ...   \n",
      "488  https://www.amazon.com/Chrono-Trigger-Original...             1.0   \n",
      "489  https://www.amazon.com/Canon-Professional-Camc...             1.0   \n",
      "490  https://www.amazon.com/Made-Kill-Novel-L-Trilo...             1.0   \n",
      "491  https://www.amazon.com/Microsoft-Xbox-360-Chat...             1.0   \n",
      "492  https://www.amazon.com/Project-Arcade-Build-Yo...             1.0   \n",
      "\n",
      "     subreddit_mentions subreddit  \n",
      "0                     4  r/gaming  \n",
      "1                     3  r/gaming  \n",
      "2                     3  r/gaming  \n",
      "3                     2  r/gaming  \n",
      "4                     2  r/gaming  \n",
      "..                  ...       ...  \n",
      "488                   1  r/gaming  \n",
      "489                   1  r/gaming  \n",
      "490                   1  r/gaming  \n",
      "491                   1  r/gaming  \n",
      "492                   1  r/gaming  \n",
      "\n",
      "[493 rows x 6 columns]\n",
      "                                                  name      category  \\\n",
      "0    Marvel Cinematic Universe: Phase One - Avenger...   Movies & TV   \n",
      "1                                    On Stranger Tides         Books   \n",
      "2        Superintelligence: Paths, Dangers, Strategies         Books   \n",
      "3                      The Secret History of Star Wars         Books   \n",
      "4    2D Glasses 4 Pack - Turns 3D movies back into ...   Electronics   \n",
      "..                                                 ...           ...   \n",
      "298                  Welcome to Night Vale CD: A Novel         Books   \n",
      "299             Ran (StudioCanal Collection) [Blu-ray]   Movies & TV   \n",
      "300                              The Art of John Alvin         Books   \n",
      "301                               Apocalypto [Blu-ray]   Movies & TV   \n",
      "302  Cinelinx: A Card Game for People Who Love Movi...  Toys & Games   \n",
      "\n",
      "                                           amazon_link  total_mentions  \\\n",
      "0    https://www.amazon.com/Marvel-Cinematic-Univer...             4.0   \n",
      "1    https://www.amazon.com/Stranger-Tides-Tim-Powe...             3.0   \n",
      "2    https://www.amazon.com/Superintelligence-Dange...             7.0   \n",
      "3    https://www.amazon.com/Secret-History-Star-War...             4.0   \n",
      "4         https://www.amazon.com/gp/product/B00K9E7GCC             3.0   \n",
      "..                                                 ...             ...   \n",
      "298  https://www.amazon.com/Welcome-Night-Vale-CD-N...             1.0   \n",
      "299  https://www.amazon.com/StudioCanal-Collection-...             1.0   \n",
      "300  https://www.amazon.com/Art-John-Alvin-Andrea/d...             1.0   \n",
      "301  https://www.amazon.com/Apocalypto-Blu-ray-Rudy...             1.0   \n",
      "302  https://www.amazon.com/Cinelinx-Card-Game-Peop...             1.0   \n",
      "\n",
      "     subreddit_mentions subreddit  \n",
      "0                     3  r/movies  \n",
      "1                     3  r/movies  \n",
      "2                     2  r/movies  \n",
      "3                     2  r/movies  \n",
      "4                     2  r/movies  \n",
      "..                  ...       ...  \n",
      "298                   1  r/movies  \n",
      "299                   1  r/movies  \n",
      "300                   1  r/movies  \n",
      "301                   1  r/movies  \n",
      "302                   1  r/movies  \n",
      "\n",
      "[303 rows x 6 columns]\n"
     ]
    }
   ],
   "source": [
    "gaming_products = pd.read_csv(\"../input/things-on-reddit/top-things/top-things/reddits/g/gaming.csv\")\n",
    "gaming_products['subreddit'] = \"r/gaming\"\n",
    "print(gaming_products)\n",
    "movie_products = pd.read_csv(\"../input/things-on-reddit/top-things/top-things/reddits/m/movies.csv\")\n",
    "movie_products['subreddit'] = \"r/movies\"\n",
    "print(movie_products)"
   ]
  },
  {
   "cell_type": "markdown",
   "metadata": {
    "papermill": {
     "duration": 0.022665,
     "end_time": "2021-01-02T11:39:12.737868",
     "exception": false,
     "start_time": "2021-01-02T11:39:12.715203",
     "status": "completed"
    },
    "tags": []
   },
   "source": [
    "Create a `DataFrame` of products mentioned on *either* subreddit."
   ]
  },
  {
   "cell_type": "code",
   "execution_count": 8,
   "metadata": {
    "execution": {
     "iopub.execute_input": "2021-01-02T11:39:12.805975Z",
     "iopub.status.busy": "2021-01-02T11:39:12.805220Z",
     "iopub.status.idle": "2021-01-02T11:39:12.812852Z",
     "shell.execute_reply": "2021-01-02T11:39:12.812002Z"
    },
    "papermill": {
     "duration": 0.051678,
     "end_time": "2021-01-02T11:39:12.812999",
     "exception": false,
     "start_time": "2021-01-02T11:39:12.761321",
     "status": "completed"
    },
    "tags": []
   },
   "outputs": [
    {
     "name": "stdout",
     "output_type": "stream",
     "text": [
      "                                                  name      category  \\\n",
      "0                 BOOMco Halo Covenant Needler Blaster  Toys & Games   \n",
      "1    Raspberry PI 3 Model B 1.2GHz 64-bit quad-core...   Electronics   \n",
      "2    CanaKit 5V 2.5A Raspberry Pi 3 Power Supply / ...   Electronics   \n",
      "3    Panasonic K-KJ17MCA4BA Advanced Individual Cel...   Electronics   \n",
      "4    Mayflash GameCube Controller Adapter for Wii U...   Electronics   \n",
      "..                                                 ...           ...   \n",
      "298                  Welcome to Night Vale CD: A Novel         Books   \n",
      "299             Ran (StudioCanal Collection) [Blu-ray]   Movies & TV   \n",
      "300                              The Art of John Alvin         Books   \n",
      "301                               Apocalypto [Blu-ray]   Movies & TV   \n",
      "302  Cinelinx: A Card Game for People Who Love Movi...  Toys & Games   \n",
      "\n",
      "                                           amazon_link  total_mentions  \\\n",
      "0    https://www.amazon.com/BOOMco-Halo-Covenant-Ne...             4.0   \n",
      "1    https://www.amazon.com/Raspberry-Model-A1-2GHz...            19.0   \n",
      "2    https://www.amazon.com/CanaKit-Raspberry-Suppl...             7.0   \n",
      "3    https://www.amazon.com/Panasonic-Advanced-Indi...            29.0   \n",
      "4    https://www.amazon.com/GameCube-Controller-Ada...            24.0   \n",
      "..                                                 ...             ...   \n",
      "298  https://www.amazon.com/Welcome-Night-Vale-CD-N...             1.0   \n",
      "299  https://www.amazon.com/StudioCanal-Collection-...             1.0   \n",
      "300  https://www.amazon.com/Art-John-Alvin-Andrea/d...             1.0   \n",
      "301  https://www.amazon.com/Apocalypto-Blu-ray-Rudy...             1.0   \n",
      "302  https://www.amazon.com/Cinelinx-Card-Game-Peop...             1.0   \n",
      "\n",
      "     subreddit_mentions subreddit  \n",
      "0                     4  r/gaming  \n",
      "1                     3  r/gaming  \n",
      "2                     3  r/gaming  \n",
      "3                     2  r/gaming  \n",
      "4                     2  r/gaming  \n",
      "..                  ...       ...  \n",
      "298                   1  r/movies  \n",
      "299                   1  r/movies  \n",
      "300                   1  r/movies  \n",
      "301                   1  r/movies  \n",
      "302                   1  r/movies  \n",
      "\n",
      "[796 rows x 6 columns]\n"
     ]
    },
    {
     "data": {
      "application/javascript": [
       "parent.postMessage({\"jupyterEvent\": \"custom.exercise_interaction\", \"data\": {\"outcomeType\": 1, \"valueTowardsCompletion\": 0.25, \"interactionType\": 1, \"questionType\": 2, \"questionId\": \"3_ConcatReddit\", \"learnToolsVersion\": \"0.3.4\", \"failureMessage\": \"\", \"exceptionClass\": \"\", \"trace\": \"\"}}, \"*\")"
      ],
      "text/plain": [
       "<IPython.core.display.Javascript object>"
      ]
     },
     "metadata": {},
     "output_type": "display_data"
    },
    {
     "data": {
      "text/markdown": [
       "<span style=\"color:#33cc33\">Correct</span>"
      ],
      "text/plain": [
       "Correct"
      ]
     },
     "metadata": {},
     "output_type": "display_data"
    }
   ],
   "source": [
    "combined_products = pd.concat([gaming_products, movie_products])\n",
    "print(combined_products)\n",
    "# Check your answer\n",
    "q3.check()"
   ]
  },
  {
   "cell_type": "code",
   "execution_count": 9,
   "metadata": {
    "execution": {
     "iopub.execute_input": "2021-01-02T11:39:12.869114Z",
     "iopub.status.busy": "2021-01-02T11:39:12.868151Z",
     "iopub.status.idle": "2021-01-02T11:39:12.877914Z",
     "shell.execute_reply": "2021-01-02T11:39:12.877355Z"
    },
    "papermill": {
     "duration": 0.03955,
     "end_time": "2021-01-02T11:39:12.878027",
     "exception": false,
     "start_time": "2021-01-02T11:39:12.838477",
     "status": "completed"
    },
    "tags": []
   },
   "outputs": [
    {
     "data": {
      "application/javascript": [
       "parent.postMessage({\"jupyterEvent\": \"custom.exercise_interaction\", \"data\": {\"interactionType\": 2, \"questionType\": 2, \"questionId\": \"3_ConcatReddit\", \"learnToolsVersion\": \"0.3.4\", \"valueTowardsCompletion\": 0.0, \"failureMessage\": \"\", \"exceptionClass\": \"\", \"trace\": \"\", \"outcomeType\": 4}}, \"*\")"
      ],
      "text/plain": [
       "<IPython.core.display.Javascript object>"
      ]
     },
     "metadata": {},
     "output_type": "display_data"
    },
    {
     "data": {
      "text/markdown": [
       "<span style=\"color:#3366cc\">Hint:</span> Use `pd.concat()`"
      ],
      "text/plain": [
       "Hint: Use `pd.concat()`"
      ]
     },
     "metadata": {},
     "output_type": "display_data"
    },
    {
     "data": {
      "application/javascript": [
       "parent.postMessage({\"jupyterEvent\": \"custom.exercise_interaction\", \"data\": {\"interactionType\": 3, \"questionType\": 2, \"questionId\": \"3_ConcatReddit\", \"learnToolsVersion\": \"0.3.4\", \"valueTowardsCompletion\": 0.0, \"failureMessage\": \"\", \"exceptionClass\": \"\", \"trace\": \"\", \"outcomeType\": 4}}, \"*\")"
      ],
      "text/plain": [
       "<IPython.core.display.Javascript object>"
      ]
     },
     "metadata": {},
     "output_type": "display_data"
    },
    {
     "data": {
      "text/markdown": [
       "<span style=\"color:#33cc99\">Solution:</span> \n",
       "```python\n",
       "combined_products = pd.concat([gaming_products, movie_products])\n",
       "```"
      ],
      "text/plain": [
       "Solution: \n",
       "```python\n",
       "combined_products = pd.concat([gaming_products, movie_products])\n",
       "```"
      ]
     },
     "metadata": {},
     "output_type": "display_data"
    }
   ],
   "source": [
    "q3.hint()\n",
    "q3.solution()"
   ]
  },
  {
   "cell_type": "markdown",
   "metadata": {
    "papermill": {
     "duration": 0.026929,
     "end_time": "2021-01-02T11:39:12.932018",
     "exception": false,
     "start_time": "2021-01-02T11:39:12.905089",
     "status": "completed"
    },
    "tags": []
   },
   "source": [
    "## 4.\n",
    "The [Powerlifting Database](https://www.kaggle.com/open-powerlifting/powerlifting-database) dataset on Kaggle includes one CSV table for powerlifting meets and a separate one for powerlifting competitors. Run the cell below to load these datasets into dataframes:"
   ]
  },
  {
   "cell_type": "code",
   "execution_count": 10,
   "metadata": {
    "execution": {
     "iopub.execute_input": "2021-01-02T11:39:12.992488Z",
     "iopub.status.busy": "2021-01-02T11:39:12.991813Z",
     "iopub.status.idle": "2021-01-02T11:39:13.869770Z",
     "shell.execute_reply": "2021-01-02T11:39:13.868975Z"
    },
    "papermill": {
     "duration": 0.910503,
     "end_time": "2021-01-02T11:39:13.869923",
     "exception": false,
     "start_time": "2021-01-02T11:39:12.959420",
     "status": "completed"
    },
    "tags": []
   },
   "outputs": [
    {
     "name": "stdout",
     "output_type": "stream",
     "text": [
      "      MeetID                   MeetPath Federation        Date MeetCountry  \\\n",
      "0          0             365strong/1601  365Strong  2016-10-29         USA   \n",
      "1          1             365strong/1602  365Strong  2016-11-19         USA   \n",
      "2          2             365strong/1603  365Strong  2016-07-09         USA   \n",
      "3          3             365strong/1604  365Strong  2016-06-11         USA   \n",
      "4          4             365strong/1605  365Strong  2016-04-10         USA   \n",
      "...      ...                        ...        ...         ...         ...   \n",
      "8477    8477            xpc/2015-finals        XPC  2015-03-06         USA   \n",
      "8478    8478  xpc/2016-bench-freak-show        XPC  2016-03-04         USA   \n",
      "8479    8479      xpc/2016-elite-finals        XPC  2016-03-04         USA   \n",
      "8480    8480        xpc/2016-pro-finals        XPC  2016-03-05         USA   \n",
      "8481    8481            xpc/2017-finals        XPC  2017-03-03         USA   \n",
      "\n",
      "     MeetState   MeetTown                                           MeetName  \n",
      "0           NC  Charlotte  2016 Junior & Senior National Powerlifting Cha...  \n",
      "1           MO      Ozark                  Thanksgiving Powerlifting Classic  \n",
      "2           NC  Charlotte                             Charlotte Europa Games  \n",
      "3           SC  Rock Hill                   Carolina Cup Push Pull Challenge  \n",
      "4           SC  Rock Hill                              Eastern USA Challenge  \n",
      "...        ...        ...                                                ...  \n",
      "8477        OH   Columbus                                           2015 XPC  \n",
      "8478        OH   Columbus                          2016 XPC Bench Freak Show  \n",
      "8479        OH   Columbus                              2016 XPC Elite Finals  \n",
      "8480        OH   Columbus                                2016 XPC PRO Finals  \n",
      "8481        OH   Columbus                                    2017 XPC Finals  \n",
      "\n",
      "[8482 rows x 8 columns]\n",
      "        MeetID              Name Sex   Equipment   Age     Division  \\\n",
      "0            0  Angie Belk Terry   F       Wraps  47.0    Mst 45-49   \n",
      "1            0       Dawn Bogart   F  Single-ply  42.0    Mst 40-44   \n",
      "2            0       Dawn Bogart   F  Single-ply  42.0  Open Senior   \n",
      "3            0       Dawn Bogart   F         Raw  42.0  Open Senior   \n",
      "4            0      Destiny Dula   F         Raw  18.0   Teen 18-19   \n",
      "...        ...               ...  ..         ...   ...          ...   \n",
      "386409    8481   William Barabas   M   Multi-ply   NaN        Elite   \n",
      "386410    8481      Justin Zottl   M   Multi-ply   NaN        Elite   \n",
      "386411    8481     Jake Anderson   M   Multi-ply   NaN        Elite   \n",
      "386412    8481    Jeff Bumanglag   M   Multi-ply   NaN        Elite   \n",
      "386413    8481     Shane Hammock   M   Multi-ply   NaN        Elite   \n",
      "\n",
      "        BodyweightKg WeightClassKg  Squat4Kg  BestSquatKg  Bench4Kg  \\\n",
      "0              59.60            60       NaN        47.63       NaN   \n",
      "1              58.51            60       NaN       142.88       NaN   \n",
      "2              58.51            60       NaN       142.88       NaN   \n",
      "3              58.51            60       NaN          NaN       NaN   \n",
      "4              63.68          67.5       NaN          NaN       NaN   \n",
      "...              ...           ...       ...          ...       ...   \n",
      "386409        113.58           125       NaN          NaN       NaN   \n",
      "386410        119.02           125       NaN          NaN       NaN   \n",
      "386411        120.29           125       NaN          NaN       NaN   \n",
      "386412        126.73           140       NaN          NaN       NaN   \n",
      "386413        129.46           140       NaN          NaN       NaN   \n",
      "\n",
      "        BestBenchKg  Deadlift4Kg  BestDeadliftKg  TotalKg Place   Wilks  \n",
      "0             20.41          NaN           70.31   138.35     1  155.05  \n",
      "1             95.25          NaN          163.29   401.42     1  456.38  \n",
      "2             95.25          NaN          163.29   401.42     1  456.38  \n",
      "3             95.25          NaN             NaN    95.25     1  108.29  \n",
      "4             31.75          NaN           90.72   122.47     1  130.47  \n",
      "...             ...          ...             ...      ...   ...     ...  \n",
      "386409          NaN          NaN          347.50   347.50     2  202.60  \n",
      "386410          NaN          NaN          322.50   322.50     3  185.77  \n",
      "386411          NaN          NaN          367.50   367.50     1  211.17  \n",
      "386412          NaN          NaN          320.00   320.00     3  181.85  \n",
      "386413          NaN          NaN          362.50   362.50     2  205.18  \n",
      "\n",
      "[386414 rows x 17 columns]\n"
     ]
    }
   ],
   "source": [
    "powerlifting_meets = pd.read_csv(\"../input/powerlifting-database/meets.csv\")\n",
    "print(powerlifting_meets)\n",
    "powerlifting_competitors = pd.read_csv(\"../input/powerlifting-database/openpowerlifting.csv\")\n",
    "print(powerlifting_competitors)"
   ]
  },
  {
   "cell_type": "raw",
   "metadata": {
    "papermill": {
     "duration": 0.027325,
     "end_time": "2021-01-02T11:39:13.925615",
     "exception": false,
     "start_time": "2021-01-02T11:39:13.898290",
     "status": "completed"
    },
    "tags": []
   },
   "source": [
    "Both tables include references to a `MeetID`, a unique key for each meet (competition) included in the database. Using this, generate a dataset combining the two tables into one."
   ]
  },
  {
   "cell_type": "code",
   "execution_count": 11,
   "metadata": {
    "execution": {
     "iopub.execute_input": "2021-01-02T11:39:13.988923Z",
     "iopub.status.busy": "2021-01-02T11:39:13.988242Z",
     "iopub.status.idle": "2021-01-02T11:39:14.556659Z",
     "shell.execute_reply": "2021-01-02T11:39:14.556133Z"
    },
    "papermill": {
     "duration": 0.60361,
     "end_time": "2021-01-02T11:39:14.556792",
     "exception": false,
     "start_time": "2021-01-02T11:39:13.953182",
     "status": "completed"
    },
    "tags": []
   },
   "outputs": [
    {
     "name": "stdout",
     "output_type": "stream",
     "text": [
      "               MeetPath Federation        Date MeetCountry MeetState  \\\n",
      "MeetID                                                                 \n",
      "0        365strong/1601  365Strong  2016-10-29         USA        NC   \n",
      "0        365strong/1601  365Strong  2016-10-29         USA        NC   \n",
      "0        365strong/1601  365Strong  2016-10-29         USA        NC   \n",
      "0        365strong/1601  365Strong  2016-10-29         USA        NC   \n",
      "0        365strong/1601  365Strong  2016-10-29         USA        NC   \n",
      "...                 ...        ...         ...         ...       ...   \n",
      "8481    xpc/2017-finals        XPC  2017-03-03         USA        OH   \n",
      "8481    xpc/2017-finals        XPC  2017-03-03         USA        OH   \n",
      "8481    xpc/2017-finals        XPC  2017-03-03         USA        OH   \n",
      "8481    xpc/2017-finals        XPC  2017-03-03         USA        OH   \n",
      "8481    xpc/2017-finals        XPC  2017-03-03         USA        OH   \n",
      "\n",
      "         MeetTown                                           MeetName  \\\n",
      "MeetID                                                                 \n",
      "0       Charlotte  2016 Junior & Senior National Powerlifting Cha...   \n",
      "0       Charlotte  2016 Junior & Senior National Powerlifting Cha...   \n",
      "0       Charlotte  2016 Junior & Senior National Powerlifting Cha...   \n",
      "0       Charlotte  2016 Junior & Senior National Powerlifting Cha...   \n",
      "0       Charlotte  2016 Junior & Senior National Powerlifting Cha...   \n",
      "...           ...                                                ...   \n",
      "8481     Columbus                                    2017 XPC Finals   \n",
      "8481     Columbus                                    2017 XPC Finals   \n",
      "8481     Columbus                                    2017 XPC Finals   \n",
      "8481     Columbus                                    2017 XPC Finals   \n",
      "8481     Columbus                                    2017 XPC Finals   \n",
      "\n",
      "                    Name Sex   Equipment  ...  WeightClassKg Squat4Kg  \\\n",
      "MeetID                                    ...                           \n",
      "0       Angie Belk Terry   F       Wraps  ...             60      NaN   \n",
      "0            Dawn Bogart   F  Single-ply  ...             60      NaN   \n",
      "0            Dawn Bogart   F  Single-ply  ...             60      NaN   \n",
      "0            Dawn Bogart   F         Raw  ...             60      NaN   \n",
      "0           Destiny Dula   F         Raw  ...           67.5      NaN   \n",
      "...                  ...  ..         ...  ...            ...      ...   \n",
      "8481     William Barabas   M   Multi-ply  ...            125      NaN   \n",
      "8481        Justin Zottl   M   Multi-ply  ...            125      NaN   \n",
      "8481       Jake Anderson   M   Multi-ply  ...            125      NaN   \n",
      "8481      Jeff Bumanglag   M   Multi-ply  ...            140      NaN   \n",
      "8481       Shane Hammock   M   Multi-ply  ...            140      NaN   \n",
      "\n",
      "        BestSquatKg Bench4Kg  BestBenchKg  Deadlift4Kg  BestDeadliftKg  \\\n",
      "MeetID                                                                   \n",
      "0             47.63      NaN        20.41          NaN           70.31   \n",
      "0            142.88      NaN        95.25          NaN          163.29   \n",
      "0            142.88      NaN        95.25          NaN          163.29   \n",
      "0               NaN      NaN        95.25          NaN             NaN   \n",
      "0               NaN      NaN        31.75          NaN           90.72   \n",
      "...             ...      ...          ...          ...             ...   \n",
      "8481            NaN      NaN          NaN          NaN          347.50   \n",
      "8481            NaN      NaN          NaN          NaN          322.50   \n",
      "8481            NaN      NaN          NaN          NaN          367.50   \n",
      "8481            NaN      NaN          NaN          NaN          320.00   \n",
      "8481            NaN      NaN          NaN          NaN          362.50   \n",
      "\n",
      "        TotalKg  Place   Wilks  \n",
      "MeetID                          \n",
      "0        138.35      1  155.05  \n",
      "0        401.42      1  456.38  \n",
      "0        401.42      1  456.38  \n",
      "0         95.25      1  108.29  \n",
      "0        122.47      1  130.47  \n",
      "...         ...    ...     ...  \n",
      "8481     347.50      2  202.60  \n",
      "8481     322.50      3  185.77  \n",
      "8481     367.50      1  211.17  \n",
      "8481     320.00      3  181.85  \n",
      "8481     362.50      2  205.18  \n",
      "\n",
      "[386414 rows x 23 columns]\n"
     ]
    },
    {
     "data": {
      "application/javascript": [
       "parent.postMessage({\"jupyterEvent\": \"custom.exercise_interaction\", \"data\": {\"outcomeType\": 4, \"interactionType\": 1, \"questionType\": 2, \"questionId\": \"4_JoinLifting\", \"learnToolsVersion\": \"0.3.4\", \"valueTowardsCompletion\": 0.0, \"failureMessage\": \"\", \"exceptionClass\": \"\", \"trace\": \"\"}}, \"*\")"
      ],
      "text/plain": [
       "<IPython.core.display.Javascript object>"
      ]
     },
     "metadata": {},
     "output_type": "display_data"
    },
    {
     "data": {
      "text/markdown": [
       "<span style=\"color:#ccaa33\">Check:</span> When you've updated the starter code, `check()` will tell you whether your code is correct. Remember, you must create the following variable: `powerlifting_combined`"
      ],
      "text/plain": [
       "Check: When you've updated the starter code, `check()` will tell you whether your code is correct. Remember, you must create the following variable: `powerlifting_combined`"
      ]
     },
     "metadata": {},
     "output_type": "display_data"
    }
   ],
   "source": [
    "left = powerlifting_meets.set_index(['MeetID'])\n",
    "right = powerlifting_competitors.set_index(['MeetID'])\n",
    "\n",
    "combined_form=left.join(right)\n",
    "#combined_form=powerlifting_meets.set_index(\"MeetID\").join(powerlifting_competitors.set_index(\"MeetID\"))\n",
    "print(combined_form)\n",
    "\n",
    "#Check your answer\n",
    "\n",
    "q4.check()"
   ]
  },
  {
   "cell_type": "code",
   "execution_count": 12,
   "metadata": {
    "execution": {
     "iopub.execute_input": "2021-01-02T11:39:14.622036Z",
     "iopub.status.busy": "2021-01-02T11:39:14.621005Z",
     "iopub.status.idle": "2021-01-02T11:39:14.630906Z",
     "shell.execute_reply": "2021-01-02T11:39:14.630361Z"
    },
    "papermill": {
     "duration": 0.044607,
     "end_time": "2021-01-02T11:39:14.631026",
     "exception": false,
     "start_time": "2021-01-02T11:39:14.586419",
     "status": "completed"
    },
    "tags": []
   },
   "outputs": [
    {
     "data": {
      "application/javascript": [
       "parent.postMessage({\"jupyterEvent\": \"custom.exercise_interaction\", \"data\": {\"interactionType\": 2, \"questionType\": 2, \"questionId\": \"4_JoinLifting\", \"learnToolsVersion\": \"0.3.4\", \"valueTowardsCompletion\": 0.0, \"failureMessage\": \"\", \"exceptionClass\": \"\", \"trace\": \"\", \"outcomeType\": 4}}, \"*\")"
      ],
      "text/plain": [
       "<IPython.core.display.Javascript object>"
      ]
     },
     "metadata": {},
     "output_type": "display_data"
    },
    {
     "data": {
      "text/markdown": [
       "<span style=\"color:#3366cc\">Hint:</span> Use `pd.Dataframe.join()`."
      ],
      "text/plain": [
       "Hint: Use `pd.Dataframe.join()`."
      ]
     },
     "metadata": {},
     "output_type": "display_data"
    },
    {
     "data": {
      "application/javascript": [
       "parent.postMessage({\"jupyterEvent\": \"custom.exercise_interaction\", \"data\": {\"interactionType\": 3, \"questionType\": 2, \"questionId\": \"4_JoinLifting\", \"learnToolsVersion\": \"0.3.4\", \"valueTowardsCompletion\": 0.0, \"failureMessage\": \"\", \"exceptionClass\": \"\", \"trace\": \"\", \"outcomeType\": 4}}, \"*\")"
      ],
      "text/plain": [
       "<IPython.core.display.Javascript object>"
      ]
     },
     "metadata": {},
     "output_type": "display_data"
    },
    {
     "data": {
      "text/markdown": [
       "<span style=\"color:#33cc99\">Solution:</span> \n",
       "```python\n",
       "powerlifting_combined = powerlifting_meets.set_index(\"MeetID\").join(powerlifting_competitors.set_index(\"MeetID\"))\n",
       "```"
      ],
      "text/plain": [
       "Solution: \n",
       "```python\n",
       "powerlifting_combined = powerlifting_meets.set_index(\"MeetID\").join(powerlifting_competitors.set_index(\"MeetID\"))\n",
       "```"
      ]
     },
     "metadata": {},
     "output_type": "display_data"
    }
   ],
   "source": [
    "q4.hint()\n",
    "q4.solution()"
   ]
  },
  {
   "cell_type": "markdown",
   "metadata": {
    "papermill": {
     "duration": 0.032009,
     "end_time": "2021-01-02T11:39:14.695197",
     "exception": false,
     "start_time": "2021-01-02T11:39:14.663188",
     "status": "completed"
    },
    "tags": []
   },
   "source": [
    "# Congratulations!\n",
    "\n",
    "You've finished the Pandas micro-course.  Many data scientists feel efficiency with Pandas is the most useful and practical skill they have, because it allows you to progress quickly in any project you have.\n",
    "\n",
    "If you'd like to apply your new skills to examining geospatial data, you're encouraged to check out our **[Geospatial Analysis](https://www.kaggle.com/learn/geospatial-analysis)** micro-course.\n",
    "\n",
    "You can also take advantage of your Pandas skills by entering a **[Kaggle Competition](https://www.kaggle.com/competitions)** or by answering a question you find interesting using **[Kaggle Datasets](https://www.kaggle.com/datasets)**."
   ]
  },
  {
   "cell_type": "markdown",
   "metadata": {
    "papermill": {
     "duration": 0.031889,
     "end_time": "2021-01-02T11:39:14.759513",
     "exception": false,
     "start_time": "2021-01-02T11:39:14.727624",
     "status": "completed"
    },
    "tags": []
   },
   "source": [
    "---\n",
    "\n",
    "\n",
    "\n",
    "\n",
    "*Have questions or comments? Visit the [Learn Discussion forum](https://www.kaggle.com/learn-forum/161299) to chat with other Learners.*"
   ]
  }
 ],
 "metadata": {
  "kernelspec": {
   "display_name": "Python 3",
   "language": "python",
   "name": "python3"
  },
  "language_info": {
   "codemirror_mode": {
    "name": "ipython",
    "version": 3
   },
   "file_extension": ".py",
   "mimetype": "text/x-python",
   "name": "python",
   "nbconvert_exporter": "python",
   "pygments_lexer": "ipython3",
   "version": "3.7.6"
  },
  "papermill": {
   "duration": 11.430532,
   "end_time": "2021-01-02T11:39:14.898512",
   "environment_variables": {},
   "exception": null,
   "input_path": "__notebook__.ipynb",
   "output_path": "__notebook__.ipynb",
   "parameters": {},
   "start_time": "2021-01-02T11:39:03.467980",
   "version": "2.1.0"
  }
 },
 "nbformat": 4,
 "nbformat_minor": 4
}
