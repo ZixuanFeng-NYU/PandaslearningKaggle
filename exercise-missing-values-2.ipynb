{
 "cells": [
  {
   "cell_type": "markdown",
   "metadata": {
    "papermill": {
     "duration": 0.040003,
     "end_time": "2020-12-31T07:46:33.526553",
     "exception": false,
     "start_time": "2020-12-31T07:46:33.486550",
     "status": "completed"
    },
    "tags": []
   },
   "source": [
    "**This notebook is an exercise in the [Intermediate Machine Learning](https://www.kaggle.com/learn/intermediate-machine-learning) course.  You can reference the tutorial at [this link](https://www.kaggle.com/alexisbcook/missing-values).**\n",
    "\n",
    "---\n"
   ]
  },
  {
   "cell_type": "markdown",
   "metadata": {
    "papermill": {
     "duration": 0.024913,
     "end_time": "2020-12-31T07:46:33.580811",
     "exception": false,
     "start_time": "2020-12-31T07:46:33.555898",
     "status": "completed"
    },
    "tags": []
   },
   "source": [
    "Now it's your turn to test your new knowledge of **missing values** handling. You'll probably find it makes a big difference.\n",
    "\n",
    "# Setup\n",
    "\n",
    "The questions will give you feedback on your work. Run the following cell to set up the feedback system."
   ]
  },
  {
   "cell_type": "code",
   "execution_count": 1,
   "metadata": {
    "execution": {
     "iopub.execute_input": "2020-12-31T07:46:33.642641Z",
     "iopub.status.busy": "2020-12-31T07:46:33.641981Z",
     "iopub.status.idle": "2020-12-31T07:46:33.723964Z",
     "shell.execute_reply": "2020-12-31T07:46:33.723200Z"
    },
    "papermill": {
     "duration": 0.115823,
     "end_time": "2020-12-31T07:46:33.724084",
     "exception": false,
     "start_time": "2020-12-31T07:46:33.608261",
     "status": "completed"
    },
    "tags": []
   },
   "outputs": [
    {
     "name": "stdout",
     "output_type": "stream",
     "text": [
      "Setup Complete\n"
     ]
    }
   ],
   "source": [
    "# Set up code checking\n",
    "import os\n",
    "if not os.path.exists(\"../input/train.csv\"):\n",
    "    os.symlink(\"../input/home-data-for-ml-course/train.csv\", \"../input/train.csv\")  \n",
    "    os.symlink(\"../input/home-data-for-ml-course/test.csv\", \"../input/test.csv\") \n",
    "from learntools.core import binder\n",
    "binder.bind(globals())\n",
    "from learntools.ml_intermediate.ex2 import *\n",
    "print(\"Setup Complete\")"
   ]
  },
  {
   "cell_type": "markdown",
   "metadata": {
    "papermill": {
     "duration": 0.023845,
     "end_time": "2020-12-31T07:46:33.773380",
     "exception": false,
     "start_time": "2020-12-31T07:46:33.749535",
     "status": "completed"
    },
    "tags": []
   },
   "source": [
    "In this exercise, you will work with data from the [Housing Prices Competition for Kaggle Learn Users](https://www.kaggle.com/c/home-data-for-ml-course). \n",
    "\n",
    "![Ames Housing dataset image](https://i.imgur.com/lTJVG4e.png)\n",
    "\n",
    "Run the next code cell without changes to load the training and validation sets in `X_train`, `X_valid`, `y_train`, and `y_valid`.  The test set is loaded in `X_test`."
   ]
  },
  {
   "cell_type": "code",
   "execution_count": 2,
   "metadata": {
    "execution": {
     "iopub.execute_input": "2020-12-31T07:46:33.832818Z",
     "iopub.status.busy": "2020-12-31T07:46:33.832009Z",
     "iopub.status.idle": "2020-12-31T07:46:35.664159Z",
     "shell.execute_reply": "2020-12-31T07:46:35.663419Z"
    },
    "papermill": {
     "duration": 1.866052,
     "end_time": "2020-12-31T07:46:35.664282",
     "exception": false,
     "start_time": "2020-12-31T07:46:33.798230",
     "status": "completed"
    },
    "tags": []
   },
   "outputs": [],
   "source": [
    "import pandas as pd\n",
    "from sklearn.model_selection import train_test_split\n",
    "\n",
    "# Read the data\n",
    "X_full = pd.read_csv('../input/train.csv', index_col='Id')\n",
    "X_test_full = pd.read_csv('../input/test.csv', index_col='Id')\n",
    "\n",
    "# Remove rows with missing target, separate target from predictors\n",
    "X_full.dropna(axis=0, subset=['SalePrice'], inplace=True)\n",
    "y = X_full.SalePrice\n",
    "X_full.drop(['SalePrice'], axis=1, inplace=True)\n",
    "\n",
    "# To keep things simple, we'll use only numerical predictors\n",
    "X = X_full.select_dtypes(exclude=['object'])\n",
    "X_test = X_test_full.select_dtypes(exclude=['object'])\n",
    "\n",
    "# Break off validation set from training data\n",
    "X_train, X_valid, y_train, y_valid = train_test_split(X, y, train_size=0.8, test_size=0.2,\n",
    "                                                      random_state=0)"
   ]
  },
  {
   "cell_type": "markdown",
   "metadata": {
    "papermill": {
     "duration": 0.025318,
     "end_time": "2020-12-31T07:46:35.715453",
     "exception": false,
     "start_time": "2020-12-31T07:46:35.690135",
     "status": "completed"
    },
    "tags": []
   },
   "source": [
    "Use the next code cell to print the first five rows of the data."
   ]
  },
  {
   "cell_type": "code",
   "execution_count": 3,
   "metadata": {
    "execution": {
     "iopub.execute_input": "2020-12-31T07:46:35.787408Z",
     "iopub.status.busy": "2020-12-31T07:46:35.786751Z",
     "iopub.status.idle": "2020-12-31T07:46:35.803988Z",
     "shell.execute_reply": "2020-12-31T07:46:35.803337Z"
    },
    "papermill": {
     "duration": 0.063638,
     "end_time": "2020-12-31T07:46:35.804096",
     "exception": false,
     "start_time": "2020-12-31T07:46:35.740458",
     "status": "completed"
    },
    "tags": []
   },
   "outputs": [
    {
     "data": {
      "text/html": [
       "<div>\n",
       "<style scoped>\n",
       "    .dataframe tbody tr th:only-of-type {\n",
       "        vertical-align: middle;\n",
       "    }\n",
       "\n",
       "    .dataframe tbody tr th {\n",
       "        vertical-align: top;\n",
       "    }\n",
       "\n",
       "    .dataframe thead th {\n",
       "        text-align: right;\n",
       "    }\n",
       "</style>\n",
       "<table border=\"1\" class=\"dataframe\">\n",
       "  <thead>\n",
       "    <tr style=\"text-align: right;\">\n",
       "      <th></th>\n",
       "      <th>MSSubClass</th>\n",
       "      <th>LotFrontage</th>\n",
       "      <th>LotArea</th>\n",
       "      <th>OverallQual</th>\n",
       "      <th>OverallCond</th>\n",
       "      <th>YearBuilt</th>\n",
       "      <th>YearRemodAdd</th>\n",
       "      <th>MasVnrArea</th>\n",
       "      <th>BsmtFinSF1</th>\n",
       "      <th>BsmtFinSF2</th>\n",
       "      <th>...</th>\n",
       "      <th>GarageArea</th>\n",
       "      <th>WoodDeckSF</th>\n",
       "      <th>OpenPorchSF</th>\n",
       "      <th>EnclosedPorch</th>\n",
       "      <th>3SsnPorch</th>\n",
       "      <th>ScreenPorch</th>\n",
       "      <th>PoolArea</th>\n",
       "      <th>MiscVal</th>\n",
       "      <th>MoSold</th>\n",
       "      <th>YrSold</th>\n",
       "    </tr>\n",
       "    <tr>\n",
       "      <th>Id</th>\n",
       "      <th></th>\n",
       "      <th></th>\n",
       "      <th></th>\n",
       "      <th></th>\n",
       "      <th></th>\n",
       "      <th></th>\n",
       "      <th></th>\n",
       "      <th></th>\n",
       "      <th></th>\n",
       "      <th></th>\n",
       "      <th></th>\n",
       "      <th></th>\n",
       "      <th></th>\n",
       "      <th></th>\n",
       "      <th></th>\n",
       "      <th></th>\n",
       "      <th></th>\n",
       "      <th></th>\n",
       "      <th></th>\n",
       "      <th></th>\n",
       "      <th></th>\n",
       "    </tr>\n",
       "  </thead>\n",
       "  <tbody>\n",
       "    <tr>\n",
       "      <th>619</th>\n",
       "      <td>20</td>\n",
       "      <td>90.0</td>\n",
       "      <td>11694</td>\n",
       "      <td>9</td>\n",
       "      <td>5</td>\n",
       "      <td>2007</td>\n",
       "      <td>2007</td>\n",
       "      <td>452.0</td>\n",
       "      <td>48</td>\n",
       "      <td>0</td>\n",
       "      <td>...</td>\n",
       "      <td>774</td>\n",
       "      <td>0</td>\n",
       "      <td>108</td>\n",
       "      <td>0</td>\n",
       "      <td>0</td>\n",
       "      <td>260</td>\n",
       "      <td>0</td>\n",
       "      <td>0</td>\n",
       "      <td>7</td>\n",
       "      <td>2007</td>\n",
       "    </tr>\n",
       "    <tr>\n",
       "      <th>871</th>\n",
       "      <td>20</td>\n",
       "      <td>60.0</td>\n",
       "      <td>6600</td>\n",
       "      <td>5</td>\n",
       "      <td>5</td>\n",
       "      <td>1962</td>\n",
       "      <td>1962</td>\n",
       "      <td>0.0</td>\n",
       "      <td>0</td>\n",
       "      <td>0</td>\n",
       "      <td>...</td>\n",
       "      <td>308</td>\n",
       "      <td>0</td>\n",
       "      <td>0</td>\n",
       "      <td>0</td>\n",
       "      <td>0</td>\n",
       "      <td>0</td>\n",
       "      <td>0</td>\n",
       "      <td>0</td>\n",
       "      <td>8</td>\n",
       "      <td>2009</td>\n",
       "    </tr>\n",
       "    <tr>\n",
       "      <th>93</th>\n",
       "      <td>30</td>\n",
       "      <td>80.0</td>\n",
       "      <td>13360</td>\n",
       "      <td>5</td>\n",
       "      <td>7</td>\n",
       "      <td>1921</td>\n",
       "      <td>2006</td>\n",
       "      <td>0.0</td>\n",
       "      <td>713</td>\n",
       "      <td>0</td>\n",
       "      <td>...</td>\n",
       "      <td>432</td>\n",
       "      <td>0</td>\n",
       "      <td>0</td>\n",
       "      <td>44</td>\n",
       "      <td>0</td>\n",
       "      <td>0</td>\n",
       "      <td>0</td>\n",
       "      <td>0</td>\n",
       "      <td>8</td>\n",
       "      <td>2009</td>\n",
       "    </tr>\n",
       "    <tr>\n",
       "      <th>818</th>\n",
       "      <td>20</td>\n",
       "      <td>NaN</td>\n",
       "      <td>13265</td>\n",
       "      <td>8</td>\n",
       "      <td>5</td>\n",
       "      <td>2002</td>\n",
       "      <td>2002</td>\n",
       "      <td>148.0</td>\n",
       "      <td>1218</td>\n",
       "      <td>0</td>\n",
       "      <td>...</td>\n",
       "      <td>857</td>\n",
       "      <td>150</td>\n",
       "      <td>59</td>\n",
       "      <td>0</td>\n",
       "      <td>0</td>\n",
       "      <td>0</td>\n",
       "      <td>0</td>\n",
       "      <td>0</td>\n",
       "      <td>7</td>\n",
       "      <td>2008</td>\n",
       "    </tr>\n",
       "    <tr>\n",
       "      <th>303</th>\n",
       "      <td>20</td>\n",
       "      <td>118.0</td>\n",
       "      <td>13704</td>\n",
       "      <td>7</td>\n",
       "      <td>5</td>\n",
       "      <td>2001</td>\n",
       "      <td>2002</td>\n",
       "      <td>150.0</td>\n",
       "      <td>0</td>\n",
       "      <td>0</td>\n",
       "      <td>...</td>\n",
       "      <td>843</td>\n",
       "      <td>468</td>\n",
       "      <td>81</td>\n",
       "      <td>0</td>\n",
       "      <td>0</td>\n",
       "      <td>0</td>\n",
       "      <td>0</td>\n",
       "      <td>0</td>\n",
       "      <td>1</td>\n",
       "      <td>2006</td>\n",
       "    </tr>\n",
       "  </tbody>\n",
       "</table>\n",
       "<p>5 rows × 36 columns</p>\n",
       "</div>"
      ],
      "text/plain": [
       "     MSSubClass  LotFrontage  LotArea  OverallQual  OverallCond  YearBuilt  \\\n",
       "Id                                                                           \n",
       "619          20         90.0    11694            9            5       2007   \n",
       "871          20         60.0     6600            5            5       1962   \n",
       "93           30         80.0    13360            5            7       1921   \n",
       "818          20          NaN    13265            8            5       2002   \n",
       "303          20        118.0    13704            7            5       2001   \n",
       "\n",
       "     YearRemodAdd  MasVnrArea  BsmtFinSF1  BsmtFinSF2  ...  GarageArea  \\\n",
       "Id                                                     ...               \n",
       "619          2007       452.0          48           0  ...         774   \n",
       "871          1962         0.0           0           0  ...         308   \n",
       "93           2006         0.0         713           0  ...         432   \n",
       "818          2002       148.0        1218           0  ...         857   \n",
       "303          2002       150.0           0           0  ...         843   \n",
       "\n",
       "     WoodDeckSF  OpenPorchSF  EnclosedPorch  3SsnPorch  ScreenPorch  PoolArea  \\\n",
       "Id                                                                              \n",
       "619           0          108              0          0          260         0   \n",
       "871           0            0              0          0            0         0   \n",
       "93            0            0             44          0            0         0   \n",
       "818         150           59              0          0            0         0   \n",
       "303         468           81              0          0            0         0   \n",
       "\n",
       "     MiscVal  MoSold  YrSold  \n",
       "Id                            \n",
       "619        0       7    2007  \n",
       "871        0       8    2009  \n",
       "93         0       8    2009  \n",
       "818        0       7    2008  \n",
       "303        0       1    2006  \n",
       "\n",
       "[5 rows x 36 columns]"
      ]
     },
     "execution_count": 3,
     "metadata": {},
     "output_type": "execute_result"
    }
   ],
   "source": [
    "X_train.head()"
   ]
  },
  {
   "cell_type": "markdown",
   "metadata": {
    "papermill": {
     "duration": 0.025603,
     "end_time": "2020-12-31T07:46:35.854781",
     "exception": false,
     "start_time": "2020-12-31T07:46:35.829178",
     "status": "completed"
    },
    "tags": []
   },
   "source": [
    "You can already see a few missing values in the first several rows.  In the next step, you'll obtain a more comprehensive understanding of the missing values in the dataset.\n",
    "\n",
    "# Step 1: Preliminary investigation\n",
    "\n",
    "Run the code cell below without changes."
   ]
  },
  {
   "cell_type": "code",
   "execution_count": 4,
   "metadata": {
    "execution": {
     "iopub.execute_input": "2020-12-31T07:46:35.916605Z",
     "iopub.status.busy": "2020-12-31T07:46:35.913263Z",
     "iopub.status.idle": "2020-12-31T07:46:35.922628Z",
     "shell.execute_reply": "2020-12-31T07:46:35.921993Z"
    },
    "papermill": {
     "duration": 0.042179,
     "end_time": "2020-12-31T07:46:35.922777",
     "exception": false,
     "start_time": "2020-12-31T07:46:35.880598",
     "status": "completed"
    },
    "tags": []
   },
   "outputs": [
    {
     "name": "stdout",
     "output_type": "stream",
     "text": [
      "(1168, 36)\n",
      "LotFrontage    212\n",
      "MasVnrArea       6\n",
      "GarageYrBlt     58\n",
      "dtype: int64\n"
     ]
    }
   ],
   "source": [
    "# Shape of training data (num_rows, num_columns)\n",
    "print(X_train.shape)\n",
    "#print(X_train)\n",
    "\n",
    "# Number of missing values in each column of training data\n",
    "missing_val_count_by_column = (X_train.isnull().sum())\n",
    "print(missing_val_count_by_column[missing_val_count_by_column > 0])"
   ]
  },
  {
   "cell_type": "markdown",
   "metadata": {
    "papermill": {
     "duration": 0.025713,
     "end_time": "2020-12-31T07:46:35.975057",
     "exception": false,
     "start_time": "2020-12-31T07:46:35.949344",
     "status": "completed"
    },
    "tags": []
   },
   "source": [
    "### Part A\n",
    "\n",
    "Use the above output to answer the questions below."
   ]
  },
  {
   "cell_type": "code",
   "execution_count": 5,
   "metadata": {
    "execution": {
     "iopub.execute_input": "2020-12-31T07:46:36.041419Z",
     "iopub.status.busy": "2020-12-31T07:46:36.040594Z",
     "iopub.status.idle": "2020-12-31T07:46:36.053609Z",
     "shell.execute_reply": "2020-12-31T07:46:36.052938Z"
    },
    "papermill": {
     "duration": 0.052157,
     "end_time": "2020-12-31T07:46:36.053750",
     "exception": false,
     "start_time": "2020-12-31T07:46:36.001593",
     "status": "completed"
    },
    "tags": []
   },
   "outputs": [
    {
     "name": "stdout",
     "output_type": "stream",
     "text": [
      "rows= 1168\n",
      "columns= 36\n",
      "missing_val_count_by_column= 3\n",
      "tot_missing = 212 + 6 + 58\n"
     ]
    },
    {
     "data": {
      "application/javascript": [
       "parent.postMessage({\"jupyterEvent\": \"custom.exercise_interaction\", \"data\": {\"outcomeType\": 4, \"interactionType\": 1, \"questionType\": 1, \"questionId\": \"1.1_InvestigateEquality\", \"learnToolsVersion\": \"0.3.4\", \"valueTowardsCompletion\": 0.0, \"failureMessage\": \"\", \"exceptionClass\": \"\", \"trace\": \"\"}}, \"*\")"
      ],
      "text/plain": [
       "<IPython.core.display.Javascript object>"
      ]
     },
     "metadata": {},
     "output_type": "display_data"
    },
    {
     "data": {
      "text/markdown": [
       "<span style=\"color:#ccaa33\">Check:</span> When you've updated the starter code, `check()` will tell you whether your code is correct. Remember, you must create the following variables: `tot_missing`, `num_rows`, `num_cols_with_missing`"
      ],
      "text/plain": [
       "Check: When you've updated the starter code, `check()` will tell you whether your code is correct. Remember, you must create the following variables: `tot_missing`, `num_rows`, `num_cols_with_missing`"
      ]
     },
     "metadata": {},
     "output_type": "display_data"
    }
   ],
   "source": [
    "# Fill in the line below: How many rows are in the training data?\n",
    "print('rows=',X_train.shape[0])\n",
    "\n",
    "# Fill in the line below: How many columns in the training data\n",
    "# have missing values?\n",
    "columns = X_train.shape[1]\n",
    "print('columns=',X_train.shape[1])\n",
    "print('missing_val_count_by_column=',missing_val_count_by_column[missing_val_count_by_column > 0].shape[0])\n",
    "\n",
    "# Fill in the line below: How many missing entries are contained in \n",
    "# all of the training data?\n",
    "print('tot_missing =', missing_val_count_by_column[missing_val_count_by_column > 0][0],'+',missing_val_count_by_column[missing_val_count_by_column > 0][1],'+',missing_val_count_by_column[missing_val_count_by_column > 0][2])\n",
    "\n",
    "# Check your answers\n",
    "step_1.a.check()"
   ]
  },
  {
   "cell_type": "code",
   "execution_count": 6,
   "metadata": {
    "execution": {
     "iopub.execute_input": "2020-12-31T07:46:36.116439Z",
     "iopub.status.busy": "2020-12-31T07:46:36.115773Z",
     "iopub.status.idle": "2020-12-31T07:46:36.135052Z",
     "shell.execute_reply": "2020-12-31T07:46:36.135748Z"
    },
    "papermill": {
     "duration": 0.054036,
     "end_time": "2020-12-31T07:46:36.135994",
     "exception": false,
     "start_time": "2020-12-31T07:46:36.081958",
     "status": "completed"
    },
    "tags": []
   },
   "outputs": [
    {
     "data": {
      "application/javascript": [
       "parent.postMessage({\"jupyterEvent\": \"custom.exercise_interaction\", \"data\": {\"interactionType\": 2, \"questionType\": 1, \"questionId\": \"1.1_InvestigateEquality\", \"learnToolsVersion\": \"0.3.4\", \"valueTowardsCompletion\": 0.0, \"failureMessage\": \"\", \"exceptionClass\": \"\", \"trace\": \"\", \"outcomeType\": 4}}, \"*\")"
      ],
      "text/plain": [
       "<IPython.core.display.Javascript object>"
      ]
     },
     "metadata": {},
     "output_type": "display_data"
    },
    {
     "data": {
      "text/markdown": [
       "<span style=\"color:#3366cc\">Hint:</span> Use the output of `X_train.shape` to get the number of rows and columns in the training data.  The `missing_val_count_by_column` Series has an entry for each column in the data, and the output above prints the number of missing entries for each column with at least one missing entry."
      ],
      "text/plain": [
       "Hint: Use the output of `X_train.shape` to get the number of rows and columns in the training data.  The `missing_val_count_by_column` Series has an entry for each column in the data, and the output above prints the number of missing entries for each column with at least one missing entry."
      ]
     },
     "metadata": {},
     "output_type": "display_data"
    },
    {
     "data": {
      "application/javascript": [
       "parent.postMessage({\"jupyterEvent\": \"custom.exercise_interaction\", \"data\": {\"interactionType\": 3, \"questionType\": 1, \"questionId\": \"1.1_InvestigateEquality\", \"learnToolsVersion\": \"0.3.4\", \"valueTowardsCompletion\": 0.0, \"failureMessage\": \"\", \"exceptionClass\": \"\", \"trace\": \"\", \"outcomeType\": 4}}, \"*\")"
      ],
      "text/plain": [
       "<IPython.core.display.Javascript object>"
      ]
     },
     "metadata": {},
     "output_type": "display_data"
    },
    {
     "data": {
      "text/markdown": [
       "<span style=\"color:#33cc99\">Solution:</span> \n",
       "```python\n",
       "# How many rows are in the training data?\n",
       "num_rows = 1168\n",
       "\n",
       "# How many columns in the training data have missing values?\n",
       "num_cols_with_missing = 3\n",
       "\n",
       "# How many missing entries are contained in all of the training data?\n",
       "tot_missing = 212 + 6 + 58\n",
       "\n",
       "```"
      ],
      "text/plain": [
       "Solution: \n",
       "```python\n",
       "# How many rows are in the training data?\n",
       "num_rows = 1168\n",
       "\n",
       "# How many columns in the training data have missing values?\n",
       "num_cols_with_missing = 3\n",
       "\n",
       "# How many missing entries are contained in all of the training data?\n",
       "tot_missing = 212 + 6 + 58\n",
       "\n",
       "```"
      ]
     },
     "metadata": {},
     "output_type": "display_data"
    }
   ],
   "source": [
    "# Lines below will give you a hint or solution code\n",
    "step_1.a.hint()\n",
    "step_1.a.solution()"
   ]
  },
  {
   "cell_type": "markdown",
   "metadata": {
    "papermill": {
     "duration": 0.046777,
     "end_time": "2020-12-31T07:46:36.229462",
     "exception": false,
     "start_time": "2020-12-31T07:46:36.182685",
     "status": "completed"
    },
    "tags": []
   },
   "source": [
    "### Part B\n",
    "Considering your answers above, what do you think is likely the best approach to dealing with the missing values?"
   ]
  },
  {
   "cell_type": "code",
   "execution_count": 7,
   "metadata": {
    "execution": {
     "iopub.execute_input": "2020-12-31T07:46:36.326487Z",
     "iopub.status.busy": "2020-12-31T07:46:36.325774Z",
     "iopub.status.idle": "2020-12-31T07:46:36.335508Z",
     "shell.execute_reply": "2020-12-31T07:46:36.334932Z"
    },
    "papermill": {
     "duration": 0.060588,
     "end_time": "2020-12-31T07:46:36.335624",
     "exception": false,
     "start_time": "2020-12-31T07:46:36.275036",
     "status": "completed"
    },
    "tags": []
   },
   "outputs": [
    {
     "data": {
      "application/javascript": [
       "parent.postMessage({\"jupyterEvent\": \"custom.exercise_interaction\", \"data\": {\"outcomeType\": 1, \"valueTowardsCompletion\": 1.0, \"interactionType\": 1, \"questionType\": 4, \"questionId\": \"1.2_InvestigateThought\", \"learnToolsVersion\": \"0.3.4\", \"failureMessage\": \"\", \"exceptionClass\": \"\", \"trace\": \"\"}}, \"*\")"
      ],
      "text/plain": [
       "<IPython.core.display.Javascript object>"
      ]
     },
     "metadata": {},
     "output_type": "display_data"
    },
    {
     "data": {
      "text/markdown": [
       "<span style=\"color:#33cc33\">Correct:</span> \n",
       "\n",
       "Since there are relatively few missing entries in the data (the column with the greatest percentage of missing values is missing less than 20% of its entries), we can expect that dropping columns is unlikely to yield good results.  This is because we'd be throwing away a lot of valuable data, and so imputation will likely perform better."
      ],
      "text/plain": [
       "Correct: \n",
       "\n",
       "Since there are relatively few missing entries in the data (the column with the greatest percentage of missing values is missing less than 20% of its entries), we can expect that dropping columns is unlikely to yield good results.  This is because we'd be throwing away a lot of valuable data, and so imputation will likely perform better."
      ]
     },
     "metadata": {},
     "output_type": "display_data"
    }
   ],
   "source": [
    "# Check your answer (Run this code cell to receive credit!)\n",
    "step_1.b.check()"
   ]
  },
  {
   "cell_type": "code",
   "execution_count": 8,
   "metadata": {
    "execution": {
     "iopub.execute_input": "2020-12-31T07:46:36.406838Z",
     "iopub.status.busy": "2020-12-31T07:46:36.405639Z",
     "iopub.status.idle": "2020-12-31T07:46:36.414163Z",
     "shell.execute_reply": "2020-12-31T07:46:36.413375Z"
    },
    "papermill": {
     "duration": 0.046281,
     "end_time": "2020-12-31T07:46:36.414316",
     "exception": false,
     "start_time": "2020-12-31T07:46:36.368035",
     "status": "completed"
    },
    "tags": []
   },
   "outputs": [
    {
     "data": {
      "application/javascript": [
       "parent.postMessage({\"jupyterEvent\": \"custom.exercise_interaction\", \"data\": {\"interactionType\": 2, \"questionType\": 4, \"questionId\": \"1.2_InvestigateThought\", \"learnToolsVersion\": \"0.3.4\", \"valueTowardsCompletion\": 0.0, \"failureMessage\": \"\", \"exceptionClass\": \"\", \"trace\": \"\", \"outcomeType\": 4}}, \"*\")"
      ],
      "text/plain": [
       "<IPython.core.display.Javascript object>"
      ]
     },
     "metadata": {},
     "output_type": "display_data"
    },
    {
     "data": {
      "text/markdown": [
       "<span style=\"color:#3366cc\">Hint:</span> Does the dataset have a lot of missing values, or just a few?  Would we lose much information if we completely ignored the columns with missing entries?"
      ],
      "text/plain": [
       "Hint: Does the dataset have a lot of missing values, or just a few?  Would we lose much information if we completely ignored the columns with missing entries?"
      ]
     },
     "metadata": {},
     "output_type": "display_data"
    }
   ],
   "source": [
    "step_1.b.hint()"
   ]
  },
  {
   "cell_type": "markdown",
   "metadata": {
    "papermill": {
     "duration": 0.049645,
     "end_time": "2020-12-31T07:46:36.512641",
     "exception": false,
     "start_time": "2020-12-31T07:46:36.462996",
     "status": "completed"
    },
    "tags": []
   },
   "source": [
    "To compare different approaches to dealing with missing values, you'll use the same `score_dataset()` function from the tutorial.  This function reports the [mean absolute error](https://en.wikipedia.org/wiki/Mean_absolute_error) (MAE) from a random forest model."
   ]
  },
  {
   "cell_type": "code",
   "execution_count": 9,
   "metadata": {
    "execution": {
     "iopub.execute_input": "2020-12-31T07:46:36.626308Z",
     "iopub.status.busy": "2020-12-31T07:46:36.625403Z",
     "iopub.status.idle": "2020-12-31T07:46:37.014302Z",
     "shell.execute_reply": "2020-12-31T07:46:37.013044Z"
    },
    "papermill": {
     "duration": 0.450665,
     "end_time": "2020-12-31T07:46:37.014433",
     "exception": false,
     "start_time": "2020-12-31T07:46:36.563768",
     "status": "completed"
    },
    "tags": []
   },
   "outputs": [],
   "source": [
    "from sklearn.ensemble import RandomForestRegressor\n",
    "from sklearn.metrics import mean_absolute_error\n",
    "\n",
    "# Function for comparing different approaches\n",
    "def score_dataset(X_train, X_valid, y_train, y_valid):\n",
    "    model = RandomForestRegressor(n_estimators=100, random_state=0)\n",
    "    model.fit(X_train, y_train)\n",
    "    preds = model.predict(X_valid)\n",
    "    return mean_absolute_error(y_valid, preds)\n"
   ]
  },
  {
   "cell_type": "markdown",
   "metadata": {
    "papermill": {
     "duration": 0.03202,
     "end_time": "2020-12-31T07:46:37.080408",
     "exception": false,
     "start_time": "2020-12-31T07:46:37.048388",
     "status": "completed"
    },
    "tags": []
   },
   "source": [
    "# Step 2: Drop columns with missing values\n",
    "\n",
    "In this step, you'll preprocess the data in `X_train` and `X_valid` to remove columns with missing values.  Set the preprocessed DataFrames to `reduced_X_train` and `reduced_X_valid`, respectively.  "
   ]
  },
  {
   "cell_type": "code",
   "execution_count": 10,
   "metadata": {
    "execution": {
     "iopub.execute_input": "2020-12-31T07:46:37.162879Z",
     "iopub.status.busy": "2020-12-31T07:46:37.153679Z",
     "iopub.status.idle": "2020-12-31T07:46:37.217322Z",
     "shell.execute_reply": "2020-12-31T07:46:37.218278Z"
    },
    "papermill": {
     "duration": 0.10595,
     "end_time": "2020-12-31T07:46:37.218569",
     "exception": false,
     "start_time": "2020-12-31T07:46:37.112619",
     "status": "completed"
    },
    "tags": []
   },
   "outputs": [
    {
     "name": "stdout",
     "output_type": "stream",
     "text": [
      "['LotFrontage', 'MasVnrArea', 'GarageYrBlt']\n",
      "      MSSubClass  LotArea  OverallQual  OverallCond  YearBuilt  YearRemodAdd  \\\n",
      "Id                                                                             \n",
      "619           20    11694            9            5       2007          2007   \n",
      "871           20     6600            5            5       1962          1962   \n",
      "93            30    13360            5            7       1921          2006   \n",
      "818           20    13265            8            5       2002          2002   \n",
      "303           20    13704            7            5       2001          2002   \n",
      "...          ...      ...          ...          ...        ...           ...   \n",
      "764           60     9430            8            5       1999          1999   \n",
      "836           20     9600            4            7       1950          1995   \n",
      "1217          90     8930            6            5       1978          1978   \n",
      "560          120     3196            7            5       2003          2004   \n",
      "685           60    16770            7            5       1998          1998   \n",
      "\n",
      "      BsmtFinSF1  BsmtFinSF2  BsmtUnfSF  TotalBsmtSF  ...  GarageArea  \\\n",
      "Id                                                    ...               \n",
      "619           48           0       1774         1822  ...         774   \n",
      "871            0           0        894          894  ...         308   \n",
      "93           713           0        163          876  ...         432   \n",
      "818         1218           0        350         1568  ...         857   \n",
      "303            0           0       1541         1541  ...         843   \n",
      "...          ...         ...        ...          ...  ...         ...   \n",
      "764         1163           0         89         1252  ...         856   \n",
      "836          442           0        625         1067  ...         436   \n",
      "1217           0           0          0            0  ...         539   \n",
      "560            0           0       1374         1374  ...         420   \n",
      "685            0           0       1195         1195  ...         486   \n",
      "\n",
      "      WoodDeckSF  OpenPorchSF  EnclosedPorch  3SsnPorch  ScreenPorch  \\\n",
      "Id                                                                     \n",
      "619            0          108              0          0          260   \n",
      "871            0            0              0          0            0   \n",
      "93             0            0             44          0            0   \n",
      "818          150           59              0          0            0   \n",
      "303          468           81              0          0            0   \n",
      "...          ...          ...            ...        ...          ...   \n",
      "764            0          128              0          0          180   \n",
      "836          290            0              0          0            0   \n",
      "1217           0            0              0          0            0   \n",
      "560          143           20              0          0            0   \n",
      "685            0           81              0          0            0   \n",
      "\n",
      "      PoolArea  MiscVal  MoSold  YrSold  \n",
      "Id                                       \n",
      "619          0        0       7    2007  \n",
      "871          0        0       8    2009  \n",
      "93           0        0       8    2009  \n",
      "818          0        0       7    2008  \n",
      "303          0        0       1    2006  \n",
      "...        ...      ...     ...     ...  \n",
      "764          0        0       7    2009  \n",
      "836          0        0       2    2010  \n",
      "1217         0        0       4    2010  \n",
      "560          0        0      10    2006  \n",
      "685          0        0       6    2010  \n",
      "\n",
      "[1168 rows x 33 columns]\n"
     ]
    },
    {
     "data": {
      "application/javascript": [
       "parent.postMessage({\"jupyterEvent\": \"custom.exercise_interaction\", \"data\": {\"outcomeType\": 1, \"valueTowardsCompletion\": 1.0, \"interactionType\": 1, \"questionType\": 2, \"questionId\": \"2_DropMissing\", \"learnToolsVersion\": \"0.3.4\", \"failureMessage\": \"\", \"exceptionClass\": \"\", \"trace\": \"\"}}, \"*\")"
      ],
      "text/plain": [
       "<IPython.core.display.Javascript object>"
      ]
     },
     "metadata": {},
     "output_type": "display_data"
    },
    {
     "data": {
      "text/markdown": [
       "<span style=\"color:#33cc33\">Correct</span>"
      ],
      "text/plain": [
       "Correct"
      ]
     },
     "metadata": {},
     "output_type": "display_data"
    }
   ],
   "source": [
    "# Fill in the line below: get names of columns with missing values\n",
    "cols_with_missing = [col for col in X_train.columns\n",
    "                     if X_train[col].isnull().any()]\n",
    "print(cols_with_missing)\n",
    "\n",
    "\n",
    "# Fill in the lines below: drop columns in training and validation data\n",
    "#print(X_train)\n",
    "\n",
    "reduced_X_train = X_train.drop(cols_with_missing, axis=1)\n",
    "reduced_X_valid = X_valid.drop(cols_with_missing, axis=1)\n",
    "print(reduced_X_train)\n",
    "#print(reduced_X_valid)\n",
    "# Check your answers\n",
    "step_2.check()"
   ]
  },
  {
   "cell_type": "code",
   "execution_count": 11,
   "metadata": {
    "execution": {
     "iopub.execute_input": "2020-12-31T07:46:37.329764Z",
     "iopub.status.busy": "2020-12-31T07:46:37.328805Z",
     "iopub.status.idle": "2020-12-31T07:46:37.345527Z",
     "shell.execute_reply": "2020-12-31T07:46:37.344838Z"
    },
    "papermill": {
     "duration": 0.074941,
     "end_time": "2020-12-31T07:46:37.345653",
     "exception": false,
     "start_time": "2020-12-31T07:46:37.270712",
     "status": "completed"
    },
    "tags": []
   },
   "outputs": [
    {
     "data": {
      "application/javascript": [
       "parent.postMessage({\"jupyterEvent\": \"custom.exercise_interaction\", \"data\": {\"interactionType\": 2, \"questionType\": 2, \"questionId\": \"2_DropMissing\", \"learnToolsVersion\": \"0.3.4\", \"valueTowardsCompletion\": 0.0, \"failureMessage\": \"\", \"exceptionClass\": \"\", \"trace\": \"\", \"outcomeType\": 4}}, \"*\")"
      ],
      "text/plain": [
       "<IPython.core.display.Javascript object>"
      ]
     },
     "metadata": {},
     "output_type": "display_data"
    },
    {
     "data": {
      "text/markdown": [
       "<span style=\"color:#3366cc\">Hint:</span> Begin by finding the list of columns in the data with missing values.  Then, drop these columns in both the training and validation data with the `drop()` method."
      ],
      "text/plain": [
       "Hint: Begin by finding the list of columns in the data with missing values.  Then, drop these columns in both the training and validation data with the `drop()` method."
      ]
     },
     "metadata": {},
     "output_type": "display_data"
    },
    {
     "data": {
      "application/javascript": [
       "parent.postMessage({\"jupyterEvent\": \"custom.exercise_interaction\", \"data\": {\"interactionType\": 3, \"questionType\": 2, \"questionId\": \"2_DropMissing\", \"learnToolsVersion\": \"0.3.4\", \"valueTowardsCompletion\": 0.0, \"failureMessage\": \"\", \"exceptionClass\": \"\", \"trace\": \"\", \"outcomeType\": 4}}, \"*\")"
      ],
      "text/plain": [
       "<IPython.core.display.Javascript object>"
      ]
     },
     "metadata": {},
     "output_type": "display_data"
    },
    {
     "data": {
      "text/markdown": [
       "<span style=\"color:#33cc99\">Solution:</span> \n",
       "```python\n",
       "# Get names of columns with missing values\n",
       "cols_with_missing = [col for col in X_train.columns\n",
       "                     if X_train[col].isnull().any()]\n",
       "\n",
       "# Drop columns in training and validation data\n",
       "reduced_X_train = X_train.drop(cols_with_missing, axis=1)\n",
       "reduced_X_valid = X_valid.drop(cols_with_missing, axis=1)\n",
       "\n",
       "```"
      ],
      "text/plain": [
       "Solution: \n",
       "```python\n",
       "# Get names of columns with missing values\n",
       "cols_with_missing = [col for col in X_train.columns\n",
       "                     if X_train[col].isnull().any()]\n",
       "\n",
       "# Drop columns in training and validation data\n",
       "reduced_X_train = X_train.drop(cols_with_missing, axis=1)\n",
       "reduced_X_valid = X_valid.drop(cols_with_missing, axis=1)\n",
       "\n",
       "```"
      ]
     },
     "metadata": {},
     "output_type": "display_data"
    }
   ],
   "source": [
    "# Lines below will give you a hint or solution code\n",
    "step_2.hint()\n",
    "step_2.solution()"
   ]
  },
  {
   "cell_type": "markdown",
   "metadata": {
    "papermill": {
     "duration": 0.037947,
     "end_time": "2020-12-31T07:46:37.421941",
     "exception": false,
     "start_time": "2020-12-31T07:46:37.383994",
     "status": "completed"
    },
    "tags": []
   },
   "source": [
    "Run the next code cell without changes to obtain the MAE for this approach."
   ]
  },
  {
   "cell_type": "code",
   "execution_count": 12,
   "metadata": {
    "execution": {
     "iopub.execute_input": "2020-12-31T07:46:37.511916Z",
     "iopub.status.busy": "2020-12-31T07:46:37.504508Z",
     "iopub.status.idle": "2020-12-31T07:46:38.950081Z",
     "shell.execute_reply": "2020-12-31T07:46:38.950580Z"
    },
    "papermill": {
     "duration": 1.491857,
     "end_time": "2020-12-31T07:46:38.950764",
     "exception": false,
     "start_time": "2020-12-31T07:46:37.458907",
     "status": "completed"
    },
    "tags": []
   },
   "outputs": [
    {
     "name": "stdout",
     "output_type": "stream",
     "text": [
      "MAE (Drop columns with missing values):\n",
      "17837.82570776256\n"
     ]
    }
   ],
   "source": [
    "print(\"MAE (Drop columns with missing values):\")\n",
    "print(score_dataset(reduced_X_train, reduced_X_valid, y_train, y_valid))"
   ]
  },
  {
   "cell_type": "markdown",
   "metadata": {
    "papermill": {
     "duration": 0.041904,
     "end_time": "2020-12-31T07:46:39.033390",
     "exception": false,
     "start_time": "2020-12-31T07:46:38.991486",
     "status": "completed"
    },
    "tags": []
   },
   "source": [
    "# Step 3: Imputation\n",
    "\n",
    "### Part A\n",
    "\n",
    "Use the next code cell to impute missing values with the mean value along each column.  Set the preprocessed DataFrames to `imputed_X_train` and `imputed_X_valid`.  Make sure that the column names match those in `X_train` and `X_valid`."
   ]
  },
  {
   "cell_type": "code",
   "execution_count": 13,
   "metadata": {
    "execution": {
     "iopub.execute_input": "2020-12-31T07:46:39.119398Z",
     "iopub.status.busy": "2020-12-31T07:46:39.118463Z",
     "iopub.status.idle": "2020-12-31T07:46:39.231446Z",
     "shell.execute_reply": "2020-12-31T07:46:39.230921Z"
    },
    "papermill": {
     "duration": 0.160772,
     "end_time": "2020-12-31T07:46:39.231564",
     "exception": false,
     "start_time": "2020-12-31T07:46:39.070792",
     "status": "completed"
    },
    "tags": []
   },
   "outputs": [
    {
     "name": "stdout",
     "output_type": "stream",
     "text": [
      "         0           1        2    3    4       5       6      7       8   \\\n",
      "0      20.0   90.000000  11694.0  9.0  5.0  2007.0  2007.0  452.0    48.0   \n",
      "1      20.0   60.000000   6600.0  5.0  5.0  1962.0  1962.0    0.0     0.0   \n",
      "2      30.0   80.000000  13360.0  5.0  7.0  1921.0  2006.0    0.0   713.0   \n",
      "3      20.0   69.614017  13265.0  8.0  5.0  2002.0  2002.0  148.0  1218.0   \n",
      "4      20.0  118.000000  13704.0  7.0  5.0  2001.0  2002.0  150.0     0.0   \n",
      "...     ...         ...      ...  ...  ...     ...     ...    ...     ...   \n",
      "1163   60.0   82.000000   9430.0  8.0  5.0  1999.0  1999.0  673.0  1163.0   \n",
      "1164   20.0   60.000000   9600.0  4.0  7.0  1950.0  1995.0    0.0   442.0   \n",
      "1165   90.0   68.000000   8930.0  6.0  5.0  1978.0  1978.0    0.0     0.0   \n",
      "1166  120.0   69.614017   3196.0  7.0  5.0  2003.0  2004.0   18.0     0.0   \n",
      "1167   60.0   58.000000  16770.0  7.0  5.0  1998.0  1998.0   30.0     0.0   \n",
      "\n",
      "       9   ...     26     27     28    29   30     31   32   33    34      35  \n",
      "0     0.0  ...  774.0    0.0  108.0   0.0  0.0  260.0  0.0  0.0   7.0  2007.0  \n",
      "1     0.0  ...  308.0    0.0    0.0   0.0  0.0    0.0  0.0  0.0   8.0  2009.0  \n",
      "2     0.0  ...  432.0    0.0    0.0  44.0  0.0    0.0  0.0  0.0   8.0  2009.0  \n",
      "3     0.0  ...  857.0  150.0   59.0   0.0  0.0    0.0  0.0  0.0   7.0  2008.0  \n",
      "4     0.0  ...  843.0  468.0   81.0   0.0  0.0    0.0  0.0  0.0   1.0  2006.0  \n",
      "...   ...  ...    ...    ...    ...   ...  ...    ...  ...  ...   ...     ...  \n",
      "1163  0.0  ...  856.0    0.0  128.0   0.0  0.0  180.0  0.0  0.0   7.0  2009.0  \n",
      "1164  0.0  ...  436.0  290.0    0.0   0.0  0.0    0.0  0.0  0.0   2.0  2010.0  \n",
      "1165  0.0  ...  539.0    0.0    0.0   0.0  0.0    0.0  0.0  0.0   4.0  2010.0  \n",
      "1166  0.0  ...  420.0  143.0   20.0   0.0  0.0    0.0  0.0  0.0  10.0  2006.0  \n",
      "1167  0.0  ...  486.0    0.0   81.0   0.0  0.0    0.0  0.0  0.0   6.0  2010.0  \n",
      "\n",
      "[1168 rows x 36 columns]\n",
      "        0           1        2     3    4       5       6           7   \\\n",
      "0     20.0   69.614017  32668.0   6.0  3.0  1957.0  1975.0  103.481067   \n",
      "1     50.0   79.000000   9490.0   6.0  7.0  1941.0  1950.0    0.000000   \n",
      "2     50.0   69.614017   7015.0   5.0  4.0  1950.0  1950.0  161.000000   \n",
      "3     60.0   83.000000  10005.0   7.0  5.0  1977.0  1977.0  299.000000   \n",
      "4    160.0   21.000000   1680.0   6.0  5.0  1971.0  1971.0  381.000000   \n",
      "..     ...         ...      ...   ...  ...     ...     ...         ...   \n",
      "287  120.0   32.000000  10846.0   8.0  5.0  1993.0  1993.0    0.000000   \n",
      "288   20.0  105.000000  15431.0  10.0  5.0  2008.0  2008.0  200.000000   \n",
      "289   50.0   60.000000   8520.0   6.0  7.0  1916.0  1950.0    0.000000   \n",
      "290   30.0   50.000000   5330.0   4.0  7.0  1940.0  1950.0    0.000000   \n",
      "291   75.0   60.000000   7200.0   5.0  7.0  1920.0  1996.0    0.000000   \n",
      "\n",
      "         8      9   ...     26     27     28     29   30     31   32   33  \\\n",
      "0    1219.0    0.0  ...  484.0    0.0    0.0  200.0  0.0    0.0  0.0  0.0   \n",
      "1     403.0  165.0  ...  240.0    0.0    0.0   32.0  0.0    0.0  0.0  0.0   \n",
      "2     185.0    0.0  ...  352.0    0.0    0.0  248.0  0.0    0.0  0.0  0.0   \n",
      "3     392.0    0.0  ...  505.0  288.0  117.0    0.0  0.0    0.0  0.0  0.0   \n",
      "4       0.0    0.0  ...  264.0    0.0    0.0    0.0  0.0    0.0  0.0  0.0   \n",
      "..      ...    ...  ...    ...    ...    ...    ...  ...    ...  ...  ...   \n",
      "287  1619.0    0.0  ...  473.0  122.0   30.0    0.0  0.0    0.0  0.0  0.0   \n",
      "288  1767.0  539.0  ...  672.0    0.0   72.0    0.0  0.0  170.0  0.0  0.0   \n",
      "289   168.0  546.0  ...  216.0   88.0   15.0    0.0  0.0    0.0  0.0  0.0   \n",
      "290   280.0    0.0  ...    0.0  164.0    0.0    0.0  0.0    0.0  0.0  0.0   \n",
      "291     0.0    0.0  ...  288.0    0.0    0.0  144.0  0.0    0.0  0.0  0.0   \n",
      "\n",
      "       34      35  \n",
      "0     3.0  2007.0  \n",
      "1     8.0  2006.0  \n",
      "2     7.0  2009.0  \n",
      "3     3.0  2008.0  \n",
      "4     3.0  2010.0  \n",
      "..    ...     ...  \n",
      "287   5.0  2008.0  \n",
      "288   4.0  2009.0  \n",
      "289   8.0  2007.0  \n",
      "290  12.0  2009.0  \n",
      "291   3.0  2007.0  \n",
      "\n",
      "[292 rows x 36 columns]\n",
      "Index(['MSSubClass', 'LotFrontage', 'LotArea', 'OverallQual', 'OverallCond',\n",
      "       'YearBuilt', 'YearRemodAdd', 'MasVnrArea', 'BsmtFinSF1', 'BsmtFinSF2',\n",
      "       'BsmtUnfSF', 'TotalBsmtSF', '1stFlrSF', '2ndFlrSF', 'LowQualFinSF',\n",
      "       'GrLivArea', 'BsmtFullBath', 'BsmtHalfBath', 'FullBath', 'HalfBath',\n",
      "       'BedroomAbvGr', 'KitchenAbvGr', 'TotRmsAbvGrd', 'Fireplaces',\n",
      "       'GarageYrBlt', 'GarageCars', 'GarageArea', 'WoodDeckSF', 'OpenPorchSF',\n",
      "       'EnclosedPorch', '3SsnPorch', 'ScreenPorch', 'PoolArea', 'MiscVal',\n",
      "       'MoSold', 'YrSold'],\n",
      "      dtype='object')\n",
      "Index(['MSSubClass', 'LotFrontage', 'LotArea', 'OverallQual', 'OverallCond',\n",
      "       'YearBuilt', 'YearRemodAdd', 'MasVnrArea', 'BsmtFinSF1', 'BsmtFinSF2',\n",
      "       'BsmtUnfSF', 'TotalBsmtSF', '1stFlrSF', '2ndFlrSF', 'LowQualFinSF',\n",
      "       'GrLivArea', 'BsmtFullBath', 'BsmtHalfBath', 'FullBath', 'HalfBath',\n",
      "       'BedroomAbvGr', 'KitchenAbvGr', 'TotRmsAbvGrd', 'Fireplaces',\n",
      "       'GarageYrBlt', 'GarageCars', 'GarageArea', 'WoodDeckSF', 'OpenPorchSF',\n",
      "       'EnclosedPorch', '3SsnPorch', 'ScreenPorch', 'PoolArea', 'MiscVal',\n",
      "       'MoSold', 'YrSold'],\n",
      "      dtype='object')\n",
      "      MSSubClass  LotFrontage  LotArea  OverallQual  OverallCond  YearBuilt  \\\n",
      "0           20.0    90.000000  11694.0          9.0          5.0     2007.0   \n",
      "1           20.0    60.000000   6600.0          5.0          5.0     1962.0   \n",
      "2           30.0    80.000000  13360.0          5.0          7.0     1921.0   \n",
      "3           20.0    69.614017  13265.0          8.0          5.0     2002.0   \n",
      "4           20.0   118.000000  13704.0          7.0          5.0     2001.0   \n",
      "...          ...          ...      ...          ...          ...        ...   \n",
      "1163        60.0    82.000000   9430.0          8.0          5.0     1999.0   \n",
      "1164        20.0    60.000000   9600.0          4.0          7.0     1950.0   \n",
      "1165        90.0    68.000000   8930.0          6.0          5.0     1978.0   \n",
      "1166       120.0    69.614017   3196.0          7.0          5.0     2003.0   \n",
      "1167        60.0    58.000000  16770.0          7.0          5.0     1998.0   \n",
      "\n",
      "      YearRemodAdd  MasVnrArea  BsmtFinSF1  BsmtFinSF2  ...  GarageArea  \\\n",
      "0           2007.0       452.0        48.0         0.0  ...       774.0   \n",
      "1           1962.0         0.0         0.0         0.0  ...       308.0   \n",
      "2           2006.0         0.0       713.0         0.0  ...       432.0   \n",
      "3           2002.0       148.0      1218.0         0.0  ...       857.0   \n",
      "4           2002.0       150.0         0.0         0.0  ...       843.0   \n",
      "...            ...         ...         ...         ...  ...         ...   \n",
      "1163        1999.0       673.0      1163.0         0.0  ...       856.0   \n",
      "1164        1995.0         0.0       442.0         0.0  ...       436.0   \n",
      "1165        1978.0         0.0         0.0         0.0  ...       539.0   \n",
      "1166        2004.0        18.0         0.0         0.0  ...       420.0   \n",
      "1167        1998.0        30.0         0.0         0.0  ...       486.0   \n",
      "\n",
      "      WoodDeckSF  OpenPorchSF  EnclosedPorch  3SsnPorch  ScreenPorch  \\\n",
      "0            0.0        108.0            0.0        0.0        260.0   \n",
      "1            0.0          0.0            0.0        0.0          0.0   \n",
      "2            0.0          0.0           44.0        0.0          0.0   \n",
      "3          150.0         59.0            0.0        0.0          0.0   \n",
      "4          468.0         81.0            0.0        0.0          0.0   \n",
      "...          ...          ...            ...        ...          ...   \n",
      "1163         0.0        128.0            0.0        0.0        180.0   \n",
      "1164       290.0          0.0            0.0        0.0          0.0   \n",
      "1165         0.0          0.0            0.0        0.0          0.0   \n",
      "1166       143.0         20.0            0.0        0.0          0.0   \n",
      "1167         0.0         81.0            0.0        0.0          0.0   \n",
      "\n",
      "      PoolArea  MiscVal  MoSold  YrSold  \n",
      "0          0.0      0.0     7.0  2007.0  \n",
      "1          0.0      0.0     8.0  2009.0  \n",
      "2          0.0      0.0     8.0  2009.0  \n",
      "3          0.0      0.0     7.0  2008.0  \n",
      "4          0.0      0.0     1.0  2006.0  \n",
      "...        ...      ...     ...     ...  \n",
      "1163       0.0      0.0     7.0  2009.0  \n",
      "1164       0.0      0.0     2.0  2010.0  \n",
      "1165       0.0      0.0     4.0  2010.0  \n",
      "1166       0.0      0.0    10.0  2006.0  \n",
      "1167       0.0      0.0     6.0  2010.0  \n",
      "\n",
      "[1168 rows x 36 columns]\n",
      "     MSSubClass  LotFrontage  LotArea  OverallQual  OverallCond  YearBuilt  \\\n",
      "0          20.0    69.614017  32668.0          6.0          3.0     1957.0   \n",
      "1          50.0    79.000000   9490.0          6.0          7.0     1941.0   \n",
      "2          50.0    69.614017   7015.0          5.0          4.0     1950.0   \n",
      "3          60.0    83.000000  10005.0          7.0          5.0     1977.0   \n",
      "4         160.0    21.000000   1680.0          6.0          5.0     1971.0   \n",
      "..          ...          ...      ...          ...          ...        ...   \n",
      "287       120.0    32.000000  10846.0          8.0          5.0     1993.0   \n",
      "288        20.0   105.000000  15431.0         10.0          5.0     2008.0   \n",
      "289        50.0    60.000000   8520.0          6.0          7.0     1916.0   \n",
      "290        30.0    50.000000   5330.0          4.0          7.0     1940.0   \n",
      "291        75.0    60.000000   7200.0          5.0          7.0     1920.0   \n",
      "\n",
      "     YearRemodAdd  MasVnrArea  BsmtFinSF1  BsmtFinSF2  ...  GarageArea  \\\n",
      "0          1975.0  103.481067      1219.0         0.0  ...       484.0   \n",
      "1          1950.0    0.000000       403.0       165.0  ...       240.0   \n",
      "2          1950.0  161.000000       185.0         0.0  ...       352.0   \n",
      "3          1977.0  299.000000       392.0         0.0  ...       505.0   \n",
      "4          1971.0  381.000000         0.0         0.0  ...       264.0   \n",
      "..            ...         ...         ...         ...  ...         ...   \n",
      "287        1993.0    0.000000      1619.0         0.0  ...       473.0   \n",
      "288        2008.0  200.000000      1767.0       539.0  ...       672.0   \n",
      "289        1950.0    0.000000       168.0       546.0  ...       216.0   \n",
      "290        1950.0    0.000000       280.0         0.0  ...         0.0   \n",
      "291        1996.0    0.000000         0.0         0.0  ...       288.0   \n",
      "\n",
      "     WoodDeckSF  OpenPorchSF  EnclosedPorch  3SsnPorch  ScreenPorch  PoolArea  \\\n",
      "0           0.0          0.0          200.0        0.0          0.0       0.0   \n",
      "1           0.0          0.0           32.0        0.0          0.0       0.0   \n",
      "2           0.0          0.0          248.0        0.0          0.0       0.0   \n",
      "3         288.0        117.0            0.0        0.0          0.0       0.0   \n",
      "4           0.0          0.0            0.0        0.0          0.0       0.0   \n",
      "..          ...          ...            ...        ...          ...       ...   \n",
      "287       122.0         30.0            0.0        0.0          0.0       0.0   \n",
      "288         0.0         72.0            0.0        0.0        170.0       0.0   \n",
      "289        88.0         15.0            0.0        0.0          0.0       0.0   \n",
      "290       164.0          0.0            0.0        0.0          0.0       0.0   \n",
      "291         0.0          0.0          144.0        0.0          0.0       0.0   \n",
      "\n",
      "     MiscVal  MoSold  YrSold  \n",
      "0        0.0     3.0  2007.0  \n",
      "1        0.0     8.0  2006.0  \n",
      "2        0.0     7.0  2009.0  \n",
      "3        0.0     3.0  2008.0  \n",
      "4        0.0     3.0  2010.0  \n",
      "..       ...     ...     ...  \n",
      "287      0.0     5.0  2008.0  \n",
      "288      0.0     4.0  2009.0  \n",
      "289      0.0     8.0  2007.0  \n",
      "290      0.0    12.0  2009.0  \n",
      "291      0.0     3.0  2007.0  \n",
      "\n",
      "[292 rows x 36 columns]\n"
     ]
    },
    {
     "data": {
      "application/javascript": [
       "parent.postMessage({\"jupyterEvent\": \"custom.exercise_interaction\", \"data\": {\"outcomeType\": 1, \"valueTowardsCompletion\": 1.0, \"interactionType\": 1, \"questionType\": 2, \"questionId\": \"3.1_ImputeCode\", \"learnToolsVersion\": \"0.3.4\", \"failureMessage\": \"\", \"exceptionClass\": \"\", \"trace\": \"\"}}, \"*\")"
      ],
      "text/plain": [
       "<IPython.core.display.Javascript object>"
      ]
     },
     "metadata": {},
     "output_type": "display_data"
    },
    {
     "data": {
      "text/markdown": [
       "<span style=\"color:#33cc33\">Correct</span>"
      ],
      "text/plain": [
       "Correct"
      ]
     },
     "metadata": {},
     "output_type": "display_data"
    }
   ],
   "source": [
    "from sklearn.impute import SimpleImputer\n",
    "\n",
    "# Fill in the lines below: imputation\n",
    "____ # Your code here\n",
    "my_imputer = SimpleImputer()\n",
    "imputed_X_train = pd.DataFrame(my_imputer.fit_transform(X_train))\n",
    "imputed_X_valid = pd.DataFrame(my_imputer.transform(X_valid))\n",
    "print(imputed_X_train)\n",
    "print(imputed_X_valid)\n",
    "# Fill in the lines below: imputation removed column names; put them back\n",
    "imputed_X_train.columns = X_train.columns\n",
    "imputed_X_valid.columns = X_valid.columns\n",
    "print(imputed_X_train.columns)\n",
    "print(imputed_X_valid.columns)\n",
    "print(imputed_X_train)\n",
    "print(imputed_X_valid)\n",
    "# Check your answers\n",
    "step_3.a.check()"
   ]
  },
  {
   "cell_type": "code",
   "execution_count": 14,
   "metadata": {
    "execution": {
     "iopub.execute_input": "2020-12-31T07:46:39.317051Z",
     "iopub.status.busy": "2020-12-31T07:46:39.316354Z",
     "iopub.status.idle": "2020-12-31T07:46:39.326177Z",
     "shell.execute_reply": "2020-12-31T07:46:39.325451Z"
    },
    "papermill": {
     "duration": 0.054523,
     "end_time": "2020-12-31T07:46:39.326308",
     "exception": false,
     "start_time": "2020-12-31T07:46:39.271785",
     "status": "completed"
    },
    "tags": []
   },
   "outputs": [
    {
     "data": {
      "application/javascript": [
       "parent.postMessage({\"jupyterEvent\": \"custom.exercise_interaction\", \"data\": {\"interactionType\": 2, \"questionType\": 2, \"questionId\": \"3.1_ImputeCode\", \"learnToolsVersion\": \"0.3.4\", \"valueTowardsCompletion\": 0.0, \"failureMessage\": \"\", \"exceptionClass\": \"\", \"trace\": \"\", \"outcomeType\": 4}}, \"*\")"
      ],
      "text/plain": [
       "<IPython.core.display.Javascript object>"
      ]
     },
     "metadata": {},
     "output_type": "display_data"
    },
    {
     "data": {
      "text/markdown": [
       "<span style=\"color:#3366cc\">Hint:</span> Begin by defining an instance of the `SimpleImputer()` class.  Then, use the imputer to fit and transform the training data, before transforming the validation data. Get the original column names from the original DataFrames `X_train` and `X_valid`."
      ],
      "text/plain": [
       "Hint: Begin by defining an instance of the `SimpleImputer()` class.  Then, use the imputer to fit and transform the training data, before transforming the validation data. Get the original column names from the original DataFrames `X_train` and `X_valid`."
      ]
     },
     "metadata": {},
     "output_type": "display_data"
    },
    {
     "data": {
      "application/javascript": [
       "parent.postMessage({\"jupyterEvent\": \"custom.exercise_interaction\", \"data\": {\"interactionType\": 3, \"questionType\": 2, \"questionId\": \"3.1_ImputeCode\", \"learnToolsVersion\": \"0.3.4\", \"valueTowardsCompletion\": 0.0, \"failureMessage\": \"\", \"exceptionClass\": \"\", \"trace\": \"\", \"outcomeType\": 4}}, \"*\")"
      ],
      "text/plain": [
       "<IPython.core.display.Javascript object>"
      ]
     },
     "metadata": {},
     "output_type": "display_data"
    },
    {
     "data": {
      "text/markdown": [
       "<span style=\"color:#33cc99\">Solution:</span> \n",
       "```python\n",
       "# Imputation\n",
       "my_imputer = SimpleImputer()\n",
       "imputed_X_train = pd.DataFrame(my_imputer.fit_transform(X_train))\n",
       "imputed_X_valid = pd.DataFrame(my_imputer.transform(X_valid))\n",
       "\n",
       "# Imputation removed column names; put them back\n",
       "imputed_X_train.columns = X_train.columns\n",
       "imputed_X_valid.columns = X_valid.columns\n",
       "\n",
       "```"
      ],
      "text/plain": [
       "Solution: \n",
       "```python\n",
       "# Imputation\n",
       "my_imputer = SimpleImputer()\n",
       "imputed_X_train = pd.DataFrame(my_imputer.fit_transform(X_train))\n",
       "imputed_X_valid = pd.DataFrame(my_imputer.transform(X_valid))\n",
       "\n",
       "# Imputation removed column names; put them back\n",
       "imputed_X_train.columns = X_train.columns\n",
       "imputed_X_valid.columns = X_valid.columns\n",
       "\n",
       "```"
      ]
     },
     "metadata": {},
     "output_type": "display_data"
    }
   ],
   "source": [
    "# Lines below will give you a hint or solution code\n",
    "step_3.a.hint()\n",
    "step_3.a.solution()"
   ]
  },
  {
   "cell_type": "markdown",
   "metadata": {
    "papermill": {
     "duration": 0.041239,
     "end_time": "2020-12-31T07:46:39.410362",
     "exception": false,
     "start_time": "2020-12-31T07:46:39.369123",
     "status": "completed"
    },
    "tags": []
   },
   "source": [
    "Run the next code cell without changes to obtain the MAE for this approach."
   ]
  },
  {
   "cell_type": "code",
   "execution_count": 15,
   "metadata": {
    "execution": {
     "iopub.execute_input": "2020-12-31T07:46:39.498216Z",
     "iopub.status.busy": "2020-12-31T07:46:39.497575Z",
     "iopub.status.idle": "2020-12-31T07:46:41.074443Z",
     "shell.execute_reply": "2020-12-31T07:46:41.074963Z"
    },
    "papermill": {
     "duration": 1.621736,
     "end_time": "2020-12-31T07:46:41.075119",
     "exception": false,
     "start_time": "2020-12-31T07:46:39.453383",
     "status": "completed"
    },
    "tags": []
   },
   "outputs": [
    {
     "name": "stdout",
     "output_type": "stream",
     "text": [
      "MAE (Imputation):\n",
      "18062.894611872147\n"
     ]
    }
   ],
   "source": [
    "print(\"MAE (Imputation):\")\n",
    "print(score_dataset(imputed_X_train, imputed_X_valid, y_train, y_valid))"
   ]
  },
  {
   "cell_type": "markdown",
   "metadata": {
    "papermill": {
     "duration": 0.043643,
     "end_time": "2020-12-31T07:46:41.162071",
     "exception": false,
     "start_time": "2020-12-31T07:46:41.118428",
     "status": "completed"
    },
    "tags": []
   },
   "source": [
    "### Part B\n",
    "\n",
    "Compare the MAE from each approach.  Does anything surprise you about the results?  Why do you think one approach performed better than the other?"
   ]
  },
  {
   "cell_type": "code",
   "execution_count": 16,
   "metadata": {
    "execution": {
     "iopub.execute_input": "2020-12-31T07:46:41.258358Z",
     "iopub.status.busy": "2020-12-31T07:46:41.257467Z",
     "iopub.status.idle": "2020-12-31T07:46:41.266351Z",
     "shell.execute_reply": "2020-12-31T07:46:41.266965Z"
    },
    "papermill": {
     "duration": 0.06035,
     "end_time": "2020-12-31T07:46:41.267126",
     "exception": false,
     "start_time": "2020-12-31T07:46:41.206776",
     "status": "completed"
    },
    "tags": []
   },
   "outputs": [
    {
     "data": {
      "application/javascript": [
       "parent.postMessage({\"jupyterEvent\": \"custom.exercise_interaction\", \"data\": {\"outcomeType\": 1, \"valueTowardsCompletion\": 1.0, \"interactionType\": 1, \"questionType\": 4, \"questionId\": \"3.2_ImputeThought\", \"learnToolsVersion\": \"0.3.4\", \"failureMessage\": \"\", \"exceptionClass\": \"\", \"trace\": \"\"}}, \"*\")"
      ],
      "text/plain": [
       "<IPython.core.display.Javascript object>"
      ]
     },
     "metadata": {},
     "output_type": "display_data"
    },
    {
     "data": {
      "text/markdown": [
       "<span style=\"color:#33cc33\">Correct:</span> \n",
       "\n",
       "Given that thre are so few missing values in the dataset, we'd expect imputation to perform better than dropping columns entirely.  However, we see that dropping columns performs slightly better!  While this can probably partially be attributed to noise in the dataset, another potential explanation is that the imputation method is not a great match to this dataset.  That is, maybe instead of filling in the mean value, it makes more sense to set every missing value to a value of 0, to fill in the most frequently encountered value, or to use some other method.  For instance, consider the `GarageYrBlt` column (which indicates the year that the garage was built).  It's likely that in some cases, a missing value could indicate a house that does not have a garage.  Does it make more sense to fill in the median value along each column in this case?  Or could we get better results by filling in the minimum value along each column?  It's not quite clear what's best in this case, but perhaps we can rule out some options immediately - for instance, setting missing values in this column to 0 is likely to yield horrible results!"
      ],
      "text/plain": [
       "Correct: \n",
       "\n",
       "Given that thre are so few missing values in the dataset, we'd expect imputation to perform better than dropping columns entirely.  However, we see that dropping columns performs slightly better!  While this can probably partially be attributed to noise in the dataset, another potential explanation is that the imputation method is not a great match to this dataset.  That is, maybe instead of filling in the mean value, it makes more sense to set every missing value to a value of 0, to fill in the most frequently encountered value, or to use some other method.  For instance, consider the `GarageYrBlt` column (which indicates the year that the garage was built).  It's likely that in some cases, a missing value could indicate a house that does not have a garage.  Does it make more sense to fill in the median value along each column in this case?  Or could we get better results by filling in the minimum value along each column?  It's not quite clear what's best in this case, but perhaps we can rule out some options immediately - for instance, setting missing values in this column to 0 is likely to yield horrible results!"
      ]
     },
     "metadata": {},
     "output_type": "display_data"
    }
   ],
   "source": [
    "# Check your answer (Run this code cell to receive credit!)\n",
    "step_3.b.check()"
   ]
  },
  {
   "cell_type": "code",
   "execution_count": 17,
   "metadata": {
    "execution": {
     "iopub.execute_input": "2020-12-31T07:46:41.364123Z",
     "iopub.status.busy": "2020-12-31T07:46:41.363434Z",
     "iopub.status.idle": "2020-12-31T07:46:41.368388Z",
     "shell.execute_reply": "2020-12-31T07:46:41.367658Z"
    },
    "papermill": {
     "duration": 0.056873,
     "end_time": "2020-12-31T07:46:41.368510",
     "exception": false,
     "start_time": "2020-12-31T07:46:41.311637",
     "status": "completed"
    },
    "tags": []
   },
   "outputs": [],
   "source": [
    "#step_3.b.hint()"
   ]
  },
  {
   "cell_type": "markdown",
   "metadata": {
    "papermill": {
     "duration": 0.044012,
     "end_time": "2020-12-31T07:46:41.457646",
     "exception": false,
     "start_time": "2020-12-31T07:46:41.413634",
     "status": "completed"
    },
    "tags": []
   },
   "source": [
    "# Step 4: Generate test predictions\n",
    "\n",
    "In this final step, you'll use any approach of your choosing to deal with missing values.  Once you've preprocessed the training and validation features, you'll train and evaluate a random forest model.  Then, you'll preprocess the test data before generating predictions that can be submitted to the competition!\n",
    "\n",
    "### Part A\n",
    "\n",
    "Use the next code cell to preprocess the training and validation data.  Set the preprocessed DataFrames to `final_X_train` and `final_X_valid`.  **You can use any approach of your choosing here!**  in order for this step to be marked as correct, you need only ensure:\n",
    "- the preprocessed DataFrames have the same number of columns,\n",
    "- the preprocessed DataFrames have no missing values, \n",
    "- `final_X_train` and `y_train` have the same number of rows, and\n",
    "- `final_X_valid` and `y_valid` have the same number of rows."
   ]
  },
  {
   "cell_type": "code",
   "execution_count": 18,
   "metadata": {
    "execution": {
     "iopub.execute_input": "2020-12-31T07:46:41.556530Z",
     "iopub.status.busy": "2020-12-31T07:46:41.555870Z",
     "iopub.status.idle": "2020-12-31T07:46:41.667432Z",
     "shell.execute_reply": "2020-12-31T07:46:41.666742Z"
    },
    "papermill": {
     "duration": 0.165869,
     "end_time": "2020-12-31T07:46:41.667553",
     "exception": false,
     "start_time": "2020-12-31T07:46:41.501684",
     "status": "completed"
    },
    "tags": []
   },
   "outputs": [
    {
     "name": "stdout",
     "output_type": "stream",
     "text": [
      "         0      1        2    3    4       5       6      7       8    9   \\\n",
      "0      20.0   90.0  11694.0  9.0  5.0  2007.0  2007.0  452.0    48.0  0.0   \n",
      "1      20.0   60.0   6600.0  5.0  5.0  1962.0  1962.0    0.0     0.0  0.0   \n",
      "2      30.0   80.0  13360.0  5.0  7.0  1921.0  2006.0    0.0   713.0  0.0   \n",
      "3      20.0   69.0  13265.0  8.0  5.0  2002.0  2002.0  148.0  1218.0  0.0   \n",
      "4      20.0  118.0  13704.0  7.0  5.0  2001.0  2002.0  150.0     0.0  0.0   \n",
      "...     ...    ...      ...  ...  ...     ...     ...    ...     ...  ...   \n",
      "1163   60.0   82.0   9430.0  8.0  5.0  1999.0  1999.0  673.0  1163.0  0.0   \n",
      "1164   20.0   60.0   9600.0  4.0  7.0  1950.0  1995.0    0.0   442.0  0.0   \n",
      "1165   90.0   68.0   8930.0  6.0  5.0  1978.0  1978.0    0.0     0.0  0.0   \n",
      "1166  120.0   69.0   3196.0  7.0  5.0  2003.0  2004.0   18.0     0.0  0.0   \n",
      "1167   60.0   58.0  16770.0  7.0  5.0  1998.0  1998.0   30.0     0.0  0.0   \n",
      "\n",
      "      ...     26     27     28    29   30     31   32   33    34      35  \n",
      "0     ...  774.0    0.0  108.0   0.0  0.0  260.0  0.0  0.0   7.0  2007.0  \n",
      "1     ...  308.0    0.0    0.0   0.0  0.0    0.0  0.0  0.0   8.0  2009.0  \n",
      "2     ...  432.0    0.0    0.0  44.0  0.0    0.0  0.0  0.0   8.0  2009.0  \n",
      "3     ...  857.0  150.0   59.0   0.0  0.0    0.0  0.0  0.0   7.0  2008.0  \n",
      "4     ...  843.0  468.0   81.0   0.0  0.0    0.0  0.0  0.0   1.0  2006.0  \n",
      "...   ...    ...    ...    ...   ...  ...    ...  ...  ...   ...     ...  \n",
      "1163  ...  856.0    0.0  128.0   0.0  0.0  180.0  0.0  0.0   7.0  2009.0  \n",
      "1164  ...  436.0  290.0    0.0   0.0  0.0    0.0  0.0  0.0   2.0  2010.0  \n",
      "1165  ...  539.0    0.0    0.0   0.0  0.0    0.0  0.0  0.0   4.0  2010.0  \n",
      "1166  ...  420.0  143.0   20.0   0.0  0.0    0.0  0.0  0.0  10.0  2006.0  \n",
      "1167  ...  486.0    0.0   81.0   0.0  0.0    0.0  0.0  0.0   6.0  2010.0  \n",
      "\n",
      "[1168 rows x 36 columns]\n",
      "        0      1        2     3    4       5       6      7       8      9   \\\n",
      "0     20.0   69.0  32668.0   6.0  3.0  1957.0  1975.0    0.0  1219.0    0.0   \n",
      "1     50.0   79.0   9490.0   6.0  7.0  1941.0  1950.0    0.0   403.0  165.0   \n",
      "2     50.0   69.0   7015.0   5.0  4.0  1950.0  1950.0  161.0   185.0    0.0   \n",
      "3     60.0   83.0  10005.0   7.0  5.0  1977.0  1977.0  299.0   392.0    0.0   \n",
      "4    160.0   21.0   1680.0   6.0  5.0  1971.0  1971.0  381.0     0.0    0.0   \n",
      "..     ...    ...      ...   ...  ...     ...     ...    ...     ...    ...   \n",
      "287  120.0   32.0  10846.0   8.0  5.0  1993.0  1993.0    0.0  1619.0    0.0   \n",
      "288   20.0  105.0  15431.0  10.0  5.0  2008.0  2008.0  200.0  1767.0  539.0   \n",
      "289   50.0   60.0   8520.0   6.0  7.0  1916.0  1950.0    0.0   168.0  546.0   \n",
      "290   30.0   50.0   5330.0   4.0  7.0  1940.0  1950.0    0.0   280.0    0.0   \n",
      "291   75.0   60.0   7200.0   5.0  7.0  1920.0  1996.0    0.0     0.0    0.0   \n",
      "\n",
      "     ...     26     27     28     29   30     31   32   33    34      35  \n",
      "0    ...  484.0    0.0    0.0  200.0  0.0    0.0  0.0  0.0   3.0  2007.0  \n",
      "1    ...  240.0    0.0    0.0   32.0  0.0    0.0  0.0  0.0   8.0  2006.0  \n",
      "2    ...  352.0    0.0    0.0  248.0  0.0    0.0  0.0  0.0   7.0  2009.0  \n",
      "3    ...  505.0  288.0  117.0    0.0  0.0    0.0  0.0  0.0   3.0  2008.0  \n",
      "4    ...  264.0    0.0    0.0    0.0  0.0    0.0  0.0  0.0   3.0  2010.0  \n",
      "..   ...    ...    ...    ...    ...  ...    ...  ...  ...   ...     ...  \n",
      "287  ...  473.0  122.0   30.0    0.0  0.0    0.0  0.0  0.0   5.0  2008.0  \n",
      "288  ...  672.0    0.0   72.0    0.0  0.0  170.0  0.0  0.0   4.0  2009.0  \n",
      "289  ...  216.0   88.0   15.0    0.0  0.0    0.0  0.0  0.0   8.0  2007.0  \n",
      "290  ...    0.0  164.0    0.0    0.0  0.0    0.0  0.0  0.0  12.0  2009.0  \n",
      "291  ...  288.0    0.0    0.0  144.0  0.0    0.0  0.0  0.0   3.0  2007.0  \n",
      "\n",
      "[292 rows x 36 columns]\n",
      "      MSSubClass  LotFrontage  LotArea  OverallQual  OverallCond  YearBuilt  \\\n",
      "0           20.0         90.0  11694.0          9.0          5.0     2007.0   \n",
      "1           20.0         60.0   6600.0          5.0          5.0     1962.0   \n",
      "2           30.0         80.0  13360.0          5.0          7.0     1921.0   \n",
      "3           20.0         69.0  13265.0          8.0          5.0     2002.0   \n",
      "4           20.0        118.0  13704.0          7.0          5.0     2001.0   \n",
      "...          ...          ...      ...          ...          ...        ...   \n",
      "1163        60.0         82.0   9430.0          8.0          5.0     1999.0   \n",
      "1164        20.0         60.0   9600.0          4.0          7.0     1950.0   \n",
      "1165        90.0         68.0   8930.0          6.0          5.0     1978.0   \n",
      "1166       120.0         69.0   3196.0          7.0          5.0     2003.0   \n",
      "1167        60.0         58.0  16770.0          7.0          5.0     1998.0   \n",
      "\n",
      "      YearRemodAdd  MasVnrArea  BsmtFinSF1  BsmtFinSF2  ...  GarageArea  \\\n",
      "0           2007.0       452.0        48.0         0.0  ...       774.0   \n",
      "1           1962.0         0.0         0.0         0.0  ...       308.0   \n",
      "2           2006.0         0.0       713.0         0.0  ...       432.0   \n",
      "3           2002.0       148.0      1218.0         0.0  ...       857.0   \n",
      "4           2002.0       150.0         0.0         0.0  ...       843.0   \n",
      "...            ...         ...         ...         ...  ...         ...   \n",
      "1163        1999.0       673.0      1163.0         0.0  ...       856.0   \n",
      "1164        1995.0         0.0       442.0         0.0  ...       436.0   \n",
      "1165        1978.0         0.0         0.0         0.0  ...       539.0   \n",
      "1166        2004.0        18.0         0.0         0.0  ...       420.0   \n",
      "1167        1998.0        30.0         0.0         0.0  ...       486.0   \n",
      "\n",
      "      WoodDeckSF  OpenPorchSF  EnclosedPorch  3SsnPorch  ScreenPorch  \\\n",
      "0            0.0        108.0            0.0        0.0        260.0   \n",
      "1            0.0          0.0            0.0        0.0          0.0   \n",
      "2            0.0          0.0           44.0        0.0          0.0   \n",
      "3          150.0         59.0            0.0        0.0          0.0   \n",
      "4          468.0         81.0            0.0        0.0          0.0   \n",
      "...          ...          ...            ...        ...          ...   \n",
      "1163         0.0        128.0            0.0        0.0        180.0   \n",
      "1164       290.0          0.0            0.0        0.0          0.0   \n",
      "1165         0.0          0.0            0.0        0.0          0.0   \n",
      "1166       143.0         20.0            0.0        0.0          0.0   \n",
      "1167         0.0         81.0            0.0        0.0          0.0   \n",
      "\n",
      "      PoolArea  MiscVal  MoSold  YrSold  \n",
      "0          0.0      0.0     7.0  2007.0  \n",
      "1          0.0      0.0     8.0  2009.0  \n",
      "2          0.0      0.0     8.0  2009.0  \n",
      "3          0.0      0.0     7.0  2008.0  \n",
      "4          0.0      0.0     1.0  2006.0  \n",
      "...        ...      ...     ...     ...  \n",
      "1163       0.0      0.0     7.0  2009.0  \n",
      "1164       0.0      0.0     2.0  2010.0  \n",
      "1165       0.0      0.0     4.0  2010.0  \n",
      "1166       0.0      0.0    10.0  2006.0  \n",
      "1167       0.0      0.0     6.0  2010.0  \n",
      "\n",
      "[1168 rows x 36 columns]\n",
      "     MSSubClass  LotFrontage  LotArea  OverallQual  OverallCond  YearBuilt  \\\n",
      "0          20.0         69.0  32668.0          6.0          3.0     1957.0   \n",
      "1          50.0         79.0   9490.0          6.0          7.0     1941.0   \n",
      "2          50.0         69.0   7015.0          5.0          4.0     1950.0   \n",
      "3          60.0         83.0  10005.0          7.0          5.0     1977.0   \n",
      "4         160.0         21.0   1680.0          6.0          5.0     1971.0   \n",
      "..          ...          ...      ...          ...          ...        ...   \n",
      "287       120.0         32.0  10846.0          8.0          5.0     1993.0   \n",
      "288        20.0        105.0  15431.0         10.0          5.0     2008.0   \n",
      "289        50.0         60.0   8520.0          6.0          7.0     1916.0   \n",
      "290        30.0         50.0   5330.0          4.0          7.0     1940.0   \n",
      "291        75.0         60.0   7200.0          5.0          7.0     1920.0   \n",
      "\n",
      "     YearRemodAdd  MasVnrArea  BsmtFinSF1  BsmtFinSF2  ...  GarageArea  \\\n",
      "0          1975.0         0.0      1219.0         0.0  ...       484.0   \n",
      "1          1950.0         0.0       403.0       165.0  ...       240.0   \n",
      "2          1950.0       161.0       185.0         0.0  ...       352.0   \n",
      "3          1977.0       299.0       392.0         0.0  ...       505.0   \n",
      "4          1971.0       381.0         0.0         0.0  ...       264.0   \n",
      "..            ...         ...         ...         ...  ...         ...   \n",
      "287        1993.0         0.0      1619.0         0.0  ...       473.0   \n",
      "288        2008.0       200.0      1767.0       539.0  ...       672.0   \n",
      "289        1950.0         0.0       168.0       546.0  ...       216.0   \n",
      "290        1950.0         0.0       280.0         0.0  ...         0.0   \n",
      "291        1996.0         0.0         0.0         0.0  ...       288.0   \n",
      "\n",
      "     WoodDeckSF  OpenPorchSF  EnclosedPorch  3SsnPorch  ScreenPorch  PoolArea  \\\n",
      "0           0.0          0.0          200.0        0.0          0.0       0.0   \n",
      "1           0.0          0.0           32.0        0.0          0.0       0.0   \n",
      "2           0.0          0.0          248.0        0.0          0.0       0.0   \n",
      "3         288.0        117.0            0.0        0.0          0.0       0.0   \n",
      "4           0.0          0.0            0.0        0.0          0.0       0.0   \n",
      "..          ...          ...            ...        ...          ...       ...   \n",
      "287       122.0         30.0            0.0        0.0          0.0       0.0   \n",
      "288         0.0         72.0            0.0        0.0        170.0       0.0   \n",
      "289        88.0         15.0            0.0        0.0          0.0       0.0   \n",
      "290       164.0          0.0            0.0        0.0          0.0       0.0   \n",
      "291         0.0          0.0          144.0        0.0          0.0       0.0   \n",
      "\n",
      "     MiscVal  MoSold  YrSold  \n",
      "0        0.0     3.0  2007.0  \n",
      "1        0.0     8.0  2006.0  \n",
      "2        0.0     7.0  2009.0  \n",
      "3        0.0     3.0  2008.0  \n",
      "4        0.0     3.0  2010.0  \n",
      "..       ...     ...     ...  \n",
      "287      0.0     5.0  2008.0  \n",
      "288      0.0     4.0  2009.0  \n",
      "289      0.0     8.0  2007.0  \n",
      "290      0.0    12.0  2009.0  \n",
      "291      0.0     3.0  2007.0  \n",
      "\n",
      "[292 rows x 36 columns]\n"
     ]
    },
    {
     "data": {
      "application/javascript": [
       "parent.postMessage({\"jupyterEvent\": \"custom.exercise_interaction\", \"data\": {\"outcomeType\": 1, \"valueTowardsCompletion\": 1.0, \"interactionType\": 1, \"questionType\": 2, \"questionId\": \"4.1_PredsCodeA\", \"learnToolsVersion\": \"0.3.4\", \"failureMessage\": \"\", \"exceptionClass\": \"\", \"trace\": \"\"}}, \"*\")"
      ],
      "text/plain": [
       "<IPython.core.display.Javascript object>"
      ]
     },
     "metadata": {},
     "output_type": "display_data"
    },
    {
     "data": {
      "text/markdown": [
       "<span style=\"color:#33cc33\">Correct</span>"
      ],
      "text/plain": [
       "Correct"
      ]
     },
     "metadata": {},
     "output_type": "display_data"
    }
   ],
   "source": [
    "# Preprocessed training and validation features\n",
    "final_imputer = SimpleImputer(strategy='median')\n",
    "final_X_train = pd.DataFrame(final_imputer.fit_transform(X_train))\n",
    "final_X_valid = pd.DataFrame(final_imputer.transform(X_valid))\n",
    "print(final_X_train)\n",
    "print(final_X_valid)\n",
    "final_X_train.columns = X_train.columns\n",
    "final_X_valid.columns = X_valid.columns\n",
    "print(final_X_train)\n",
    "print(final_X_valid)\n",
    "# Check your answers\n",
    "step_4.a.check()"
   ]
  },
  {
   "cell_type": "code",
   "execution_count": 19,
   "metadata": {
    "execution": {
     "iopub.execute_input": "2020-12-31T07:46:41.767629Z",
     "iopub.status.busy": "2020-12-31T07:46:41.766837Z",
     "iopub.status.idle": "2020-12-31T07:46:41.776553Z",
     "shell.execute_reply": "2020-12-31T07:46:41.775965Z"
    },
    "papermill": {
     "duration": 0.061945,
     "end_time": "2020-12-31T07:46:41.776833",
     "exception": false,
     "start_time": "2020-12-31T07:46:41.714888",
     "status": "completed"
    },
    "tags": []
   },
   "outputs": [
    {
     "data": {
      "application/javascript": [
       "parent.postMessage({\"jupyterEvent\": \"custom.exercise_interaction\", \"data\": {\"interactionType\": 2, \"questionType\": 2, \"questionId\": \"4.1_PredsCodeA\", \"learnToolsVersion\": \"0.3.4\", \"valueTowardsCompletion\": 0.0, \"failureMessage\": \"\", \"exceptionClass\": \"\", \"trace\": \"\", \"outcomeType\": 4}}, \"*\")"
      ],
      "text/plain": [
       "<IPython.core.display.Javascript object>"
      ]
     },
     "metadata": {},
     "output_type": "display_data"
    },
    {
     "data": {
      "text/markdown": [
       "<span style=\"color:#3366cc\">Hint:</span> Use any approach of your choosing to deal with missing values in the data.  For inspiration, check out the code from the tutorial!"
      ],
      "text/plain": [
       "Hint: Use any approach of your choosing to deal with missing values in the data.  For inspiration, check out the code from the tutorial!"
      ]
     },
     "metadata": {},
     "output_type": "display_data"
    },
    {
     "data": {
      "application/javascript": [
       "parent.postMessage({\"jupyterEvent\": \"custom.exercise_interaction\", \"data\": {\"interactionType\": 3, \"questionType\": 2, \"questionId\": \"4.1_PredsCodeA\", \"learnToolsVersion\": \"0.3.4\", \"valueTowardsCompletion\": 0.0, \"failureMessage\": \"\", \"exceptionClass\": \"\", \"trace\": \"\", \"outcomeType\": 4}}, \"*\")"
      ],
      "text/plain": [
       "<IPython.core.display.Javascript object>"
      ]
     },
     "metadata": {},
     "output_type": "display_data"
    },
    {
     "data": {
      "text/markdown": [
       "<span style=\"color:#33cc99\">Solution:</span> \n",
       "```python\n",
       "# Imputation\n",
       "final_imputer = SimpleImputer(strategy='median')\n",
       "final_X_train = pd.DataFrame(final_imputer.fit_transform(X_train))\n",
       "final_X_valid = pd.DataFrame(final_imputer.transform(X_valid))\n",
       "\n",
       "# Imputation removed column names; put them back\n",
       "final_X_train.columns = X_train.columns\n",
       "final_X_valid.columns = X_valid.columns\n",
       "\n",
       "```"
      ],
      "text/plain": [
       "Solution: \n",
       "```python\n",
       "# Imputation\n",
       "final_imputer = SimpleImputer(strategy='median')\n",
       "final_X_train = pd.DataFrame(final_imputer.fit_transform(X_train))\n",
       "final_X_valid = pd.DataFrame(final_imputer.transform(X_valid))\n",
       "\n",
       "# Imputation removed column names; put them back\n",
       "final_X_train.columns = X_train.columns\n",
       "final_X_valid.columns = X_valid.columns\n",
       "\n",
       "```"
      ]
     },
     "metadata": {},
     "output_type": "display_data"
    }
   ],
   "source": [
    "# Lines below will give you a hint or solution code\n",
    "step_4.a.hint()\n",
    "step_4.a.solution()"
   ]
  },
  {
   "cell_type": "markdown",
   "metadata": {
    "papermill": {
     "duration": 0.048921,
     "end_time": "2020-12-31T07:46:41.877982",
     "exception": false,
     "start_time": "2020-12-31T07:46:41.829061",
     "status": "completed"
    },
    "tags": []
   },
   "source": [
    "Run the next code cell to train and evaluate a random forest model.  (*Note that we don't use the `score_dataset()` function above, because we will soon use the trained model to generate test predictions!*)"
   ]
  },
  {
   "cell_type": "code",
   "execution_count": 20,
   "metadata": {
    "execution": {
     "iopub.execute_input": "2020-12-31T07:46:41.985862Z",
     "iopub.status.busy": "2020-12-31T07:46:41.984825Z",
     "iopub.status.idle": "2020-12-31T07:46:43.669514Z",
     "shell.execute_reply": "2020-12-31T07:46:43.670056Z"
    },
    "papermill": {
     "duration": 1.740945,
     "end_time": "2020-12-31T07:46:43.670212",
     "exception": false,
     "start_time": "2020-12-31T07:46:41.929267",
     "status": "completed"
    },
    "tags": []
   },
   "outputs": [
    {
     "name": "stdout",
     "output_type": "stream",
     "text": [
      "MAE (Your approach):\n",
      "17791.59899543379\n"
     ]
    }
   ],
   "source": [
    "# Define and fit model\n",
    "model = RandomForestRegressor(n_estimators=100, random_state=0)\n",
    "model.fit(final_X_train, y_train)\n",
    "\n",
    "# Get validation predictions and MAE\n",
    "preds_valid = model.predict(final_X_valid)\n",
    "print(\"MAE (Your approach):\")\n",
    "print(mean_absolute_error(y_valid, preds_valid))"
   ]
  },
  {
   "cell_type": "markdown",
   "metadata": {
    "papermill": {
     "duration": 0.050256,
     "end_time": "2020-12-31T07:46:43.771546",
     "exception": false,
     "start_time": "2020-12-31T07:46:43.721290",
     "status": "completed"
    },
    "tags": []
   },
   "source": [
    "### Part B\n",
    "\n",
    "Use the next code cell to preprocess your test data.  Make sure that you use a method that agrees with how you preprocessed the training and validation data, and set the preprocessed test features to `final_X_test`.\n",
    "\n",
    "Then, use the preprocessed test features and the trained model to generate test predictions in `preds_test`.\n",
    "\n",
    "In order for this step to be marked correct, you need only ensure:\n",
    "- the preprocessed test DataFrame has no missing values, and\n",
    "- `final_X_test` has the same number of rows as `X_test`."
   ]
  },
  {
   "cell_type": "code",
   "execution_count": 21,
   "metadata": {
    "execution": {
     "iopub.execute_input": "2020-12-31T07:46:43.884015Z",
     "iopub.status.busy": "2020-12-31T07:46:43.883128Z",
     "iopub.status.idle": "2020-12-31T07:46:43.947136Z",
     "shell.execute_reply": "2020-12-31T07:46:43.946394Z"
    },
    "papermill": {
     "duration": 0.124613,
     "end_time": "2020-12-31T07:46:43.947288",
     "exception": false,
     "start_time": "2020-12-31T07:46:43.822675",
     "status": "completed"
    },
    "tags": []
   },
   "outputs": [
    {
     "name": "stdout",
     "output_type": "stream",
     "text": [
      "[125985.5  154599.5  180070.24 ... 154751.44 107387.   229281.55]\n"
     ]
    },
    {
     "data": {
      "application/javascript": [
       "parent.postMessage({\"jupyterEvent\": \"custom.exercise_interaction\", \"data\": {\"outcomeType\": 1, \"valueTowardsCompletion\": 1.0, \"interactionType\": 1, \"questionType\": 2, \"questionId\": \"4.2_PredsCodeB\", \"learnToolsVersion\": \"0.3.4\", \"failureMessage\": \"\", \"exceptionClass\": \"\", \"trace\": \"\"}}, \"*\")"
      ],
      "text/plain": [
       "<IPython.core.display.Javascript object>"
      ]
     },
     "metadata": {},
     "output_type": "display_data"
    },
    {
     "data": {
      "text/markdown": [
       "<span style=\"color:#33cc33\">Correct</span>"
      ],
      "text/plain": [
       "Correct"
      ]
     },
     "metadata": {},
     "output_type": "display_data"
    }
   ],
   "source": [
    "# Fill in the line below: preprocess test data\n",
    "final_X_test = pd.DataFrame(final_imputer.transform(X_test))\n",
    "\n",
    "# Fill in the line below: get test predictions\n",
    "preds_test = model.predict(final_X_test)\n",
    "print(preds_test)\n",
    "# Check your answers\n",
    "step_4.b.check()"
   ]
  },
  {
   "cell_type": "code",
   "execution_count": 22,
   "metadata": {
    "execution": {
     "iopub.execute_input": "2020-12-31T07:46:44.115200Z",
     "iopub.status.busy": "2020-12-31T07:46:44.114233Z",
     "iopub.status.idle": "2020-12-31T07:46:44.129633Z",
     "shell.execute_reply": "2020-12-31T07:46:44.128714Z"
    },
    "papermill": {
     "duration": 0.103527,
     "end_time": "2020-12-31T07:46:44.129809",
     "exception": false,
     "start_time": "2020-12-31T07:46:44.026282",
     "status": "completed"
    },
    "tags": []
   },
   "outputs": [
    {
     "data": {
      "application/javascript": [
       "parent.postMessage({\"jupyterEvent\": \"custom.exercise_interaction\", \"data\": {\"interactionType\": 2, \"questionType\": 2, \"questionId\": \"4.2_PredsCodeB\", \"learnToolsVersion\": \"0.3.4\", \"valueTowardsCompletion\": 0.0, \"failureMessage\": \"\", \"exceptionClass\": \"\", \"trace\": \"\", \"outcomeType\": 4}}, \"*\")"
      ],
      "text/plain": [
       "<IPython.core.display.Javascript object>"
      ]
     },
     "metadata": {},
     "output_type": "display_data"
    },
    {
     "data": {
      "text/markdown": [
       "<span style=\"color:#3366cc\">Hint:</span> After preprocessing the test data, you can get the model's predictions by using `model.predict()`."
      ],
      "text/plain": [
       "Hint: After preprocessing the test data, you can get the model's predictions by using `model.predict()`."
      ]
     },
     "metadata": {},
     "output_type": "display_data"
    },
    {
     "data": {
      "application/javascript": [
       "parent.postMessage({\"jupyterEvent\": \"custom.exercise_interaction\", \"data\": {\"interactionType\": 3, \"questionType\": 2, \"questionId\": \"4.2_PredsCodeB\", \"learnToolsVersion\": \"0.3.4\", \"valueTowardsCompletion\": 0.0, \"failureMessage\": \"\", \"exceptionClass\": \"\", \"trace\": \"\", \"outcomeType\": 4}}, \"*\")"
      ],
      "text/plain": [
       "<IPython.core.display.Javascript object>"
      ]
     },
     "metadata": {},
     "output_type": "display_data"
    },
    {
     "data": {
      "text/markdown": [
       "<span style=\"color:#33cc99\">Solution:</span> \n",
       "```python\n",
       "# Preprocess test data\n",
       "final_X_test = pd.DataFrame(final_imputer.transform(X_test))\n",
       "\n",
       "# Get test predictions\n",
       "preds_test = model.predict(final_X_test)\n",
       "\n",
       "```"
      ],
      "text/plain": [
       "Solution: \n",
       "```python\n",
       "# Preprocess test data\n",
       "final_X_test = pd.DataFrame(final_imputer.transform(X_test))\n",
       "\n",
       "# Get test predictions\n",
       "preds_test = model.predict(final_X_test)\n",
       "\n",
       "```"
      ]
     },
     "metadata": {},
     "output_type": "display_data"
    }
   ],
   "source": [
    "# Lines below will give you a hint or solution code\n",
    "step_4.b.hint()\n",
    "step_4.b.solution()"
   ]
  },
  {
   "cell_type": "markdown",
   "metadata": {
    "papermill": {
     "duration": 0.082088,
     "end_time": "2020-12-31T07:46:44.298017",
     "exception": false,
     "start_time": "2020-12-31T07:46:44.215929",
     "status": "completed"
    },
    "tags": []
   },
   "source": [
    "Run the next code cell without changes to save your results to a CSV file that can be submitted directly to the competition."
   ]
  },
  {
   "cell_type": "code",
   "execution_count": 23,
   "metadata": {
    "execution": {
     "iopub.execute_input": "2020-12-31T07:46:44.470779Z",
     "iopub.status.busy": "2020-12-31T07:46:44.470031Z",
     "iopub.status.idle": "2020-12-31T07:46:44.987257Z",
     "shell.execute_reply": "2020-12-31T07:46:44.986263Z"
    },
    "papermill": {
     "duration": 0.604922,
     "end_time": "2020-12-31T07:46:44.987383",
     "exception": false,
     "start_time": "2020-12-31T07:46:44.382461",
     "status": "completed"
    },
    "tags": []
   },
   "outputs": [],
   "source": [
    "# Save test predictions to file\n",
    "output = pd.DataFrame({'Id': X_test.index,\n",
    "                       'SalePrice': preds_test})\n",
    "output.to_csv('submission.csv', index=False)"
   ]
  },
  {
   "cell_type": "markdown",
   "metadata": {
    "papermill": {
     "duration": 0.052258,
     "end_time": "2020-12-31T07:46:45.093194",
     "exception": false,
     "start_time": "2020-12-31T07:46:45.040936",
     "status": "completed"
    },
    "tags": []
   },
   "source": [
    "# Submit your results\n",
    "\n",
    "Once you have successfully completed Step 4, you're ready to submit your results to the leaderboard!  (_You also learned how to do this in the previous exercise.  If you need a reminder of how to do this, please use the instructions below._)  \n",
    "\n",
    "First, you'll need to join the competition if you haven't already.  So open a new window by clicking on [this link](https://www.kaggle.com/c/home-data-for-ml-course).  Then click on the **Join Competition** button.\n",
    "\n",
    "![join competition image](https://i.imgur.com/wLmFtH3.png)\n",
    "\n",
    "Next, follow the instructions below:\n",
    "1. Begin by clicking on the blue **Save Version** button in the top right corner of the window.  This will generate a pop-up window.  \n",
    "2. Ensure that the **Save and Run All** option is selected, and then click on the blue **Save** button.\n",
    "3. This generates a window in the bottom left corner of the notebook.  After it has finished running, click on the number to the right of the **Save Version** button.  This pulls up a list of versions on the right of the screen.  Click on the ellipsis **(...)** to the right of the most recent version, and select **Open in Viewer**.  This brings you into view mode of the same page. You will need to scroll down to get back to these instructions.\n",
    "4. Click on the **Output** tab on the right of the screen.  Then, click on the file you would like to submit, and click on the blue **Submit** button to submit your results to the leaderboard.\n",
    "\n",
    "You have now successfully submitted to the competition!\n",
    "\n",
    "If you want to keep working to improve your performance, select the blue **Edit** button in the top right of the screen. Then you can change your code and repeat the process. There's a lot of room to improve, and you will climb up the leaderboard as you work.\n",
    "\n",
    "\n",
    "# Keep going\n",
    "\n",
    "Move on to learn what **[categorical variables](https://www.kaggle.com/alexisbcook/categorical-variables)** are, along with how to incorporate them into your machine learning models.  Categorical variables are very common in real-world data, but you'll get an error if you try to plug them into your models without processing them first!"
   ]
  },
  {
   "cell_type": "markdown",
   "metadata": {
    "papermill": {
     "duration": 0.061374,
     "end_time": "2020-12-31T07:46:45.208829",
     "exception": false,
     "start_time": "2020-12-31T07:46:45.147455",
     "status": "completed"
    },
    "tags": []
   },
   "source": [
    "---\n",
    "\n",
    "\n",
    "\n",
    "\n",
    "*Have questions or comments? Visit the [Learn Discussion forum](https://www.kaggle.com/learn-forum/161289) to chat with other Learners.*"
   ]
  }
 ],
 "metadata": {
  "kernelspec": {
   "display_name": "Python 3",
   "language": "python",
   "name": "python3"
  },
  "language_info": {
   "codemirror_mode": {
    "name": "ipython",
    "version": 3
   },
   "file_extension": ".py",
   "mimetype": "text/x-python",
   "name": "python",
   "nbconvert_exporter": "python",
   "pygments_lexer": "ipython3",
   "version": "3.8.3"
  },
  "papermill": {
   "duration": 18.85267,
   "end_time": "2020-12-31T07:46:45.391107",
   "environment_variables": {},
   "exception": null,
   "input_path": "__notebook__.ipynb",
   "output_path": "__notebook__.ipynb",
   "parameters": {},
   "start_time": "2020-12-31T07:46:26.538437",
   "version": "2.1.0"
  }
 },
 "nbformat": 4,
 "nbformat_minor": 4
}
