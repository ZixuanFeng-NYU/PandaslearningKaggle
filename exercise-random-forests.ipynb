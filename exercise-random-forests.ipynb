{
 "cells": [
  {
   "cell_type": "markdown",
   "metadata": {
    "papermill": {
     "duration": 0.008096,
     "end_time": "2020-12-31T12:23:41.381806",
     "exception": false,
     "start_time": "2020-12-31T12:23:41.373710",
     "status": "completed"
    },
    "tags": []
   },
   "source": [
    "**This notebook is an exercise in the [Introduction to Machine Learning](https://www.kaggle.com/learn/intro-to-machine-learning) course.  You can reference the tutorial at [this link](https://www.kaggle.com/dansbecker/random-forests).**\n",
    "\n",
    "---\n"
   ]
  },
  {
   "cell_type": "markdown",
   "metadata": {
    "papermill": {
     "duration": 0.008638,
     "end_time": "2020-12-31T12:23:41.397813",
     "exception": false,
     "start_time": "2020-12-31T12:23:41.389175",
     "status": "completed"
    },
    "tags": []
   },
   "source": [
    "## Recap\n",
    "Here's the code you've written so far."
   ]
  },
  {
   "cell_type": "code",
   "execution_count": 1,
   "metadata": {
    "execution": {
     "iopub.execute_input": "2020-12-31T12:23:41.424827Z",
     "iopub.status.busy": "2020-12-31T12:23:41.424009Z",
     "iopub.status.idle": "2020-12-31T12:23:42.966515Z",
     "shell.execute_reply": "2020-12-31T12:23:42.965752Z"
    },
    "papermill": {
     "duration": 1.562155,
     "end_time": "2020-12-31T12:23:42.966637",
     "exception": false,
     "start_time": "2020-12-31T12:23:41.404482",
     "status": "completed"
    },
    "tags": []
   },
   "outputs": [
    {
     "name": "stdout",
     "output_type": "stream",
     "text": [
      "Validation MAE when not specifying max_leaf_nodes: 29,653\n",
      "Validation MAE for best value of max_leaf_nodes: 27,283\n",
      "\n",
      "Setup complete\n"
     ]
    }
   ],
   "source": [
    "# Code you have previously used to load data\n",
    "import pandas as pd\n",
    "from sklearn.metrics import mean_absolute_error\n",
    "from sklearn.model_selection import train_test_split\n",
    "from sklearn.tree import DecisionTreeRegressor\n",
    "\n",
    "\n",
    "# Path of the file to read\n",
    "iowa_file_path = '../input/home-data-for-ml-course/train.csv'\n",
    "\n",
    "home_data = pd.read_csv(iowa_file_path)\n",
    "# Create target object and call it y\n",
    "y = home_data.SalePrice\n",
    "# Create X\n",
    "features = ['LotArea', 'YearBuilt', '1stFlrSF', '2ndFlrSF', 'FullBath', 'BedroomAbvGr', 'TotRmsAbvGrd']\n",
    "X = home_data[features]\n",
    "\n",
    "# Split into validation and training data\n",
    "train_X, val_X, train_y, val_y = train_test_split(X, y, random_state=1)\n",
    "\n",
    "# Specify Model\n",
    "iowa_model = DecisionTreeRegressor(random_state=1)\n",
    "# Fit Model\n",
    "iowa_model.fit(train_X, train_y)\n",
    "\n",
    "# Make validation predictions and calculate mean absolute error\n",
    "val_predictions = iowa_model.predict(val_X)\n",
    "val_mae = mean_absolute_error(val_predictions, val_y)\n",
    "print(\"Validation MAE when not specifying max_leaf_nodes: {:,.0f}\".format(val_mae))\n",
    "\n",
    "# Using best value for max_leaf_nodes\n",
    "iowa_model = DecisionTreeRegressor(max_leaf_nodes=100, random_state=1)\n",
    "iowa_model.fit(train_X, train_y)\n",
    "val_predictions = iowa_model.predict(val_X)\n",
    "val_mae = mean_absolute_error(val_predictions, val_y)\n",
    "print(\"Validation MAE for best value of max_leaf_nodes: {:,.0f}\".format(val_mae))\n",
    "\n",
    "\n",
    "# Set up code checking\n",
    "from learntools.core import binder\n",
    "binder.bind(globals())\n",
    "from learntools.machine_learning.ex6 import *\n",
    "print(\"\\nSetup complete\")"
   ]
  },
  {
   "cell_type": "markdown",
   "metadata": {
    "papermill": {
     "duration": 0.006961,
     "end_time": "2020-12-31T12:23:42.981444",
     "exception": false,
     "start_time": "2020-12-31T12:23:42.974483",
     "status": "completed"
    },
    "tags": []
   },
   "source": [
    "# Exercises\n",
    "Data science isn't always this easy. But replacing the decision tree with a Random Forest is going to be an easy win."
   ]
  },
  {
   "cell_type": "markdown",
   "metadata": {
    "papermill": {
     "duration": 0.006847,
     "end_time": "2020-12-31T12:23:42.995653",
     "exception": false,
     "start_time": "2020-12-31T12:23:42.988806",
     "status": "completed"
    },
    "tags": []
   },
   "source": [
    "## Step 1: Use a Random Forest"
   ]
  },
  {
   "cell_type": "code",
   "execution_count": 2,
   "metadata": {
    "execution": {
     "iopub.execute_input": "2020-12-31T12:23:43.018605Z",
     "iopub.status.busy": "2020-12-31T12:23:43.017850Z",
     "iopub.status.idle": "2020-12-31T12:23:43.609041Z",
     "shell.execute_reply": "2020-12-31T12:23:43.607833Z"
    },
    "papermill": {
     "duration": 0.605603,
     "end_time": "2020-12-31T12:23:43.609172",
     "exception": false,
     "start_time": "2020-12-31T12:23:43.003569",
     "status": "completed"
    },
    "tags": []
   },
   "outputs": [
    {
     "name": "stdout",
     "output_type": "stream",
     "text": [
      "[192726.         149964.5        128389.16        86179.\n",
      " 148183.86       286705.52       321662.62       146270.18\n",
      " 217117.85       215147.         176209.         105902.61\n",
      " 214722.12       259483.71       251396.98       111898.5\n",
      " 116132.         145967.11       186868.36       140229.04\n",
      " 147799.64       198497.47       222831.         303052.55\n",
      " 106191.         172605.5        129196.83       190793.09\n",
      " 491792.33       127799.88       154137.53       100041.66666667\n",
      " 122477.         105532.         133243.5        334799.44\n",
      " 111597.08       105196.71       294780.41       118257.\n",
      " 143835.         135771.12       104599.         113263.25\n",
      " 180416.         176871.          87245.         193989.61\n",
      " 250689.54       223521.9        132444.         420163.4\n",
      " 103195.         240269.4        189756.63       108189.5\n",
      " 127742.6        175699.         127372.25       170100.\n",
      " 164068.5        307046.4        116982.         125396.\n",
      " 165329.         128390.5        137723.2        225942.25\n",
      " 151419.6        150545.14       219658.25       131636.14\n",
      " 314996.         152955.37       126345.71       220348.06\n",
      " 171352.         110238.         362954.99       194339.22\n",
      " 201610.         137752.18       131612.3        152646.\n",
      " 180618.5        148960.72       153791.25       161266.58\n",
      " 190815.         170503.5        251429.91       155762.5\n",
      " 123820.         140111.24       126700.21       102130.68\n",
      " 123339.5        144476.5        132798.5        149859.5\n",
      " 190533.5        128052.4        128246.12       116653.5\n",
      " 112891.5        149313.16       193708.01       141964.87\n",
      " 159957.68       305093.34       121650.         163162.06\n",
      " 146511.         191006.81       230818.59       177042.57\n",
      " 241547.58       120648.         174309.31       195749.\n",
      " 149237.7        251759.1        336982.83       139107.5\n",
      " 219613.5        161936.5        307471.4        119953.25\n",
      " 183066.26       214471.42       271528.04       127411.83\n",
      " 120720.         111857.          96475.         205663.9\n",
      " 575009.92       292622.7        228597.         116718.\n",
      " 143914.5        286357.7        139015.5        202307.\n",
      " 138541.83       229807.15       111692.58       218667.47\n",
      " 220347.01       124631.32       182475.         183401.28\n",
      " 126205.         181753.         173819.         337476.13\n",
      "  93518.5        142736.5        102642.         137579.34\n",
      " 106496.         104041.5        152999.53       145689.3\n",
      " 141693.94       144862.         176496.65       156375.68\n",
      " 148095.         121779.         243249.3        186808.03\n",
      " 232814.         293680.16       195043.65       136593.9\n",
      " 185188.         211851.43       139807.64       149618.5\n",
      " 127535.08       167532.46       188961.94       124937.32\n",
      " 283542.15       173377.         394986.38       289741.01\n",
      " 154807.02       119547.08       114624.5        150839.16\n",
      "  89372.33333333 149310.66071429 132029.98       306536.84\n",
      " 256860.71       142735.18       153195.71        69290.\n",
      " 190093.3        233954.         167122.59       188678.\n",
      " 261264.48       109717.54       189430.29       317573.73\n",
      " 258648.         238843.7        189905.35       108483.\n",
      " 166790.33       136625.5        278135.18       253904.99\n",
      " 121194.5         96495.         188617.8         83486.02333333\n",
      " 616800.63       120329.5        170215.         170988.64\n",
      " 108955.08       116327.9        201733.66       181888.82\n",
      " 165776.84       173712.35       127125.5        187414.3\n",
      " 112021.         130661.25       270974.74       139268.27\n",
      " 292658.81       116244.9        135747.23       296487.6\n",
      " 264056.28       152989.85       147490.82       164713.84\n",
      " 139589.5        130389.25       144929.5        161625.34\n",
      " 162879.96       160222.82       121141.         116960.8\n",
      " 182348.9        158383.         148957.         114924.\n",
      " 176382.          88727.55       320897.51       129213.5\n",
      " 194393.88       217779.         212657.01       186919.5\n",
      " 124252.29       180520.28       151555.5        132616.\n",
      " 141484.          97420.08333333 166992.2        178996.91\n",
      " 107603.12       130932.         174186.53       136299.\n",
      " 114865.         138299.7        199220.         133976.25\n",
      " 142518.75       135168.5        135896.         151891.16666667\n",
      " 238116.94       239044.92       131707.36       113413.5\n",
      " 266149.13       113954.5        109262.         274388.23\n",
      " 148296.58       119008.91       197355.7        195364.\n",
      " 180951.35       247123.         151774.59       115823.08\n",
      " 149315.         145111.85       132599.96       182657.\n",
      " 140504.04333333 266210.         139815.25       177183.5\n",
      " 165284.56       193390.89       154367.5        165156.5\n",
      "  94271.5        251261.62       146881.34       101714.\n",
      " 259959.         185508.         176784.5        180169.\n",
      " 189861.         184571.         128488.71       246112.28\n",
      " 133460.75       362217.09       165267.53       228150.1\n",
      " 155148.31       135837.56       132405.7        200706.48\n",
      " 254806.6        279084.58       188700.         168697.34\n",
      " 139883.95       142074.         281395.         180067.75\n",
      " 248399.52       193104.          89261.         239393.\n",
      " 112902.5        156544.28       137235.18       150067.72\n",
      " 264026.46       102050.         180659.15       145601.\n",
      " 362271.91       132019.29       147003.57       159951.28\n",
      " 202172.8        153336.         116607.5        292549.71\n",
      " 169547.6        179337.96       129301.04       285949.36\n",
      " 204382.58      ]\n",
      "Validation MAE for Random Forest Model: 21963.722189823875\n"
     ]
    },
    {
     "data": {
      "application/javascript": [
       "parent.postMessage({\"jupyterEvent\": \"custom.exercise_interaction\", \"data\": {\"outcomeType\": 1, \"valueTowardsCompletion\": 1.0, \"interactionType\": 1, \"questionType\": 2, \"questionId\": \"1_CheckRfScore\", \"learnToolsVersion\": \"0.3.4\", \"failureMessage\": \"\", \"exceptionClass\": \"\", \"trace\": \"\"}}, \"*\")"
      ],
      "text/plain": [
       "<IPython.core.display.Javascript object>"
      ]
     },
     "metadata": {},
     "output_type": "display_data"
    },
    {
     "data": {
      "text/markdown": [
       "<span style=\"color:#33cc33\">Correct</span>"
      ],
      "text/plain": [
       "Correct"
      ]
     },
     "metadata": {},
     "output_type": "display_data"
    }
   ],
   "source": [
    "from sklearn.ensemble import RandomForestRegressor\n",
    "\n",
    "# Define the model. Set random_state to 1\n",
    "rf_model = RandomForestRegressor()\n",
    "\n",
    "# fit your model\n",
    "rf_model.fit(train_X,train_y)\n",
    "\n",
    "\n",
    "# Calculate the mean absolute error of your Random Forest model on the validation data\n",
    "rf_val_predictions=rf_model.predict(val_X)\n",
    "print(rf_val_predictions)\n",
    "rf_val_mae = mean_absolute_error(rf_val_predictions,val_y)\n",
    "\n",
    "print(\"Validation MAE for Random Forest Model: {}\".format(rf_val_mae))\n",
    "\n",
    "# Check your answer\n",
    "step_1.check()"
   ]
  },
  {
   "cell_type": "code",
   "execution_count": 3,
   "metadata": {
    "execution": {
     "iopub.execute_input": "2020-12-31T12:23:43.633924Z",
     "iopub.status.busy": "2020-12-31T12:23:43.632794Z",
     "iopub.status.idle": "2020-12-31T12:23:43.644239Z",
     "shell.execute_reply": "2020-12-31T12:23:43.644869Z"
    },
    "papermill": {
     "duration": 0.026674,
     "end_time": "2020-12-31T12:23:43.645050",
     "exception": false,
     "start_time": "2020-12-31T12:23:43.618376",
     "status": "completed"
    },
    "tags": []
   },
   "outputs": [
    {
     "data": {
      "application/javascript": [
       "parent.postMessage({\"jupyterEvent\": \"custom.exercise_interaction\", \"data\": {\"interactionType\": 2, \"questionType\": 2, \"questionId\": \"1_CheckRfScore\", \"learnToolsVersion\": \"0.3.4\", \"valueTowardsCompletion\": 0.0, \"failureMessage\": \"\", \"exceptionClass\": \"\", \"trace\": \"\", \"outcomeType\": 4}}, \"*\")"
      ],
      "text/plain": [
       "<IPython.core.display.Javascript object>"
      ]
     },
     "metadata": {},
     "output_type": "display_data"
    },
    {
     "data": {
      "text/markdown": [
       "<span style=\"color:#3366cc\">Hint:</span> Review the code above with a DecisionTreeRegressor. Use the RandomForestRegressor instead"
      ],
      "text/plain": [
       "Hint: Review the code above with a DecisionTreeRegressor. Use the RandomForestRegressor instead"
      ]
     },
     "metadata": {},
     "output_type": "display_data"
    },
    {
     "data": {
      "application/javascript": [
       "parent.postMessage({\"jupyterEvent\": \"custom.exercise_interaction\", \"data\": {\"interactionType\": 3, \"questionType\": 2, \"questionId\": \"1_CheckRfScore\", \"learnToolsVersion\": \"0.3.4\", \"valueTowardsCompletion\": 0.0, \"failureMessage\": \"\", \"exceptionClass\": \"\", \"trace\": \"\", \"outcomeType\": 4}}, \"*\")"
      ],
      "text/plain": [
       "<IPython.core.display.Javascript object>"
      ]
     },
     "metadata": {},
     "output_type": "display_data"
    },
    {
     "data": {
      "text/markdown": [
       "<span style=\"color:#33cc99\">Solution:</span> \n",
       "```python\n",
       "rf_model = RandomForestRegressor()\n",
       "\n",
       "# fit your model\n",
       "rf_model.fit(train_X, train_y)\n",
       "\n",
       "# Calculate the mean absolute error of your Random Forest model on the validation data\n",
       "rf_val_predictions = rf_model.predict(val_X)\n",
       "rf_val_mae = mean_absolute_error(rf_val_predictions, val_y)\n",
       "\n",
       "```"
      ],
      "text/plain": [
       "Solution: \n",
       "```python\n",
       "rf_model = RandomForestRegressor()\n",
       "\n",
       "# fit your model\n",
       "rf_model.fit(train_X, train_y)\n",
       "\n",
       "# Calculate the mean absolute error of your Random Forest model on the validation data\n",
       "rf_val_predictions = rf_model.predict(val_X)\n",
       "rf_val_mae = mean_absolute_error(rf_val_predictions, val_y)\n",
       "\n",
       "```"
      ]
     },
     "metadata": {},
     "output_type": "display_data"
    }
   ],
   "source": [
    "# The lines below will show you a hint or the solution.\n",
    "step_1.hint() \n",
    "step_1.solution()\n"
   ]
  },
  {
   "cell_type": "markdown",
   "metadata": {
    "papermill": {
     "duration": 0.010893,
     "end_time": "2020-12-31T12:23:43.667805",
     "exception": false,
     "start_time": "2020-12-31T12:23:43.656912",
     "status": "completed"
    },
    "tags": []
   },
   "source": [
    "So far, you have followed specific instructions at each step of your project. This helped learn key ideas and build your first model, but now you know enough to try things on your own. \n",
    "\n",
    "Machine Learning competitions are a great way to try your own ideas and learn more as you independently navigate a machine learning project. \n",
    "\n",
    "# Keep Going\n",
    "\n",
    "You are ready for **[Machine Learning Competitions](https://www.kaggle.com/dansbecker/machine-learning-competitions).**\n"
   ]
  },
  {
   "cell_type": "markdown",
   "metadata": {
    "papermill": {
     "duration": 0.011033,
     "end_time": "2020-12-31T12:23:43.690229",
     "exception": false,
     "start_time": "2020-12-31T12:23:43.679196",
     "status": "completed"
    },
    "tags": []
   },
   "source": [
    "---\n",
    "\n",
    "\n",
    "\n",
    "\n",
    "*Have questions or comments? Visit the [Learn Discussion forum](https://www.kaggle.com/learn-forum/161285) to chat with other Learners.*"
   ]
  },
  {
   "cell_type": "code",
   "execution_count": null,
   "metadata": {
    "papermill": {
     "duration": 0.011341,
     "end_time": "2020-12-31T12:23:43.713601",
     "exception": false,
     "start_time": "2020-12-31T12:23:43.702260",
     "status": "completed"
    },
    "tags": []
   },
   "outputs": [],
   "source": []
  }
 ],
 "metadata": {
  "kernelspec": {
   "display_name": "Python 3",
   "language": "python",
   "name": "python3"
  },
  "language_info": {
   "codemirror_mode": {
    "name": "ipython",
    "version": 3
   },
   "file_extension": ".py",
   "mimetype": "text/x-python",
   "name": "python",
   "nbconvert_exporter": "python",
   "pygments_lexer": "ipython3",
   "version": "3.7.6"
  },
  "papermill": {
   "duration": 8.190917,
   "end_time": "2020-12-31T12:23:43.834108",
   "environment_variables": {},
   "exception": null,
   "input_path": "__notebook__.ipynb",
   "output_path": "__notebook__.ipynb",
   "parameters": {},
   "start_time": "2020-12-31T12:23:35.643191",
   "version": "2.1.0"
  }
 },
 "nbformat": 4,
 "nbformat_minor": 4
}
