{
 "cells": [
  {
   "cell_type": "markdown",
   "metadata": {
    "papermill": {
     "duration": 0.013977,
     "end_time": "2021-01-02T10:18:46.836537",
     "exception": false,
     "start_time": "2021-01-02T10:18:46.822560",
     "status": "completed"
    },
    "tags": []
   },
   "source": [
    "**This notebook is an exercise in the [Pandas](https://www.kaggle.com/learn/pandas) course.  You can reference the tutorial at [this link](https://www.kaggle.com/residentmario/data-types-and-missing-values).**\n",
    "\n",
    "---\n"
   ]
  },
  {
   "cell_type": "markdown",
   "metadata": {
    "papermill": {
     "duration": 0.010255,
     "end_time": "2021-01-02T10:18:46.857685",
     "exception": false,
     "start_time": "2021-01-02T10:18:46.847430",
     "status": "completed"
    },
    "tags": []
   },
   "source": [
    "# Introduction\n",
    "\n",
    "Run the following cell to load your data and some utility functions."
   ]
  },
  {
   "cell_type": "code",
   "execution_count": 1,
   "metadata": {
    "execution": {
     "iopub.execute_input": "2021-01-02T10:18:46.882264Z",
     "iopub.status.busy": "2021-01-02T10:18:46.881562Z",
     "iopub.status.idle": "2021-01-02T10:18:49.730830Z",
     "shell.execute_reply": "2021-01-02T10:18:49.729220Z"
    },
    "papermill": {
     "duration": 2.862786,
     "end_time": "2021-01-02T10:18:49.731038",
     "exception": false,
     "start_time": "2021-01-02T10:18:46.868252",
     "status": "completed"
    },
    "tags": []
   },
   "outputs": [
    {
     "name": "stdout",
     "output_type": "stream",
     "text": [
      "Setup complete.\n"
     ]
    }
   ],
   "source": [
    "import pandas as pd\n",
    "\n",
    "reviews = pd.read_csv(\"../input/wine-reviews/winemag-data-130k-v2.csv\", index_col=0)\n",
    "\n",
    "from learntools.core import binder; binder.bind(globals())\n",
    "from learntools.pandas.data_types_and_missing_data import *\n",
    "print(\"Setup complete.\")"
   ]
  },
  {
   "cell_type": "markdown",
   "metadata": {
    "papermill": {
     "duration": 0.011133,
     "end_time": "2021-01-02T10:18:49.759187",
     "exception": false,
     "start_time": "2021-01-02T10:18:49.748054",
     "status": "completed"
    },
    "tags": []
   },
   "source": [
    "# Exercises"
   ]
  },
  {
   "cell_type": "markdown",
   "metadata": {
    "papermill": {
     "duration": 0.01102,
     "end_time": "2021-01-02T10:18:49.781576",
     "exception": false,
     "start_time": "2021-01-02T10:18:49.770556",
     "status": "completed"
    },
    "tags": []
   },
   "source": [
    "## 1. \n",
    "What is the data type of the `points` column in the dataset?"
   ]
  },
  {
   "cell_type": "code",
   "execution_count": 2,
   "metadata": {
    "execution": {
     "iopub.execute_input": "2021-01-02T10:18:49.822794Z",
     "iopub.status.busy": "2021-01-02T10:18:49.821741Z",
     "iopub.status.idle": "2021-01-02T10:18:49.829305Z",
     "shell.execute_reply": "2021-01-02T10:18:49.829941Z"
    },
    "papermill": {
     "duration": 0.03553,
     "end_time": "2021-01-02T10:18:49.830097",
     "exception": false,
     "start_time": "2021-01-02T10:18:49.794567",
     "status": "completed"
    },
    "tags": []
   },
   "outputs": [
    {
     "name": "stdout",
     "output_type": "stream",
     "text": [
      "int64\n"
     ]
    },
    {
     "data": {
      "application/javascript": [
       "parent.postMessage({\"jupyterEvent\": \"custom.exercise_interaction\", \"data\": {\"outcomeType\": 1, \"valueTowardsCompletion\": 0.25, \"interactionType\": 1, \"questionType\": 1, \"questionId\": \"1_PointsDtype\", \"learnToolsVersion\": \"0.3.4\", \"failureMessage\": \"\", \"exceptionClass\": \"\", \"trace\": \"\"}}, \"*\")"
      ],
      "text/plain": [
       "<IPython.core.display.Javascript object>"
      ]
     },
     "metadata": {},
     "output_type": "display_data"
    },
    {
     "data": {
      "text/markdown": [
       "<span style=\"color:#33cc33\">Correct</span>"
      ],
      "text/plain": [
       "Correct"
      ]
     },
     "metadata": {},
     "output_type": "display_data"
    }
   ],
   "source": [
    "# Your code here\n",
    "dtype = reviews.points.dtype\n",
    "print(dtype)\n",
    "# Check your answer\n",
    "q1.check()"
   ]
  },
  {
   "cell_type": "code",
   "execution_count": 3,
   "metadata": {
    "execution": {
     "iopub.execute_input": "2021-01-02T10:18:49.863310Z",
     "iopub.status.busy": "2021-01-02T10:18:49.862456Z",
     "iopub.status.idle": "2021-01-02T10:18:49.866748Z",
     "shell.execute_reply": "2021-01-02T10:18:49.865956Z"
    },
    "papermill": {
     "duration": 0.023677,
     "end_time": "2021-01-02T10:18:49.866893",
     "exception": false,
     "start_time": "2021-01-02T10:18:49.843216",
     "status": "completed"
    },
    "tags": []
   },
   "outputs": [],
   "source": [
    "#q1.hint()\n",
    "#q1.solution()"
   ]
  },
  {
   "cell_type": "markdown",
   "metadata": {
    "papermill": {
     "duration": 0.013414,
     "end_time": "2021-01-02T10:18:49.893782",
     "exception": false,
     "start_time": "2021-01-02T10:18:49.880368",
     "status": "completed"
    },
    "tags": []
   },
   "source": [
    "## 2. \n",
    "Create a Series from entries in the `points` column, but convert the entries to strings. Hint: strings are `str` in native Python."
   ]
  },
  {
   "cell_type": "code",
   "execution_count": 4,
   "metadata": {
    "execution": {
     "iopub.execute_input": "2021-01-02T10:18:50.113356Z",
     "iopub.status.busy": "2021-01-02T10:18:49.927908Z",
     "iopub.status.idle": "2021-01-02T10:18:50.122884Z",
     "shell.execute_reply": "2021-01-02T10:18:50.122191Z"
    },
    "papermill": {
     "duration": 0.215793,
     "end_time": "2021-01-02T10:18:50.123000",
     "exception": false,
     "start_time": "2021-01-02T10:18:49.907207",
     "status": "completed"
    },
    "tags": []
   },
   "outputs": [
    {
     "name": "stdout",
     "output_type": "stream",
     "text": [
      "0         87\n",
      "1         87\n",
      "2         87\n",
      "3         87\n",
      "4         87\n",
      "          ..\n",
      "129966    90\n",
      "129967    90\n",
      "129968    90\n",
      "129969    90\n",
      "129970    90\n",
      "Name: points, Length: 129971, dtype: object\n"
     ]
    },
    {
     "data": {
      "application/javascript": [
       "parent.postMessage({\"jupyterEvent\": \"custom.exercise_interaction\", \"data\": {\"outcomeType\": 1, \"valueTowardsCompletion\": 0.25, \"interactionType\": 1, \"questionType\": 1, \"questionId\": \"2_StrPoints\", \"learnToolsVersion\": \"0.3.4\", \"failureMessage\": \"\", \"exceptionClass\": \"\", \"trace\": \"\"}}, \"*\")"
      ],
      "text/plain": [
       "<IPython.core.display.Javascript object>"
      ]
     },
     "metadata": {},
     "output_type": "display_data"
    },
    {
     "data": {
      "text/markdown": [
       "<span style=\"color:#33cc33\">Correct</span>"
      ],
      "text/plain": [
       "Correct"
      ]
     },
     "metadata": {},
     "output_type": "display_data"
    }
   ],
   "source": [
    "point_strings = reviews.points.astype(str)\n",
    "print(point_strings)\n",
    "# Check your answer\n",
    "q2.check()"
   ]
  },
  {
   "cell_type": "code",
   "execution_count": 5,
   "metadata": {
    "execution": {
     "iopub.execute_input": "2021-01-02T10:18:50.159089Z",
     "iopub.status.busy": "2021-01-02T10:18:50.158035Z",
     "iopub.status.idle": "2021-01-02T10:18:50.169677Z",
     "shell.execute_reply": "2021-01-02T10:18:50.168370Z"
    },
    "papermill": {
     "duration": 0.031912,
     "end_time": "2021-01-02T10:18:50.169812",
     "exception": false,
     "start_time": "2021-01-02T10:18:50.137900",
     "status": "completed"
    },
    "tags": []
   },
   "outputs": [
    {
     "data": {
      "application/javascript": [
       "parent.postMessage({\"jupyterEvent\": \"custom.exercise_interaction\", \"data\": {\"interactionType\": 2, \"questionType\": 1, \"questionId\": \"2_StrPoints\", \"learnToolsVersion\": \"0.3.4\", \"valueTowardsCompletion\": 0.0, \"failureMessage\": \"\", \"exceptionClass\": \"\", \"trace\": \"\", \"outcomeType\": 4}}, \"*\")"
      ],
      "text/plain": [
       "<IPython.core.display.Javascript object>"
      ]
     },
     "metadata": {},
     "output_type": "display_data"
    },
    {
     "data": {
      "text/markdown": [
       "<span style=\"color:#3366cc\">Hint:</span> Convert a column of one type to another by using the `astype` function."
      ],
      "text/plain": [
       "Hint: Convert a column of one type to another by using the `astype` function."
      ]
     },
     "metadata": {},
     "output_type": "display_data"
    },
    {
     "data": {
      "application/javascript": [
       "parent.postMessage({\"jupyterEvent\": \"custom.exercise_interaction\", \"data\": {\"interactionType\": 3, \"questionType\": 1, \"questionId\": \"2_StrPoints\", \"learnToolsVersion\": \"0.3.4\", \"valueTowardsCompletion\": 0.0, \"failureMessage\": \"\", \"exceptionClass\": \"\", \"trace\": \"\", \"outcomeType\": 4}}, \"*\")"
      ],
      "text/plain": [
       "<IPython.core.display.Javascript object>"
      ]
     },
     "metadata": {},
     "output_type": "display_data"
    },
    {
     "data": {
      "text/markdown": [
       "<span style=\"color:#33cc99\">Solution:</span> \n",
       "```python\n",
       "point_strings = reviews.points.astype(str)\n",
       "```"
      ],
      "text/plain": [
       "Solution: \n",
       "```python\n",
       "point_strings = reviews.points.astype(str)\n",
       "```"
      ]
     },
     "metadata": {},
     "output_type": "display_data"
    }
   ],
   "source": [
    "q2.hint()\n",
    "q2.solution()\n"
   ]
  },
  {
   "cell_type": "markdown",
   "metadata": {
    "papermill": {
     "duration": 0.016721,
     "end_time": "2021-01-02T10:18:50.203351",
     "exception": false,
     "start_time": "2021-01-02T10:18:50.186630",
     "status": "completed"
    },
    "tags": []
   },
   "source": [
    "## 3.\n",
    "Sometimes the price column is null. How many reviews in the dataset are missing a price?"
   ]
  },
  {
   "cell_type": "code",
   "execution_count": 6,
   "metadata": {
    "execution": {
     "iopub.execute_input": "2021-01-02T10:18:50.244452Z",
     "iopub.status.busy": "2021-01-02T10:18:50.243430Z",
     "iopub.status.idle": "2021-01-02T10:18:50.269294Z",
     "shell.execute_reply": "2021-01-02T10:18:50.270046Z"
    },
    "papermill": {
     "duration": 0.049926,
     "end_time": "2021-01-02T10:18:50.270253",
     "exception": false,
     "start_time": "2021-01-02T10:18:50.220327",
     "status": "completed"
    },
    "tags": []
   },
   "outputs": [
    {
     "name": "stdout",
     "output_type": "stream",
     "text": [
      "         country                                        description  \\\n",
      "0          Italy  Aromas include tropical fruit, broom, brimston...   \n",
      "13         Italy  This is dominated by oak and oak-driven aromas...   \n",
      "30        France  Red cherry fruit comes laced with light tannin...   \n",
      "31         Italy  Merlot and Nero d'Avola form the base for this...   \n",
      "32         Italy  Part of the extended Calanìca series, this Gri...   \n",
      "...          ...                                                ...   \n",
      "129844     Italy  Doga delle Clavule is a neutral, mineral-drive...   \n",
      "129860  Portugal  This rich wine has a firm structure as well as...   \n",
      "129863  Portugal  This mature wine that has 50% Touriga Nacional...   \n",
      "129893     Italy  Aromas of passion fruit, hay and a vegetal not...   \n",
      "129964    France  Initially quite muted, this wine slowly develo...   \n",
      "\n",
      "                         designation  points  price           province  \\\n",
      "0                       Vulkà Bianco      87    NaN  Sicily & Sardinia   \n",
      "13                             Rosso      87    NaN  Sicily & Sardinia   \n",
      "30                           Nouveau      86    NaN         Beaujolais   \n",
      "31      Calanìca Nero d'Avola-Merlot      86    NaN  Sicily & Sardinia   \n",
      "32          Calanìca Grillo-Viognier      86    NaN  Sicily & Sardinia   \n",
      "...                              ...     ...    ...                ...   \n",
      "129844            Doga delle Clavule      86    NaN            Tuscany   \n",
      "129860              Pacheca Superior      90    NaN              Douro   \n",
      "129863                       Reserva      90    NaN                Dão   \n",
      "129893                  Corte Menini      91    NaN             Veneto   \n",
      "129964  Domaine Saint-Rémy Herrenweg      90    NaN             Alsace   \n",
      "\n",
      "                     region_1 region_2    taster_name taster_twitter_handle  \\\n",
      "0                        Etna      NaN  Kerin O’Keefe          @kerinokeefe   \n",
      "13                       Etna      NaN  Kerin O’Keefe          @kerinokeefe   \n",
      "30        Beaujolais-Villages      NaN     Roger Voss            @vossroger   \n",
      "31                    Sicilia      NaN            NaN                   NaN   \n",
      "32                    Sicilia      NaN            NaN                   NaN   \n",
      "...                       ...      ...            ...                   ...   \n",
      "129844  Morellino di Scansano      NaN            NaN                   NaN   \n",
      "129860                    NaN      NaN     Roger Voss            @vossroger   \n",
      "129863                    NaN      NaN     Roger Voss            @vossroger   \n",
      "129893         Soave Classico      NaN  Kerin O’Keefe          @kerinokeefe   \n",
      "129964                 Alsace      NaN     Roger Voss            @vossroger   \n",
      "\n",
      "                                                    title            variety  \\\n",
      "0                       Nicosia 2013 Vulkà Bianco  (Etna)        White Blend   \n",
      "13                 Masseria Setteporte 2012 Rosso  (Etna)  Nerello Mascalese   \n",
      "30      Domaine de la Madone 2012 Nouveau  (Beaujolais...              Gamay   \n",
      "31      Duca di Salaparuta 2010 Calanìca Nero d'Avola-...          Red Blend   \n",
      "32      Duca di Salaparuta 2011 Calanìca Grillo-Viogni...        White Blend   \n",
      "...                                                   ...                ...   \n",
      "129844  Caparzo 2006 Doga delle Clavule  (Morellino di...         Sangiovese   \n",
      "129860  Quinta da Pacheca 2013 Pacheca Superior Red (D...     Portuguese Red   \n",
      "129863                    Seacampo 2011 Reserva Red (Dão)     Portuguese Red   \n",
      "129893   Le Mandolare 2015 Corte Menini  (Soave Classico)          Garganega   \n",
      "129964  Domaine Ehrhart 2013 Domaine Saint-Rémy Herren...     Gewürztraminer   \n",
      "\n",
      "                      winery  \n",
      "0                    Nicosia  \n",
      "13       Masseria Setteporte  \n",
      "30      Domaine de la Madone  \n",
      "31        Duca di Salaparuta  \n",
      "32        Duca di Salaparuta  \n",
      "...                      ...  \n",
      "129844               Caparzo  \n",
      "129860     Quinta da Pacheca  \n",
      "129863              Seacampo  \n",
      "129893          Le Mandolare  \n",
      "129964       Domaine Ehrhart  \n",
      "\n",
      "[8996 rows x 13 columns]\n",
      "8996\n"
     ]
    },
    {
     "data": {
      "application/javascript": [
       "parent.postMessage({\"jupyterEvent\": \"custom.exercise_interaction\", \"data\": {\"outcomeType\": 1, \"valueTowardsCompletion\": 0.25, \"interactionType\": 1, \"questionType\": 1, \"questionId\": \"3_CountMissingPrices\", \"learnToolsVersion\": \"0.3.4\", \"failureMessage\": \"\", \"exceptionClass\": \"\", \"trace\": \"\"}}, \"*\")"
      ],
      "text/plain": [
       "<IPython.core.display.Javascript object>"
      ]
     },
     "metadata": {},
     "output_type": "display_data"
    },
    {
     "data": {
      "text/markdown": [
       "<span style=\"color:#33cc33\">Correct</span>"
      ],
      "text/plain": [
       "Correct"
      ]
     },
     "metadata": {},
     "output_type": "display_data"
    }
   ],
   "source": [
    "missing_prices = reviews[pd.isnull(reviews.price)]\n",
    "print(missing_prices)\n",
    "n_missing_prices=len(missing_prices)\n",
    "print(n_missing_prices)\n",
    "# Check your answer\n",
    "q3.check()"
   ]
  },
  {
   "cell_type": "code",
   "execution_count": 7,
   "metadata": {
    "execution": {
     "iopub.execute_input": "2021-01-02T10:18:50.314294Z",
     "iopub.status.busy": "2021-01-02T10:18:50.313157Z",
     "iopub.status.idle": "2021-01-02T10:18:50.325894Z",
     "shell.execute_reply": "2021-01-02T10:18:50.325234Z"
    },
    "papermill": {
     "duration": 0.037144,
     "end_time": "2021-01-02T10:18:50.326007",
     "exception": false,
     "start_time": "2021-01-02T10:18:50.288863",
     "status": "completed"
    },
    "tags": []
   },
   "outputs": [
    {
     "data": {
      "application/javascript": [
       "parent.postMessage({\"jupyterEvent\": \"custom.exercise_interaction\", \"data\": {\"interactionType\": 2, \"questionType\": 1, \"questionId\": \"3_CountMissingPrices\", \"learnToolsVersion\": \"0.3.4\", \"valueTowardsCompletion\": 0.0, \"failureMessage\": \"\", \"exceptionClass\": \"\", \"trace\": \"\", \"outcomeType\": 4}}, \"*\")"
      ],
      "text/plain": [
       "<IPython.core.display.Javascript object>"
      ]
     },
     "metadata": {},
     "output_type": "display_data"
    },
    {
     "data": {
      "text/markdown": [
       "<span style=\"color:#3366cc\">Hint:</span> Use `pd.isnull()`."
      ],
      "text/plain": [
       "Hint: Use `pd.isnull()`."
      ]
     },
     "metadata": {},
     "output_type": "display_data"
    },
    {
     "data": {
      "application/javascript": [
       "parent.postMessage({\"jupyterEvent\": \"custom.exercise_interaction\", \"data\": {\"interactionType\": 3, \"questionType\": 1, \"questionId\": \"3_CountMissingPrices\", \"learnToolsVersion\": \"0.3.4\", \"valueTowardsCompletion\": 0.0, \"failureMessage\": \"\", \"exceptionClass\": \"\", \"trace\": \"\", \"outcomeType\": 4}}, \"*\")"
      ],
      "text/plain": [
       "<IPython.core.display.Javascript object>"
      ]
     },
     "metadata": {},
     "output_type": "display_data"
    },
    {
     "data": {
      "text/markdown": [
       "<span style=\"color:#33cc99\">Solution:</span> \n",
       "```python\n",
       "missing_price_reviews = reviews[reviews.price.isnull()]\n",
       "n_missing_prices = len(missing_price_reviews)\n",
       "# Cute alternative solution: if we sum a boolean series, True is treated as 1 and False as 0\n",
       "n_missing_prices = reviews.price.isnull().sum()\n",
       "# or equivalently:\n",
       "n_missing_prices = pd.isnull(reviews.price).sum()\n",
       "\n",
       "```"
      ],
      "text/plain": [
       "Solution: \n",
       "```python\n",
       "missing_price_reviews = reviews[reviews.price.isnull()]\n",
       "n_missing_prices = len(missing_price_reviews)\n",
       "# Cute alternative solution: if we sum a boolean series, True is treated as 1 and False as 0\n",
       "n_missing_prices = reviews.price.isnull().sum()\n",
       "# or equivalently:\n",
       "n_missing_prices = pd.isnull(reviews.price).sum()\n",
       "\n",
       "```"
      ]
     },
     "metadata": {},
     "output_type": "display_data"
    }
   ],
   "source": [
    "q3.hint()\n",
    "q3.solution()"
   ]
  },
  {
   "cell_type": "markdown",
   "metadata": {
    "papermill": {
     "duration": 0.020979,
     "end_time": "2021-01-02T10:18:50.369964",
     "exception": false,
     "start_time": "2021-01-02T10:18:50.348985",
     "status": "completed"
    },
    "tags": []
   },
   "source": [
    "## 4.\n",
    "What are the most common wine-producing regions? Create a Series counting the number of times each value occurs in the `region_1` field. This field is often missing data, so replace missing values with `Unknown`. Sort in descending order.  Your output should look something like this:\n",
    "\n",
    "```\n",
    "Unknown                    21247\n",
    "Napa Valley                 4480\n",
    "                           ...  \n",
    "Bardolino Superiore            1\n",
    "Primitivo del Tarantino        1\n",
    "Name: region_1, Length: 1230, dtype: int64\n",
    "```"
   ]
  },
  {
   "cell_type": "code",
   "execution_count": 8,
   "metadata": {
    "execution": {
     "iopub.execute_input": "2021-01-02T10:18:50.430795Z",
     "iopub.status.busy": "2021-01-02T10:18:50.430046Z",
     "iopub.status.idle": "2021-01-02T10:18:50.527231Z",
     "shell.execute_reply": "2021-01-02T10:18:50.527765Z"
    },
    "papermill": {
     "duration": 0.137036,
     "end_time": "2021-01-02T10:18:50.527927",
     "exception": false,
     "start_time": "2021-01-02T10:18:50.390891",
     "status": "completed"
    },
    "tags": []
   },
   "outputs": [
    {
     "name": "stdout",
     "output_type": "stream",
     "text": [
      "Unknown                              21247\n",
      "Napa Valley                           4480\n",
      "Columbia Valley (WA)                  4124\n",
      "Russian River Valley                  3091\n",
      "California                            2629\n",
      "                                     ...  \n",
      "Falanghina del Molise                    1\n",
      "Château-Chalon                           1\n",
      "Lambrusco Salamino di Santa Croce        1\n",
      "Catamarca                                1\n",
      "Sonoma-Napa-Lake                         1\n",
      "Name: region_1, Length: 1230, dtype: int64\n"
     ]
    },
    {
     "data": {
      "application/javascript": [
       "parent.postMessage({\"jupyterEvent\": \"custom.exercise_interaction\", \"data\": {\"outcomeType\": 1, \"valueTowardsCompletion\": 0.25, \"interactionType\": 1, \"questionType\": 2, \"questionId\": \"4_ReviewsPerRegion\", \"learnToolsVersion\": \"0.3.4\", \"failureMessage\": \"\", \"exceptionClass\": \"\", \"trace\": \"\"}}, \"*\")"
      ],
      "text/plain": [
       "<IPython.core.display.Javascript object>"
      ]
     },
     "metadata": {},
     "output_type": "display_data"
    },
    {
     "data": {
      "text/markdown": [
       "<span style=\"color:#33cc33\">Correct</span>"
      ],
      "text/plain": [
       "Correct"
      ]
     },
     "metadata": {},
     "output_type": "display_data"
    }
   ],
   "source": [
    "reviews_per_region = reviews.region_1.fillna(\"Unknown\").value_counts().sort_values(ascending=False)\n",
    "print(reviews_per_region)\n",
    "# Check your answer\n",
    "q4.check()"
   ]
  },
  {
   "cell_type": "code",
   "execution_count": 9,
   "metadata": {
    "execution": {
     "iopub.execute_input": "2021-01-02T10:18:50.578877Z",
     "iopub.status.busy": "2021-01-02T10:18:50.578099Z",
     "iopub.status.idle": "2021-01-02T10:18:50.587336Z",
     "shell.execute_reply": "2021-01-02T10:18:50.586549Z"
    },
    "papermill": {
     "duration": 0.036939,
     "end_time": "2021-01-02T10:18:50.587467",
     "exception": false,
     "start_time": "2021-01-02T10:18:50.550528",
     "status": "completed"
    },
    "tags": []
   },
   "outputs": [
    {
     "data": {
      "application/javascript": [
       "parent.postMessage({\"jupyterEvent\": \"custom.exercise_interaction\", \"data\": {\"interactionType\": 2, \"questionType\": 2, \"questionId\": \"4_ReviewsPerRegion\", \"learnToolsVersion\": \"0.3.4\", \"valueTowardsCompletion\": 0.0, \"failureMessage\": \"\", \"exceptionClass\": \"\", \"trace\": \"\", \"outcomeType\": 4}}, \"*\")"
      ],
      "text/plain": [
       "<IPython.core.display.Javascript object>"
      ]
     },
     "metadata": {},
     "output_type": "display_data"
    },
    {
     "data": {
      "text/markdown": [
       "<span style=\"color:#3366cc\">Hint:</span> Use `fillna()`, `value_counts()`, and `sort_values()`."
      ],
      "text/plain": [
       "Hint: Use `fillna()`, `value_counts()`, and `sort_values()`."
      ]
     },
     "metadata": {},
     "output_type": "display_data"
    },
    {
     "data": {
      "application/javascript": [
       "parent.postMessage({\"jupyterEvent\": \"custom.exercise_interaction\", \"data\": {\"interactionType\": 3, \"questionType\": 2, \"questionId\": \"4_ReviewsPerRegion\", \"learnToolsVersion\": \"0.3.4\", \"valueTowardsCompletion\": 0.0, \"failureMessage\": \"\", \"exceptionClass\": \"\", \"trace\": \"\", \"outcomeType\": 4}}, \"*\")"
      ],
      "text/plain": [
       "<IPython.core.display.Javascript object>"
      ]
     },
     "metadata": {},
     "output_type": "display_data"
    },
    {
     "data": {
      "text/markdown": [
       "<span style=\"color:#33cc99\">Solution:</span> \n",
       "```python\n",
       "reviews_per_region = reviews.region_1.fillna('Unknown').value_counts().sort_values(ascending=False)\n",
       "```"
      ],
      "text/plain": [
       "Solution: \n",
       "```python\n",
       "reviews_per_region = reviews.region_1.fillna('Unknown').value_counts().sort_values(ascending=False)\n",
       "```"
      ]
     },
     "metadata": {},
     "output_type": "display_data"
    }
   ],
   "source": [
    "q4.hint()\n",
    "q4.solution()"
   ]
  },
  {
   "cell_type": "markdown",
   "metadata": {
    "papermill": {
     "duration": 0.027835,
     "end_time": "2021-01-02T10:18:50.648798",
     "exception": false,
     "start_time": "2021-01-02T10:18:50.620963",
     "status": "completed"
    },
    "tags": []
   },
   "source": [
    "# Keep going\n",
    "\n",
    "Move on to **[renaming and combining](https://www.kaggle.com/residentmario/renaming-and-combining)**."
   ]
  },
  {
   "cell_type": "markdown",
   "metadata": {
    "papermill": {
     "duration": 0.032716,
     "end_time": "2021-01-02T10:18:50.711403",
     "exception": false,
     "start_time": "2021-01-02T10:18:50.678687",
     "status": "completed"
    },
    "tags": []
   },
   "source": [
    "---\n",
    "\n",
    "\n",
    "\n",
    "\n",
    "*Have questions or comments? Visit the [Learn Discussion forum](https://www.kaggle.com/learn-forum/161299) to chat with other Learners.*"
   ]
  }
 ],
 "metadata": {
  "kernelspec": {
   "display_name": "Python 3",
   "language": "python",
   "name": "python3"
  },
  "language_info": {
   "codemirror_mode": {
    "name": "ipython",
    "version": 3
   },
   "file_extension": ".py",
   "mimetype": "text/x-python",
   "name": "python",
   "nbconvert_exporter": "python",
   "pygments_lexer": "ipython3",
   "version": "3.7.6"
  },
  "papermill": {
   "duration": 9.145336,
   "end_time": "2021-01-02T10:18:50.856106",
   "environment_variables": {},
   "exception": null,
   "input_path": "__notebook__.ipynb",
   "output_path": "__notebook__.ipynb",
   "parameters": {},
   "start_time": "2021-01-02T10:18:41.710770",
   "version": "2.1.0"
  }
 },
 "nbformat": 4,
 "nbformat_minor": 4
}
